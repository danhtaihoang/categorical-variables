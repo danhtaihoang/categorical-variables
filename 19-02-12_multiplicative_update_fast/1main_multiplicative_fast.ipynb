{
 "cells": [
  {
   "cell_type": "code",
   "execution_count": 1,
   "metadata": {},
   "outputs": [],
   "source": [
    "import sys\n",
    "import numpy as np\n",
    "from sklearn.preprocessing import OneHotEncoder\n",
    "#import inference\n",
    "from scipy import linalg\n",
    "import matplotlib.pyplot as plt\n",
    "%matplotlib inline"
   ]
  },
  {
   "cell_type": "code",
   "execution_count": 2,
   "metadata": {},
   "outputs": [],
   "source": [
    "np.random.seed(1)\n",
    "\n",
    "l1 = 0.000 # regularization\n",
    "nloop = 20\n",
    "\n",
    "s0 = np.loadtxt('s0_simulated_original.txt')\n",
    "w0 = np.loadtxt('w0.txt') \n",
    "# convert to onehot\n",
    "onehot_encoder = OneHotEncoder(sparse=False)\n",
    "s = onehot_encoder.fit_transform(s0)"
   ]
  },
  {
   "cell_type": "code",
   "execution_count": 3,
   "metadata": {},
   "outputs": [],
   "source": [
    "n = s0.shape[1]\n",
    "mx = np.array([len(np.unique(s0[:,i])) for i in range(n)])\n",
    "mx_cumsum = np.insert(mx.cumsum(),0,0)\n",
    "i1i2 = np.stack([mx_cumsum[:-1],mx_cumsum[1:]]).T "
   ]
  },
  {
   "cell_type": "code",
   "execution_count": 4,
   "metadata": {},
   "outputs": [],
   "source": [
    "def fit_multiplicative_new(x,y,nloop=20):\n",
    "    mx = x.shape[1]\n",
    "    my = y.shape[1]\n",
    "\n",
    "    y2 = 2*y-1\n",
    "\n",
    "    x_av = x.mean(axis=0)\n",
    "    dx = x - x_av\n",
    "    c = np.cov(dx,rowvar=False,bias=True)\n",
    "    c_inv = linalg.pinvh(c)\n",
    "\n",
    "    w = np.random.normal(0.0,1./np.sqrt(mx),size=(mx,my))\n",
    "    h0 = np.random.normal(0.0,1./np.sqrt(mx),size=my)\n",
    "\n",
    "    cost = np.full(nloop,100.)         \n",
    "    for iloop in range(nloop):\n",
    "        h = h0[np.newaxis,:] + x.dot(w)\n",
    "\n",
    "        p = np.exp(h)\n",
    "        p_sum = p.sum(axis=1)       \n",
    "\n",
    "        p2 = p_sum[:,np.newaxis] - p\n",
    "        h2 = np.log(p2)\n",
    "\n",
    "        hh2 = h-h2\n",
    "        model_ex = np.tanh(hh2/2)\n",
    "\n",
    "        cost[iloop] = ((y2 - model_ex)**2).mean()\n",
    "        if iloop > 0 and cost[iloop] >= cost[iloop-1]: break\n",
    "        #print(cost[iloop])\n",
    "\n",
    "        t = hh2 !=0    \n",
    "        h[t] = h2[t] + y2[t]*hh2[t]/model_ex[t]\n",
    "        h[~t] = h2[~t] + y2[~t]*2\n",
    "\n",
    "        h_av = h.mean(axis=0)\n",
    "        dh = h - h_av\n",
    "\n",
    "        dhdx = dh[:,np.newaxis,:]*dx[:,:,np.newaxis]\n",
    "        dhdx_av = dhdx.mean(axis=0)\n",
    "        w = c_inv.dot(dhdx_av)            \n",
    "        w -= w.mean(axis=0) \n",
    "\n",
    "        h0 = h_av - x_av.dot(w)\n",
    "        h0 -= h0.mean() \n",
    "    return w,h0,cost,iloop"
   ]
  },
  {
   "cell_type": "code",
   "execution_count": 5,
   "metadata": {},
   "outputs": [
    {
     "name": "stdout",
     "output_type": "stream",
     "text": [
      "('i0:', 0)\n",
      "('i0:', 1)\n",
      "('i0:', 2)\n",
      "('i0:', 3)\n",
      "('i0:', 4)\n",
      "('i0:', 5)\n",
      "('i0:', 6)\n",
      "('i0:', 7)\n",
      "('i0:', 8)\n",
      "('i0:', 9)\n",
      "('i0:', 10)\n",
      "('i0:', 11)\n",
      "('i0:', 12)\n",
      "('i0:', 13)\n",
      "('i0:', 14)\n",
      "('i0:', 15)\n",
      "('i0:', 16)\n",
      "('i0:', 17)\n",
      "('i0:', 18)\n",
      "('i0:', 19)\n"
     ]
    }
   ],
   "source": [
    "# inferring h0 and w\n",
    "mx_sum = mx.sum()\n",
    "my_sum = mx.sum() #!!!! my_sum = mx_sum\n",
    "\n",
    "w = np.zeros((mx_sum,my_sum))\n",
    "h0 = np.zeros(my_sum)\n",
    "cost = np.zeros((n,nloop))\n",
    "\n",
    "niter = np.zeros(n)\n",
    "for i0 in range(n):\n",
    "    print('i0:',i0)\n",
    "    i1,i2 = i1i2[i0,0],i1i2[i0,1]\n",
    "\n",
    "    x = np.hstack([s[:,:i1],s[:,i2:]])\n",
    "    y = s[:,i1:i2]\n",
    "\n",
    "    w1,h01,cost1,niter1 = fit_multiplicative_new(x,y,nloop)\n",
    "\n",
    "    w[:i1,i1:i2] = w1[:i1,:]\n",
    "    w[i2:,i1:i2] = w1[i1:,:]\n",
    "    \n",
    "    h0[i1:i2] = h01\n",
    "    cost[i0,:] = cost1\n",
    "    niter[i0] = niter1"
   ]
  },
  {
   "cell_type": "code",
   "execution_count": 6,
   "metadata": {},
   "outputs": [
    {
     "data": {
      "image/png": "[encoded data removed]",
      "text/plain": [
       "<Figure size 432x288 with 1 Axes>"
      ]
     },
     "metadata": {},
     "output_type": "display_data"
    }
   ],
   "source": [
    "plt.plot([-1,1],[-1,1],'r--')\n",
    "plt.ylim([-1.0,1.0])\n",
    "plt.scatter(np.triu(w0),np.triu(w))\n",
    "plt.show()"
   ]
  },
  {
   "cell_type": "code",
   "execution_count": 7,
   "metadata": {},
   "outputs": [
    {
     "name": "stdout",
     "output_type": "stream",
     "text": [
      "[ 6. 19.  8.  8.  8. 12. 10.  6.  8.  5.  6.  8.  6.  6.  9.  6.  6.  7.\n",
      "  8.  8.]\n"
     ]
    }
   ],
   "source": [
    "print(niter)"
   ]
  },
  {
   "cell_type": "code",
   "execution_count": null,
   "metadata": {},
   "outputs": [],
   "source": []
  }
 ],
 "metadata": {
  "kernelspec": {
   "display_name": "Python 2",
   "language": "python",
   "name": "python2"
  },
  "language_info": {
   "codemirror_mode": {
    "name": "ipython",
    "version": 2
   },
   "file_extension": ".py",
   "mimetype": "text/x-python",
   "name": "python",
   "nbconvert_exporter": "python",
   "pygments_lexer": "ipython2",
   "version": "2.7.15"
  }
 },
 "nbformat": 4,
 "nbformat_minor": 2
}
