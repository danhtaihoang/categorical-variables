{
 "cells": [
  {
   "cell_type": "code",
   "execution_count": 1,
   "metadata": {},
   "outputs": [],
   "source": [
    "import sys,os\n",
    "import numpy as np\n",
    "from scipy import linalg\n",
    "from sklearn.preprocessing import OneHotEncoder\n",
    "#from scipy.sparse import csr_matrix\n",
    "#import Bio\n",
    "import matplotlib.pyplot as plt"
   ]
  },
  {
   "cell_type": "code",
   "execution_count": 2,
   "metadata": {
    "scrolled": true
   },
   "outputs": [],
   "source": [
    "# setting parameter:\n",
    "\n",
    "np.random.seed(1)\n",
    "\n",
    "n = 10 # number of positions\n",
    "m = 3 # number of values at each position\n",
    "l = 1000 # number of samples"
   ]
  },
  {
   "cell_type": "code",
   "execution_count": 3,
   "metadata": {},
   "outputs": [
    {
     "name": "stdout",
     "output_type": "stream",
     "text": [
      "(30, 30)\n"
     ]
    },
    {
     "data": {
      "image/png": "[encoded data removed]",
      "text/plain": [
       "<Figure size 216x216 with 2 Axes>"
      ]
     },
     "metadata": {},
     "output_type": "display_data"
    }
   ],
   "source": [
    "# generate coupling matrix w0:\n",
    "\n",
    "g = 2.\n",
    "nm = n*m\n",
    "w0 = np.random.normal(0.0,g/np.sqrt(nm),size=(nm,nm))\n",
    "print(w0.shape)\n",
    "\n",
    "# no self-interaction:\n",
    "for i in range(n):\n",
    "    i1 = i*m\n",
    "    i2 = (i+1)*m \n",
    "    w0[i1:i2,i1:i2] = 0.\n",
    "\n",
    "# symmetry interaction\n",
    "for i in range(nm):\n",
    "    for j in range(nm):\n",
    "        if j > i: w0[i,j] = w0[j,i]\n",
    "\n",
    "for i in range(n):\n",
    "    i1 = i*m\n",
    "    i2 = (i+1)*m \n",
    "    w0[i1:i2,:] = w0[i1:i2,:] - w0[i1:i2,:].sum(axis=0)\n",
    "            \n",
    "plt.figure(figsize=(3,3))\n",
    "plt.title('actual coupling matrix')\n",
    "plt.imshow(w0,cmap='rainbow',origin='lower')\n",
    "plt.xlabel('j')\n",
    "plt.ylabel('i')\n",
    "plt.clim(-0.5,0.5)\n",
    "plt.colorbar(fraction=0.045, pad=0.05,ticks=[-0.5,0,0.5])\n",
    "plt.show()"
   ]
  },
  {
   "cell_type": "code",
   "execution_count": 4,
   "metadata": {},
   "outputs": [],
   "source": [
    "# generate sequences:\n",
    "def generate_sequences(w,n,m,l): \n",
    "        \n",
    "    # initial s\n",
    "    s_ini = np.random.randint(0,m,size=(l,n))\n",
    "    #print(s_ini)\n",
    "    \n",
    "    # onehot encoder\n",
    "    enc = OneHotEncoder(n_values=m)\n",
    "    #s = csr_matrix(enc.fit_transform(s_ini)).toarray()\n",
    "    s = enc.fit_transform(s_ini).toarray()\n",
    "    #print(s)\n",
    "    \n",
    "    nflip = 100\n",
    "    ntrial = 20\n",
    "    for iflip in range(nflip):\n",
    "        for i in range(n):\n",
    "            i1 = i*m\n",
    "            i2 = (i+1)*m   \n",
    "            h = np.dot(s,w0.T)\n",
    "\n",
    "            for t in range(l):                \n",
    "                p1 = np.exp(h[t,i1:i2])\n",
    "                #print(p1)\n",
    "                p2 = p1.sum()\n",
    "                p = p1/p2\n",
    "\n",
    "                for itrial in range(ntrial):\n",
    "                    k = np.random.randint(0,m)\n",
    "\n",
    "                    if p[k] > np.random.rand():\n",
    "                        s[t,i1:i2] = 0.\n",
    "                        s[t,i1+k] = 1.\n",
    "\n",
    "                        #print('flip',itrial,i,k,p[k])                  \n",
    "\n",
    "                        break                         \n",
    "    return s\n",
    "\n",
    "s = generate_sequences(w0,n,m,l)\n",
    "#print(s)                "
   ]
  },
  {
   "cell_type": "code",
   "execution_count": 5,
   "metadata": {},
   "outputs": [
    {
     "name": "stdout",
     "output_type": "stream",
     "text": [
      "(0, array([0.35 ,   nan, 0.389]))\n",
      "(1, array([nan, nan, nan]))\n",
      "(2, array([nan, nan, nan]))\n",
      "(3, array([nan, nan, nan]))\n",
      "(4, array([nan, nan, nan]))\n"
     ]
    },
    {
     "name": "stderr",
     "output_type": "stream",
     "text": [
      "/home/tai/anaconda2/lib/python2.7/site-packages/ipykernel_launcher.py:53: RuntimeWarning: invalid value encountered in divide\n"
     ]
    }
   ],
   "source": [
    "nloop = 5\n",
    "\n",
    "# w initial\n",
    "W = np.random.normal(0.0,g/np.sqrt(nm),size=(nm,nm))\n",
    "# no self-interaction:\n",
    "for i in range(n):\n",
    "    i1 = i*m\n",
    "    i2 = (i+1)*m \n",
    "    W[i1:i2,i1:i2] = 0.\n",
    "\n",
    "H = np.dot(s,W.T)\n",
    "\n",
    "#print(H)\n",
    "#print(H.shape)\n",
    "\n",
    "# for i in range(n):\n",
    "i = 0\n",
    "i1 = i*m\n",
    "i2 = (i+1)*m\n",
    "\n",
    "# remove position i \n",
    "s1 = np.hstack([s[:,:i1],s[:,i2:]])\n",
    "#print(s1)\n",
    "s_av = s1.mean(axis=0)\n",
    "ds = s1 - s_av\n",
    "\n",
    "c = np.cov(ds,rowvar=False,bias=True)\n",
    "c_inv = linalg.inv(c)\n",
    "dst = ds.T    \n",
    "\n",
    "h = H[:,i1:i2]\n",
    "\n",
    "for iloop in range(nloop):\n",
    "    h_av = h.mean(axis=0)\n",
    "    dh = h - h_av\n",
    "\n",
    "    # dhds[t,i,j] = dh[t,i]*ds[t,j]\n",
    "    dhds = dh[:,:,np.newaxis]*ds[:,np.newaxis,:]\n",
    "    dhds_av = dhds.mean(axis=0)\n",
    "\n",
    "    w = np.dot(dhds_av,c_inv)\n",
    "    #print(w)\n",
    "\n",
    "    w = w - w.sum(axis=0)\n",
    "        \n",
    "    h = np.dot(s1,w.T)\n",
    "    p1 = np.exp(h)\n",
    "    #print(p1)\n",
    "\n",
    "    p2 = p1.sum(axis=1)\n",
    "    #print(p2)\n",
    "\n",
    "    p = p1/p2[:,np.newaxis]\n",
    "    #print(p)\n",
    "\n",
    "    h += s[:,i1:i2] - p\n",
    "    cost = np.mean((s[:,i1:i2]-p)**2,axis=0)\n",
    "    print(iloop,cost)   \n",
    "    "
   ]
  },
  {
   "cell_type": "code",
   "execution_count": 6,
   "metadata": {},
   "outputs": [
    {
     "name": "stdout",
     "output_type": "stream",
     "text": [
      "[[nan nan nan nan nan nan nan nan nan nan nan nan nan nan nan nan nan nan\n",
      "  nan nan nan nan nan nan nan nan nan]\n",
      " [nan nan nan nan nan nan nan nan nan nan nan nan nan nan nan nan nan nan\n",
      "  nan nan nan nan nan nan nan nan nan]\n",
      " [nan nan nan nan nan nan nan nan nan nan nan nan nan nan nan nan nan nan\n",
      "  nan nan nan nan nan nan nan nan nan]]\n"
     ]
    },
    {
     "data": {
      "text/plain": [
       "<matplotlib.collections.PathCollection at 0x7fc2744ade90>"
      ]
     },
     "execution_count": 6,
     "metadata": {},
     "output_type": "execute_result"
    },
    {
     "data": {
      "image/png": "[encoded data removed]",
      "text/plain": [
       "<Figure size 432x288 with 1 Axes>"
      ]
     },
     "metadata": {},
     "output_type": "display_data"
    }
   ],
   "source": [
    "print(w)\n",
    "wpred = np.zeros((nm,nm))\n",
    "wpred[i1:i2,:i1] = w[:,:i1]\n",
    "wpred[i1:i2,i2:] = w[:,i1:]\n",
    "\n",
    "plt.scatter(w0[i1:i2,i2:],wpred[i1:i2,i2:])"
   ]
  },
  {
   "cell_type": "code",
   "execution_count": null,
   "metadata": {},
   "outputs": [],
   "source": [
    "from inference_protein \n",
    "\n",
    "iterate3(seqs,w,b,index,n_iter=6)\n"
   ]
  }
 ],
 "metadata": {
  "kernelspec": {
   "display_name": "Python 2",
   "language": "python",
   "name": "python2"
  },
  "language_info": {
   "codemirror_mode": {
    "name": "ipython",
    "version": 2
   },
   "file_extension": ".py",
   "mimetype": "text/x-python",
   "name": "python",
   "nbconvert_exporter": "python",
   "pygments_lexer": "ipython2",
   "version": "2.7.15"
  }
 },
 "nbformat": 4,
 "nbformat_minor": 2
}
