{
 "cells": [
  {
   "cell_type": "markdown",
   "metadata": {},
   "source": [
    "## eps_AB = +1 if A, -1 if B, 0 if not A nor B"
   ]
  },
  {
   "cell_type": "code",
   "execution_count": 5,
   "metadata": {},
   "outputs": [],
   "source": [
    "import sys,os\n",
    "import numpy as np\n",
    "from scipy import linalg\n",
    "from sklearn.preprocessing import OneHotEncoder"
   ]
  },
  {
   "cell_type": "code",
   "execution_count": 6,
   "metadata": {},
   "outputs": [
    {
     "name": "stdout",
     "output_type": "stream",
     "text": [
      "[[1 2]\n",
      " [0 1]\n",
      " [2 1]]\n"
     ]
    }
   ],
   "source": [
    "n = 2 # number of variables\n",
    "m = 3 # number of states of each variables\n",
    "l = 3 # sample size\n",
    "\n",
    "# original\n",
    "s0 = np.array([[1,2],[0,1],[2,1]])\n",
    "print(s0)"
   ]
  },
  {
   "cell_type": "code",
   "execution_count": 7,
   "metadata": {},
   "outputs": [],
   "source": [
    "def eps_ab(s0,m):\n",
    "    l,n = s0.shape\n",
    "    eps = np.zeros((n,l,m,m))\n",
    "    for i in range(n):\n",
    "        for t in range(l):\n",
    "            eps[i,t,:,int(s0[t,i])] = -1.\n",
    "            eps[i,t,int(s0[t,i]),:] = 1.\n",
    "    return eps"
   ]
  },
  {
   "cell_type": "code",
   "execution_count": 8,
   "metadata": {},
   "outputs": [
    {
     "name": "stdout",
     "output_type": "stream",
     "text": [
      "[[[ 0. -1.  0.]\n",
      "  [ 1.  1.  1.]\n",
      "  [ 0. -1.  0.]]\n",
      "\n",
      " [[ 1.  1.  1.]\n",
      "  [-1.  0.  0.]\n",
      "  [-1.  0.  0.]]\n",
      "\n",
      " [[ 0.  0. -1.]\n",
      "  [ 0.  0. -1.]\n",
      "  [ 1.  1.  1.]]]\n"
     ]
    }
   ],
   "source": [
    "eps_all = eps_ab(s0,m)\n",
    "\n",
    "eps = eps_all[0]\n",
    "print(eps)"
   ]
  },
  {
   "cell_type": "code",
   "execution_count": 9,
   "metadata": {},
   "outputs": [
    {
     "name": "stdout",
     "output_type": "stream",
     "text": [
      "[[[ 0.  0. -1.]\n",
      "  [ 0.  0. -1.]\n",
      "  [ 1.  1.  1.]]\n",
      "\n",
      " [[ 0. -1.  0.]\n",
      "  [ 1.  1.  1.]\n",
      "  [ 0. -1.  0.]]\n",
      "\n",
      " [[ 0. -1.  0.]\n",
      "  [ 1.  1.  1.]\n",
      "  [ 0. -1.  0.]]]\n"
     ]
    }
   ],
   "source": [
    "print(eps_all[1])"
   ]
  },
  {
   "cell_type": "code",
   "execution_count": null,
   "metadata": {},
   "outputs": [],
   "source": []
  }
 ],
 "metadata": {
  "kernelspec": {
   "display_name": "Python 2",
   "language": "python",
   "name": "python2"
  },
  "language_info": {
   "codemirror_mode": {
    "name": "ipython",
    "version": 2
   },
   "file_extension": ".py",
   "mimetype": "text/x-python",
   "name": "python",
   "nbconvert_exporter": "python",
   "pygments_lexer": "ipython2",
   "version": "2.7.15"
  }
 },
 "nbformat": 4,
 "nbformat_minor": 2
}
