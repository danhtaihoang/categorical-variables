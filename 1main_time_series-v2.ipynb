{
 "cells": [
  {
   "cell_type": "markdown",
   "metadata": {},
   "source": [
    "2018.10.27: Multiple states: Time series"
   ]
  },
  {
   "cell_type": "code",
   "execution_count": 1,
   "metadata": {},
   "outputs": [],
   "source": [
    "import sys,os\n",
    "import numpy as np\n",
    "from scipy import linalg\n",
    "from sklearn.preprocessing import OneHotEncoder\n",
    "import matplotlib.pyplot as plt\n",
    "%matplotlib inline"
   ]
  },
  {
   "cell_type": "code",
   "execution_count": 2,
   "metadata": {
    "scrolled": true
   },
   "outputs": [],
   "source": [
    "# setting parameter:\n",
    "np.random.seed(1)\n",
    "\n",
    "n = 10 # number of positions\n",
    "m = 4 # number of values at each position\n",
    "l = 1000 # number of samples\n",
    "\n",
    "g = 1."
   ]
  },
  {
   "cell_type": "code",
   "execution_count": 3,
   "metadata": {},
   "outputs": [],
   "source": [
    "def itab(n,m):    \n",
    "    i1 = np.zeros(n)\n",
    "    i2 = np.zeros(n)\n",
    "    for i in range(n):\n",
    "        i1[i] = i*m\n",
    "        i2[i] = (i+1)*m\n",
    "\n",
    "    return i1.astype(int),i2.astype(int)\n",
    "\n",
    "i1tab,i2tab = itab(n,m)"
   ]
  },
  {
   "cell_type": "code",
   "execution_count": 4,
   "metadata": {
    "scrolled": false
   },
   "outputs": [],
   "source": [
    "# generate coupling matrix w0:\n",
    "def generate_coupling(n,m,g):\n",
    "    nm = n*m\n",
    "    w = np.random.normal(0.0,g/np.sqrt(nm),size=(nm,nm))\n",
    "    \n",
    "    for i in range(n):\n",
    "        i1,i2 = i1tab[i],i2tab[i]\n",
    "        w[i1:i2,:] -= w[i1:i2,:].mean(axis=0)            \n",
    "\n",
    "    for i in range(n):\n",
    "        i1,i2 = i1tab[i],i2tab[i]\n",
    "        w[:,i1:i2] -= w[:,i1:i2].mean(axis=1)[:,np.newaxis]            \n",
    "        \n",
    "    return w"
   ]
  },
  {
   "cell_type": "code",
   "execution_count": 5,
   "metadata": {},
   "outputs": [
    {
     "data": {
      "text/plain": [
       "\"\\nplt.figure(figsize=(3,3))\\nplt.title('actual coupling matrix')\\nplt.imshow(w0,cmap='rainbow',origin='lower')\\nplt.xlabel('j')\\nplt.ylabel('i')\\nplt.clim(-0.3,0.3)\\nplt.colorbar(fraction=0.045, pad=0.05,ticks=[-0.3,0,0.3])\\nplt.show()\\n\""
      ]
     },
     "execution_count": 5,
     "metadata": {},
     "output_type": "execute_result"
    }
   ],
   "source": [
    "w0 = generate_coupling(n,m,g)\n",
    "\"\"\"\n",
    "plt.figure(figsize=(3,3))\n",
    "plt.title('actual coupling matrix')\n",
    "plt.imshow(w0,cmap='rainbow',origin='lower')\n",
    "plt.xlabel('j')\n",
    "plt.ylabel('i')\n",
    "plt.clim(-0.3,0.3)\n",
    "plt.colorbar(fraction=0.045, pad=0.05,ticks=[-0.3,0,0.3])\n",
    "plt.show()\n",
    "\"\"\""
   ]
  },
  {
   "cell_type": "code",
   "execution_count": 6,
   "metadata": {},
   "outputs": [],
   "source": [
    "# 2018.10.27: generate sequences: time series\n",
    "def generate_sequences(w,n,m,l): \n",
    "    #print(i1tab,i2tab)\n",
    "    \n",
    "    # initial s (categorical variables)\n",
    "    s_ini = np.random.randint(0,m,size=(l,n)) # integer values\n",
    "    #print(s_ini)\n",
    "\n",
    "    # onehot encoder \n",
    "    enc = OneHotEncoder(n_values=m)\n",
    "    s = enc.fit_transform(s_ini).toarray()\n",
    "    #print(s) \n",
    "\n",
    "    ntrial = 100\n",
    "\n",
    "    for t in range(l-1):\n",
    "        h = np.sum(s[t,:]*w[:,:],axis=1)\n",
    "        for i in range(n):\n",
    "            i1,i2 = i1tab[i],i2tab[i]\n",
    "    \n",
    "            p1 = np.exp(h[i1:i2])\n",
    "            p = p1/p1.sum()\n",
    "\n",
    "            for itrial in range(ntrial):\n",
    "                k = np.random.randint(0,m)\n",
    "                if p[k] > np.random.rand():\n",
    "                    s[t+1,i1:i2] = 0.\n",
    "                    s[t+1,i1+k] = 1.\n",
    "                break\n",
    "            \n",
    "            \"\"\"\n",
    "            if p[0] > np.random.rand():\n",
    "                s[t+1,i1] = 1.\n",
    "                s[t+1,i1+1] = 0.\n",
    "            else:\n",
    "                s[t+1,i1] = 0.\n",
    "                s[t+1,i1] = 1.                                \n",
    "            \"\"\"\n",
    "    return s            "
   ]
  },
  {
   "cell_type": "code",
   "execution_count": 7,
   "metadata": {},
   "outputs": [],
   "source": [
    "s = generate_sequences(w0,n,m,l) "
   ]
  },
  {
   "cell_type": "code",
   "execution_count": 8,
   "metadata": {
    "scrolled": true
   },
   "outputs": [
    {
     "name": "stdout",
     "output_type": "stream",
     "text": [
      "[[0. 0. 1. 0. 0. 0. 1. 0. 0. 1. 0. 0. 0. 1. 0. 0. 0. 1. 0. 0. 0. 1. 0. 0.\n",
      "  0. 0. 0. 1. 1. 0. 0. 0. 0. 0. 1. 0. 0. 0. 1. 0.]\n",
      " [0. 0. 0. 1. 0. 1. 0. 0. 0. 0. 1. 0. 0. 0. 0. 1. 0. 0. 1. 0. 1. 0. 0. 0.\n",
      "  0. 0. 0. 1. 0. 1. 0. 0. 0. 1. 0. 0. 0. 0. 0. 1.]\n",
      " [1. 0. 0. 0. 1. 0. 0. 0. 1. 0. 0. 0. 0. 1. 0. 0. 0. 0. 0. 1. 1. 0. 0. 0.\n",
      "  0. 0. 1. 0. 0. 0. 0. 1. 0. 0. 0. 1. 0. 0. 1. 0.]\n",
      " [1. 0. 0. 0. 1. 0. 0. 0. 1. 0. 0. 0. 1. 0. 0. 0. 0. 1. 0. 0. 0. 1. 0. 0.\n",
      "  1. 0. 0. 0. 0. 1. 0. 0. 0. 0. 1. 0. 1. 0. 0. 0.]\n",
      " [0. 0. 1. 0. 0. 0. 1. 0. 0. 1. 0. 0. 0. 0. 1. 0. 0. 0. 1. 0. 0. 1. 0. 0.\n",
      "  0. 0. 0. 1. 1. 0. 0. 0. 0. 1. 0. 0. 0. 0. 1. 0.]\n",
      " [0. 1. 0. 0. 0. 1. 0. 0. 0. 1. 0. 0. 0. 0. 0. 1. 0. 1. 0. 0. 0. 1. 0. 0.\n",
      "  1. 0. 0. 0. 1. 0. 0. 0. 0. 1. 0. 0. 1. 0. 0. 0.]\n",
      " [0. 0. 0. 1. 0. 0. 1. 0. 1. 0. 0. 0. 1. 0. 0. 0. 1. 0. 0. 0. 0. 0. 0. 1.\n",
      "  0. 0. 1. 0. 0. 0. 0. 1. 0. 0. 1. 0. 0. 0. 0. 1.]\n",
      " [0. 0. 1. 0. 0. 0. 1. 0. 0. 0. 1. 0. 0. 0. 0. 1. 0. 0. 1. 0. 0. 0. 1. 0.\n",
      "  0. 1. 0. 0. 0. 0. 1. 0. 0. 0. 0. 1. 1. 0. 0. 0.]\n",
      " [0. 0. 1. 0. 1. 0. 0. 0. 0. 1. 0. 0. 1. 0. 0. 0. 1. 0. 0. 0. 0. 0. 0. 1.\n",
      "  0. 0. 1. 0. 0. 0. 1. 0. 1. 0. 0. 0. 0. 0. 0. 1.]\n",
      " [0. 0. 1. 0. 1. 0. 0. 0. 1. 0. 0. 0. 0. 1. 0. 0. 0. 0. 1. 0. 0. 0. 0. 1.\n",
      "  1. 0. 0. 0. 0. 1. 0. 0. 0. 0. 1. 0. 0. 1. 0. 0.]]\n"
     ]
    }
   ],
   "source": [
    "print(s[:10])"
   ]
  },
  {
   "cell_type": "code",
   "execution_count": 9,
   "metadata": {},
   "outputs": [],
   "source": [
    "# convert variable from {1,0} to {1,-1}\n",
    "#s = 2*s - 1"
   ]
  },
  {
   "cell_type": "code",
   "execution_count": 10,
   "metadata": {},
   "outputs": [],
   "source": [
    "s_av = np.mean(s[:-1],axis=0)\n",
    "ds = s[:-1] - s_av\n",
    "c = np.cov(ds,rowvar=False,bias=True)\n",
    "#print(c)"
   ]
  },
  {
   "cell_type": "code",
   "execution_count": 11,
   "metadata": {},
   "outputs": [],
   "source": [
    "c_inv = linalg.pinv(c,rcond=1e-15)\n",
    "#print(c_inv)"
   ]
  },
  {
   "cell_type": "code",
   "execution_count": 12,
   "metadata": {},
   "outputs": [],
   "source": [
    "nm = n*m\n",
    "wini = np.random.normal(0.0,g/np.sqrt(nm),size=(nm,nm))\n",
    "#print(w)\n",
    "\n",
    "nloop = 100\n",
    "w_infer = np.zeros((nm,nm))\n",
    "\n",
    "for i in range(n):\n",
    "    #print(i)\n",
    "    i1,i2 = i1tab[i],i2tab[i]\n",
    "    #s1 = np.copy(s[1:,i1:i2])\n",
    "\n",
    "    w = wini[i1:i2,:]\n",
    "    h = s[1:,i1:i2]\n",
    "    for iloop in range(nloop):\n",
    "        h_av = h.mean(axis=0)\n",
    "        dh = h - h_av\n",
    "\n",
    "        dhds = dh[:,:,np.newaxis]*ds[:,np.newaxis,:]\n",
    "        dhds_av = dhds.mean(axis=0)\n",
    "\n",
    "        w = np.dot(dhds_av,c_inv)\n",
    "        \n",
    "        h = np.dot(s[:-1],w.T)\n",
    "        \n",
    "        p = np.exp(h)\n",
    "        p_sum = p.sum(axis=1)\n",
    "        \n",
    "        for k in range(m):\n",
    "            p[:,k] = p[:,k]/p_sum[:]\n",
    "\n",
    "        h += s[1:,i1:i2] - p\n",
    "                \n",
    "\n",
    "                \n",
    "        #h += s[1:,i1:i2]/p\n",
    "        #cost = ((s[1:,i1:i2]-p)**2).mean(axis=0)\n",
    "        #print(i,iloop,cost)\n",
    "\n",
    "        #w = w - w.mean(axis=0)    \n",
    "    w_infer[i1:i2,:] = w        "
   ]
  },
  {
   "cell_type": "code",
   "execution_count": 13,
   "metadata": {},
   "outputs": [
    {
     "data": {
      "text/plain": [
       "[<matplotlib.lines.Line2D at 0x7f82b3aa1750>]"
      ]
     },
     "execution_count": 13,
     "metadata": {},
     "output_type": "execute_result"
    },
    {
     "data": {
      "image/png": "[encoded data removed]",
      "text/plain": [
       "<Figure size 432x288 with 1 Axes>"
      ]
     },
     "metadata": {},
     "output_type": "display_data"
    }
   ],
   "source": [
    "plt.scatter(w0,w_infer)\n",
    "plt.plot([-0.3,0.3],[-0.3,0.3],'r--')"
   ]
  }
 ],
 "metadata": {
  "kernelspec": {
   "display_name": "Python 2",
   "language": "python",
   "name": "python2"
  },
  "language_info": {
   "codemirror_mode": {
    "name": "ipython",
    "version": 2
   },
   "file_extension": ".py",
   "mimetype": "text/x-python",
   "name": "python",
   "nbconvert_exporter": "python",
   "pygments_lexer": "ipython2",
   "version": "2.7.15"
  }
 },
 "nbformat": 4,
 "nbformat_minor": 2
}
