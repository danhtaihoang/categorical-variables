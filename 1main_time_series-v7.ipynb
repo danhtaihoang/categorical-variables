{
 "cells": [
  {
   "cell_type": "markdown",
   "metadata": {},
   "source": [
    "2018.10.27: Multiple states: Time series"
   ]
  },
  {
   "cell_type": "code",
   "execution_count": 1,
   "metadata": {},
   "outputs": [],
   "source": [
    "import sys,os\n",
    "import numpy as np\n",
    "from scipy import linalg\n",
    "from sklearn.preprocessing import OneHotEncoder\n",
    "import matplotlib.pyplot as plt\n",
    "%matplotlib inline"
   ]
  },
  {
   "cell_type": "code",
   "execution_count": 2,
   "metadata": {
    "scrolled": true
   },
   "outputs": [],
   "source": [
    "# setting parameter:\n",
    "np.random.seed(1)\n",
    "\n",
    "n = 10 # number of positions\n",
    "m = 3 # number of values at each position\n",
    "l = 2*((n*m)**2) # number of samples\n",
    "\n",
    "g = 1."
   ]
  },
  {
   "cell_type": "code",
   "execution_count": 3,
   "metadata": {},
   "outputs": [],
   "source": [
    "def itab(n,m):    \n",
    "    i1 = np.zeros(n)\n",
    "    i2 = np.zeros(n)\n",
    "    for i in range(n):\n",
    "        i1[i] = i*m\n",
    "        i2[i] = (i+1)*m\n",
    "\n",
    "    return i1.astype(int),i2.astype(int)\n",
    "\n",
    "i1tab,i2tab = itab(n,m)"
   ]
  },
  {
   "cell_type": "code",
   "execution_count": 4,
   "metadata": {
    "scrolled": false
   },
   "outputs": [],
   "source": [
    "# generate coupling matrix w0:\n",
    "def generate_coupling(n,m,g):\n",
    "    nm = n*m\n",
    "    w = np.random.normal(0.0,g/np.sqrt(nm),size=(nm,nm))\n",
    "    \n",
    "    for i in range(n):\n",
    "        i1,i2 = i1tab[i],i2tab[i]\n",
    "        w[i1:i2,:] -= w[i1:i2,:].mean(axis=0)            \n",
    "\n",
    "    for i in range(n):\n",
    "        i1,i2 = i1tab[i],i2tab[i]\n",
    "        w[:,i1:i2] -= w[:,i1:i2].mean(axis=1)[:,np.newaxis]            \n",
    "        \n",
    "    return w"
   ]
  },
  {
   "cell_type": "code",
   "execution_count": 5,
   "metadata": {},
   "outputs": [],
   "source": [
    "w0 = generate_coupling(n,m,g)"
   ]
  },
  {
   "cell_type": "code",
   "execution_count": 6,
   "metadata": {},
   "outputs": [],
   "source": [
    "# 2018.10.27: generate time series by MCMC\n",
    "def generate_sequences_MCMC(w,n,m,l): \n",
    "    #print(i1tab,i2tab)\n",
    "    \n",
    "    # initial s (categorical variables)\n",
    "    s_ini = np.random.randint(0,m,size=(l,n)) # integer values\n",
    "    #print(s_ini)\n",
    "\n",
    "    # onehot encoder \n",
    "    enc = OneHotEncoder(n_values=m)\n",
    "    s = enc.fit_transform(s_ini).toarray()\n",
    "    #print(s) \n",
    "\n",
    "    ntrial = 100\n",
    "\n",
    "    for t in range(l-1):\n",
    "        h = np.sum(s[t,:]*w[:,:],axis=1)\n",
    "        for i in range(n):\n",
    "            i1,i2 = i1tab[i],i2tab[i]\n",
    "                \n",
    "            k = np.random.randint(0,m)              \n",
    "            for itrial in range(ntrial):            \n",
    "                k2 = np.random.randint(0,m)                \n",
    "                while k2 == k:\n",
    "                    k2 = np.random.randint(0,m)\n",
    "                               \n",
    "                if np.exp(h[i1+k2]- h[i1+k]) > np.random.rand():\n",
    "                    k = k2\n",
    "            \n",
    "            s[t+1,i1:i2] = 0.\n",
    "            s[t+1,i1+k] = 1.\n",
    "            \n",
    "    return s            "
   ]
  },
  {
   "cell_type": "code",
   "execution_count": 7,
   "metadata": {},
   "outputs": [],
   "source": [
    "s = generate_sequences_MCMC(w0,n,m,l) "
   ]
  },
  {
   "cell_type": "code",
   "execution_count": 8,
   "metadata": {
    "scrolled": true
   },
   "outputs": [],
   "source": [
    "#print(s[:5])"
   ]
  },
  {
   "cell_type": "code",
   "execution_count": 9,
   "metadata": {},
   "outputs": [],
   "source": [
    "# recover s0 from s\n",
    "s0 = np.argmax(s.reshape(-1,m),axis=1).reshape(-1,n)"
   ]
  },
  {
   "cell_type": "code",
   "execution_count": 10,
   "metadata": {},
   "outputs": [],
   "source": [
    "def eps_ab_func(s0,m):\n",
    "    l,n = s0.shape\n",
    "    eps = np.zeros((n,l-1,m,m))\n",
    "    eps[:,:,:] = -1.\n",
    "    for i in range(n):\n",
    "        for t in range(l-1):            \n",
    "            eps[i,t,:,int(s0[t+1,i])] = -1.\n",
    "            eps[i,t,int(s0[t+1,i]),:] = 1.\n",
    "    return eps"
   ]
  },
  {
   "cell_type": "code",
   "execution_count": 11,
   "metadata": {},
   "outputs": [],
   "source": [
    "eps_ab_all = eps_ab_func(s0,m)"
   ]
  },
  {
   "cell_type": "code",
   "execution_count": 12,
   "metadata": {},
   "outputs": [],
   "source": [
    "l = s.shape[0]\n",
    "\n",
    "s_av = np.mean(s[:-1],axis=0)\n",
    "ds = s[:-1] - s_av\n",
    "c = np.cov(ds,rowvar=False,bias=True)\n",
    "#print(c)\n",
    "\n",
    "c_inv = linalg.pinv(c,rcond=1e-15)\n",
    "#print(c_inv)\n",
    "\n",
    "nm = n*m\n",
    "nloop = 100\n",
    "w_infer = np.zeros((nm,nm))\n",
    "\n",
    "for i in range(n):\n",
    "    eps_ab = eps_ab_all[i]\n",
    "\n",
    "    i1,i2 = i1tab[i],i2tab[i]\n",
    "    w_true = w0[i1:i2,:]\n",
    "\n",
    "    h = s[1:,i1:i2].copy()\n",
    "    for iloop in range(nloop):\n",
    "        h_av = h.mean(axis=0)\n",
    "        dh = h - h_av\n",
    "\n",
    "        dhds = dh[:,:,np.newaxis]*ds[:,np.newaxis,:]\n",
    "        dhds_av = dhds.mean(axis=0)\n",
    "\n",
    "        w = np.dot(dhds_av,c_inv)\n",
    "\n",
    "        h = np.dot(s[:-1],w.T)\n",
    "\n",
    "        # --------------- update h: ---------------------------------------------\n",
    "        # h_ab[t,i,j] = h[t,i] - h[t,j]\n",
    "        h_ab =  h[:,:,np.newaxis] - h[:,np.newaxis,:]\n",
    "\n",
    "        eps_ab_expect = np.tanh(h_ab/2.)\n",
    "\n",
    "        # h[t,i,j] = eps_ab[t,i,j]*h_ab[t,i,j]/eps_expect[t,i,j] ( = 0 if eps_expect[t,i,j] = 0)\n",
    "        h_ab1 = np.divide(eps_ab*h_ab,eps_ab_expect, out=np.zeros_like(h_ab), where=eps_ab_expect!=0)\n",
    "\n",
    "        h = h_ab1.mean(axis=2)\n",
    "        \n",
    "        mse = ((w_true - w)**2).mean()   \n",
    "        slope = (w_true*w).sum()/(w_true**2).sum()  \n",
    "    \n",
    "    w_infer[i1:i2,:] = w\n",
    "      \n",
    "    #print(iloop,mse,slope)    "
   ]
  },
  {
   "cell_type": "code",
   "execution_count": 13,
   "metadata": {},
   "outputs": [
    {
     "data": {
      "text/plain": [
       "[<matplotlib.lines.Line2D at 0x7ffb50286990>]"
      ]
     },
     "execution_count": 13,
     "metadata": {},
     "output_type": "execute_result"
    },
    {
     "data": {
      "image/png": "[encoded data removed]",
      "text/plain": [
       "<Figure size 432x288 with 1 Axes>"
      ]
     },
     "metadata": {},
     "output_type": "display_data"
    }
   ],
   "source": [
    "plt.scatter(w0,w_infer)\n",
    "plt.plot([-0.3,0.3],[-0.3,0.3],'r--')"
   ]
  },
  {
   "cell_type": "code",
   "execution_count": 15,
   "metadata": {},
   "outputs": [
    {
     "name": "stdout",
     "output_type": "stream",
     "text": [
      "0.002404058497030432\n"
     ]
    }
   ],
   "source": [
    "mse = ((w0-w_infer)**2).mean()\n",
    "print(mse)"
   ]
  },
  {
   "cell_type": "code",
   "execution_count": null,
   "metadata": {},
   "outputs": [],
   "source": []
  }
 ],
 "metadata": {
  "kernelspec": {
   "display_name": "Python 2",
   "language": "python",
   "name": "python2"
  },
  "language_info": {
   "codemirror_mode": {
    "name": "ipython",
    "version": 2
   },
   "file_extension": ".py",
   "mimetype": "text/x-python",
   "name": "python",
   "nbconvert_exporter": "python",
   "pygments_lexer": "ipython2",
   "version": "2.7.15"
  }
 },
 "nbformat": 4,
 "nbformat_minor": 2
}
