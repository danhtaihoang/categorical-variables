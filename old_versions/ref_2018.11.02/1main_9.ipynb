{
 "cells": [
  {
   "cell_type": "code",
   "execution_count": 1,
   "metadata": {
    "collapsed": true
   },
   "outputs": [],
   "source": [
    "import sys,os\n",
    "from matplotlib.backends.backend_pdf import PdfPages\n",
    "import matplotlib.pyplot as plt\n",
    "import numpy as np\n",
    "import numpy.linalg as nplin\n",
    "import scipy as sp\n",
    "from scipy.linalg import pinvh as spinv\n",
    "from scipy.sparse import csr_matrix,csc_matrix,random\n",
    "from sklearn.preprocessing import OneHotEncoder as OneHotEncoder\n",
    "from sklearn.linear_model import lasso_path\n",
    "#import Bio"
   ]
  },
  {
   "cell_type": "code",
   "execution_count": 2,
   "metadata": {
    "collapsed": true
   },
   "outputs": [],
   "source": [
    "def try_1hot():\n",
    "    np.random.seed(7)\n",
    "\n",
    "    n_seq,n_positions,n_residues = 6,4,3\n",
    "    seqs = np.random.randint(0,n_residues,size=(n_seq,n_positions))\n",
    "    print(seqs)\n",
    "    print(seqs.shape)\n",
    "    \n",
    "    enc = OneHotEncoder(n_values=n_residues)\n",
    "    onehot = csr_matrix(enc.fit_transform(seqs)).toarray()\n",
    "    print(onehot)\n",
    "    print(onehot.shape)"
   ]
  },
  {
   "cell_type": "code",
   "execution_count": 3,
   "metadata": {},
   "outputs": [
    {
     "name": "stdout",
     "output_type": "stream",
     "text": [
      "[[-0.27249241 -0.10336884  0.45845218 -0.45339036 -0.48188976  0.04540235\n",
      "   0.12818188 -0.08988634 -0.040684   -0.13807264  0.22037657  0.31810946]\n",
      " [ 0.48633539 -0.43922183  0.0863929  -0.32209777  0.0136194  -0.15141666\n",
      "  -0.44162322  0.39018694 -0.33648824 -0.02887425  0.26895606  0.08058607]\n",
      " [ 0.48448189  0.00729131  0.31859137 -0.02310099  0.31424161 -0.20081538\n",
      "  -0.08512045 -0.19323007  0.16853618 -0.13857414  0.24917632  0.28885038]\n",
      " [-0.01222083  0.05543246  0.43934029  0.40913851 -0.1892375  -0.30198342\n",
      "   0.21130497 -0.48782494 -0.0430187  -0.09720002  0.17408563  0.11547318]\n",
      " [ 0.08622327 -0.21888216  0.1930626  -0.37205978  0.27981309 -0.39610862\n",
      "   0.10639742  0.05058526  0.42714096  0.37392675  0.38101073 -0.47230323]\n",
      " [-0.49059685 -0.0072079   0.13547244 -0.01955924 -0.38354729 -0.28610529\n",
      "  -0.34039347  0.13513434  0.08271338 -0.4155731  -0.26055415  0.27559094]\n",
      " [ 0.30818042 -0.38944064  0.02372086  0.22644474 -0.30866298 -0.20463538\n",
      "  -0.33843867  0.38769409  0.3911501   0.46518695 -0.28203437  0.03061141]\n",
      " [-0.28333482  0.40089024  0.23423802  0.21111707 -0.16545528 -0.23127877\n",
      "  -0.44249174  0.18288986  0.15871844  0.18425906 -0.12268035 -0.49753947]\n",
      " [-0.31448632 -0.38006628 -0.06354869  0.00304795 -0.35839577 -0.25916231\n",
      "   0.01732345  0.03301509 -0.14343044  0.27023276 -0.06060329 -0.40885217]\n",
      " [-0.17909677  0.32846516  0.03802865  0.32960297  0.30265371  0.47738132\n",
      "  -0.11093235  0.13656316 -0.21101508  0.24443861  0.36263885  0.11742569]\n",
      " [ 0.33088108 -0.48437643  0.49732276  0.13488738 -0.31140577  0.21326829\n",
      "  -0.45039871  0.18892311  0.14202167  0.33483697  0.49640783  0.40196288]\n",
      " [ 0.11251335  0.09755122 -0.05376965  0.09785032 -0.27984404  0.33470825\n",
      "  -0.31772462  0.01016187 -0.32194154 -0.48724326 -0.44344913  0.45211409]]\n",
      "(12, 12)\n"
     ]
    }
   ],
   "source": [
    "n_positions = 4\n",
    "n_residues = 3\n",
    "n_size = n_positions*n_residues\n",
    "w = (np.random.rand(n_size,n_size)-0.5)\n",
    "print(w)\n",
    "print(w.shape)"
   ]
  },
  {
   "cell_type": "code",
   "execution_count": 4,
   "metadata": {},
   "outputs": [
    {
     "name": "stdout",
     "output_type": "stream",
     "text": [
      "[ 0.18284688  0.32149339  0.03550157 -0.2471313  -0.07535068  0.04348305\n",
      "  0.29971738  0.39592338 -0.04713683  0.25328309  0.48662529 -0.36357503]\n",
      "(12,)\n"
     ]
    }
   ],
   "source": [
    "b = np.random.rand(n_size)-0.5\n",
    "print(b)\n",
    "print(b.shape)"
   ]
  },
  {
   "cell_type": "code",
   "execution_count": 5,
   "metadata": {},
   "outputs": [
    {
     "name": "stdout",
     "output_type": "stream",
     "text": [
      "[[1 2 1 2]\n",
      " [0 0 0 2]\n",
      " [2 1 2 2]\n",
      " [2 2 2 2]\n",
      " [1 1 2 1]\n",
      " [0 2 2 1]]\n",
      "(6, 4)\n",
      "  (0, 1)\t1.0\n",
      "  (0, 5)\t1.0\n",
      "  (0, 7)\t1.0\n",
      "  (0, 11)\t1.0\n",
      "  (1, 0)\t1.0\n",
      "  (1, 3)\t1.0\n",
      "  (1, 6)\t1.0\n",
      "  (1, 11)\t1.0\n",
      "  (2, 2)\t1.0\n",
      "  (2, 4)\t1.0\n",
      "  (2, 8)\t1.0\n",
      "  (2, 11)\t1.0\n",
      "  (3, 2)\t1.0\n",
      "  (3, 5)\t1.0\n",
      "  (3, 8)\t1.0\n",
      "  (3, 11)\t1.0\n",
      "  (4, 1)\t1.0\n",
      "  (4, 4)\t1.0\n",
      "  (4, 8)\t1.0\n",
      "  (4, 10)\t1.0\n",
      "  (5, 0)\t1.0\n",
      "  (5, 5)\t1.0\n",
      "  (5, 8)\t1.0\n",
      "  (5, 10)\t1.0\n",
      "(6, 12)\n"
     ]
    }
   ],
   "source": [
    "n_seq,n_positions,n_residues = 6,4,3\n",
    "seqs = np.random.randint(0,n_residues,size=(n_seq,n_positions))\n",
    "print(seqs)\n",
    "print(seqs.shape)\n",
    "\n",
    "enc = OneHotEncoder(n_values=n_residues)\n",
    "onehot = csr_matrix(enc.fit_transform(seqs))\n",
    "print(onehot)\n",
    "print(onehot.shape)"
   ]
  },
  {
   "cell_type": "code",
   "execution_count": 6,
   "metadata": {},
   "outputs": [
    {
     "name": "stdout",
     "output_type": "stream",
     "text": [
      "[[0. 1. 0.]\n",
      " [1. 0. 0.]\n",
      " [0. 0. 1.]\n",
      " [0. 0. 1.]\n",
      " [0. 1. 0.]\n",
      " [1. 0. 0.]]\n"
     ]
    }
   ],
   "source": [
    "n_res = n_residues\n",
    "index = 0\n",
    "\n",
    "# convert matrix to array:\n",
    "target = onehot.A[:,index*n_res:(index+1)*n_res]\n",
    "print(target)"
   ]
  },
  {
   "cell_type": "code",
   "execution_count": 7,
   "metadata": {},
   "outputs": [
    {
     "name": "stdout",
     "output_type": "stream",
     "text": [
      "[[2 1 2]\n",
      " [0 0 2]\n",
      " [1 2 2]\n",
      " [2 2 2]\n",
      " [1 2 1]\n",
      " [2 2 1]]\n"
     ]
    }
   ],
   "source": [
    "#remove column index in the sequence\n",
    "def split_seqs(seqs,index): \n",
    "    return np.copy(np.hstack([seqs[:,:index],seqs[:,index+1:]]))\n",
    "\n",
    "split_seqs0 = split_seqs(seqs,index)\n",
    "print(split_seqs0)"
   ]
  },
  {
   "cell_type": "code",
   "execution_count": 8,
   "metadata": {},
   "outputs": [
    {
     "name": "stdout",
     "output_type": "stream",
     "text": [
      "  (0, 2)\t1.0\n",
      "  (0, 4)\t1.0\n",
      "  (0, 8)\t1.0\n",
      "  (1, 0)\t1.0\n",
      "  (1, 3)\t1.0\n",
      "  (1, 8)\t1.0\n",
      "  (2, 1)\t1.0\n",
      "  (2, 5)\t1.0\n",
      "  (2, 8)\t1.0\n",
      "  (3, 2)\t1.0\n",
      "  (3, 5)\t1.0\n",
      "  (3, 8)\t1.0\n",
      "  (4, 1)\t1.0\n",
      "  (4, 5)\t1.0\n",
      "  (4, 7)\t1.0\n",
      "  (5, 2)\t1.0\n",
      "  (5, 5)\t1.0\n",
      "  (5, 7)\t1.0\n",
      "(6, 9)\n"
     ]
    }
   ],
   "source": [
    "enc = OneHotEncoder(n_values=n_residues)\n",
    "onehot = csr_matrix(enc.fit_transform(split_seqs0))\n",
    "print(onehot)\n",
    "print(onehot.shape)"
   ]
  },
  {
   "cell_type": "code",
   "execution_count": 9,
   "metadata": {},
   "outputs": [
    {
     "name": "stdout",
     "output_type": "stream",
     "text": [
      "[0.33333333 0.33333333 0.33333333]\n",
      "[False False False]\n",
      "[0.08333333 0.08333333 0.08333333]\n"
     ]
    }
   ],
   "source": [
    "b_init = np.mean(target,axis=0)\n",
    "print(b_init)\n",
    "\n",
    "b_init_zero = b_init > 0.99\n",
    "print(b_init_zero)\n",
    "\n",
    "# change the value of positions that don't satisfy the above condition  \n",
    "b_init[~b_init_zero] = 0.5/float(n_seq)\n",
    "print(b_init)"
   ]
  },
  {
   "cell_type": "code",
   "execution_count": 10,
   "metadata": {},
   "outputs": [
    {
     "name": "stdout",
     "output_type": "stream",
     "text": [
      "[-1.09861229 -1.09861229 -1.09861229]\n",
      "[-1.09861229 -1.09861229 -1.09861229 -0.2471313  -0.07535068  0.04348305\n",
      "  0.29971738  0.39592338 -0.04713683  0.25328309  0.48662529 -0.36357503]\n"
     ]
    }
   ],
   "source": [
    "b_init = np.log(b_init/np.sum(b_init))\n",
    "print(b_init)\n",
    "\n",
    "b[index*n_res:(index+1)*n_res] = b_init\n",
    "print(b)"
   ]
  },
  {
   "cell_type": "code",
   "execution_count": 11,
   "metadata": {},
   "outputs": [
    {
     "name": "stdout",
     "output_type": "stream",
     "text": [
      "expect_onehot:\n",
      "[[0.16666667 0.33333333 0.5        0.16666667 0.16666667 0.66666667\n",
      "  0.         0.33333333 0.66666667]]\n",
      "corr_onehot:\n",
      "[[ 0.16666667 -0.06666667 -0.1         0.16666667 -0.03333333 -0.13333333\n",
      "   0.         -0.06666667  0.06666667]\n",
      " [-0.06666667  0.26666667 -0.2        -0.06666667 -0.06666667  0.13333333\n",
      "   0.          0.06666667 -0.06666667]\n",
      " [-0.1        -0.2         0.3        -0.1         0.1         0.\n",
      "   0.          0.          0.        ]\n",
      " [ 0.16666667 -0.06666667 -0.1         0.16666667 -0.03333333 -0.13333333\n",
      "   0.         -0.06666667  0.06666667]\n",
      " [-0.03333333 -0.06666667  0.1        -0.03333333  0.16666667 -0.13333333\n",
      "   0.         -0.06666667  0.06666667]\n",
      " [-0.13333333  0.13333333  0.         -0.13333333 -0.13333333  0.26666667\n",
      "   0.          0.13333333 -0.13333333]\n",
      " [ 0.          0.          0.          0.          0.          0.\n",
      "   0.          0.          0.        ]\n",
      " [-0.06666667  0.06666667  0.         -0.06666667 -0.06666667  0.13333333\n",
      "   0.          0.26666667 -0.26666667]\n",
      " [ 0.06666667 -0.06666667  0.          0.06666667  0.06666667 -0.13333333\n",
      "   0.         -0.26666667  0.26666667]]\n"
     ]
    }
   ],
   "source": [
    "def corr(onehot):\n",
    "    #corr_out = onehot.transpose().dot(onehot).toarray()/np.float(onehot.shape[0])\n",
    "    corr_out = np.cov(onehot.A,rowvar=False)\n",
    "    expect = np.array(onehot.mean(axis=0)) #expectation value\n",
    "    return expect,corr_out# - np.outer(expect,expect) #connected correlation function\n",
    "\n",
    "expect_onehot,corr_onehot = corr(onehot)\n",
    "print('expect_onehot:')\n",
    "print(expect_onehot)\n",
    "\n",
    "print('corr_onehot:')\n",
    "print(corr_onehot)"
   ]
  },
  {
   "cell_type": "code",
   "execution_count": 12,
   "metadata": {},
   "outputs": [
    {
     "name": "stdout",
     "output_type": "stream",
     "text": [
      "corr_inv:\n",
      "[[ 0.79861111 -0.60763889 -0.19097222  0.79861111 -0.71180556 -0.08680556\n",
      "   0.          0.20833333 -0.20833333]\n",
      " [-0.60763889  1.65798611 -1.05034722 -0.60763889  1.08506944 -0.47743056\n",
      "   0.         -0.10416667  0.10416667]\n",
      " [-0.19097222 -1.05034722  1.24131944 -0.19097222 -0.37326389  0.56423611\n",
      "   0.         -0.10416667  0.10416667]\n",
      " [ 0.79861111 -0.60763889 -0.19097222  0.79861111 -0.71180556 -0.08680556\n",
      "   0.          0.20833333 -0.20833333]\n",
      " [-0.71180556  1.08506944 -0.37326389 -0.71180556  2.69965278 -1.98784722\n",
      "   0.          0.52083333 -0.52083333]\n",
      " [-0.08680556 -0.47743056  0.56423611 -0.08680556 -1.98784722  2.07465278\n",
      "   0.         -0.72916667  0.72916667]\n",
      " [ 0.          0.          0.          0.          0.          0.\n",
      "   0.          0.          0.        ]\n",
      " [ 0.20833333 -0.10416667 -0.10416667  0.20833333  0.52083333 -0.72916667\n",
      "   0.          1.25       -1.25      ]\n",
      " [-0.20833333  0.10416667  0.10416667 -0.20833333 -0.52083333  0.72916667\n",
      "   0.         -1.25        1.25      ]]\n"
     ]
    }
   ],
   "source": [
    "corr_inv = spinv(corr_onehot)\n",
    "print('corr_inv:')\n",
    "print(corr_inv)"
   ]
  },
  {
   "cell_type": "code",
   "execution_count": 13,
   "metadata": {},
   "outputs": [
    {
     "name": "stdout",
     "output_type": "stream",
     "text": [
      "discr_old:\n",
      "1e+12\n"
     ]
    }
   ],
   "source": [
    "n_iter = 10\n",
    "disc = np.zeros((n_iter))\n",
    "discr_old = 1e12\n",
    "print('discr_old:')\n",
    "print(discr_old)"
   ]
  },
  {
   "cell_type": "code",
   "execution_count": 14,
   "metadata": {},
   "outputs": [
    {
     "name": "stdout",
     "output_type": "stream",
     "text": [
      "h_seq:\n",
      "[[-0.66141831  0.49123356  0.31594081]\n",
      " [ 0.40847294 -0.23645695  0.4092915 ]\n",
      " [-0.1157497  -0.50139722  0.07574427]\n",
      " [-0.69256982 -0.28972296  0.0181541 ]\n",
      " [ 0.10261803 -1.08332487  0.62683667]\n",
      " [-0.47420209 -0.87165061  0.56924651]]\n"
     ]
    }
   ],
   "source": [
    "h_seq = np.array(onehot.dot(np.vstack([w[:index*n_res,index*n_res:(index+1)*n_res],\\\n",
    "        w[(index+1)*n_res:,index*n_res:(index+1)*n_res]]))).reshape(n_seq,n_res)\n",
    "print('h_seq:')\n",
    "print(h_seq)"
   ]
  },
  {
   "cell_type": "code",
   "execution_count": 15,
   "metadata": {},
   "outputs": [
    {
     "data": {
      "text/plain": [
       "(12, 12)"
      ]
     },
     "execution_count": 15,
     "metadata": {},
     "output_type": "execute_result"
    }
   ],
   "source": [
    "w.shape"
   ]
  },
  {
   "cell_type": "code",
   "execution_count": 16,
   "metadata": {},
   "outputs": [
    {
     "name": "stdout",
     "output_type": "stream",
     "text": [
      "w1:\n",
      "[]\n",
      "w2:\n",
      "[[-0.01222083  0.05543246  0.43934029]\n",
      " [ 0.08622327 -0.21888216  0.1930626 ]\n",
      " [-0.49059685 -0.0072079   0.13547244]\n",
      " [ 0.30818042 -0.38944064  0.02372086]\n",
      " [-0.28333482  0.40089024  0.23423802]\n",
      " [-0.31448632 -0.38006628 -0.06354869]\n",
      " [-0.17909677  0.32846516  0.03802865]\n",
      " [ 0.33088108 -0.48437643  0.49732276]\n",
      " [ 0.11251335  0.09755122 -0.05376965]]\n",
      "(9, 3)\n"
     ]
    }
   ],
   "source": [
    "w1 = w[:index*n_res,index*n_res:(index+1)*n_res]\n",
    "print('w1:')\n",
    "print(w1)\n",
    "\n",
    "w2 = w[(index+1)*n_res:,index*n_res:(index+1)*n_res]\n",
    "print('w2:')\n",
    "print(w2)\n",
    "print(w2.shape)"
   ]
  },
  {
   "cell_type": "code",
   "execution_count": 17,
   "metadata": {},
   "outputs": [
    {
     "name": "stdout",
     "output_type": "stream",
     "text": [
      "w12:\n",
      "[[-0.01222083  0.05543246  0.43934029]\n",
      " [ 0.08622327 -0.21888216  0.1930626 ]\n",
      " [-0.49059685 -0.0072079   0.13547244]\n",
      " [ 0.30818042 -0.38944064  0.02372086]\n",
      " [-0.28333482  0.40089024  0.23423802]\n",
      " [-0.31448632 -0.38006628 -0.06354869]\n",
      " [-0.17909677  0.32846516  0.03802865]\n",
      " [ 0.33088108 -0.48437643  0.49732276]\n",
      " [ 0.11251335  0.09755122 -0.05376965]]\n",
      "(9, 3)\n"
     ]
    }
   ],
   "source": [
    "w12 = np.vstack([w1,w2])\n",
    "print('w12:')\n",
    "print(w12)\n",
    "print(w12.shape)"
   ]
  },
  {
   "cell_type": "code",
   "execution_count": 18,
   "metadata": {},
   "outputs": [
    {
     "name": "stdout",
     "output_type": "stream",
     "text": [
      "onehotdot:\n",
      "[[-0.66141831  0.49123356  0.31594081]\n",
      " [ 0.40847294 -0.23645695  0.4092915 ]\n",
      " [-0.1157497  -0.50139722  0.07574427]\n",
      " [-0.69256982 -0.28972296  0.0181541 ]\n",
      " [ 0.10261803 -1.08332487  0.62683667]\n",
      " [-0.47420209 -0.87165061  0.56924651]]\n",
      "(6, 3)\n"
     ]
    }
   ],
   "source": [
    "onehotdot = onehot.dot(w12)\n",
    "print('onehotdot:')\n",
    "print(onehotdot)\n",
    "print(onehotdot.shape)"
   ]
  },
  {
   "cell_type": "code",
   "execution_count": 19,
   "metadata": {},
   "outputs": [
    {
     "name": "stdout",
     "output_type": "stream",
     "text": [
      "onehot.A:\n",
      "[[0. 0. 1. 0. 1. 0. 0. 0. 1.]\n",
      " [1. 0. 0. 1. 0. 0. 0. 0. 1.]\n",
      " [0. 1. 0. 0. 0. 1. 0. 0. 1.]\n",
      " [0. 0. 1. 0. 0. 1. 0. 0. 1.]\n",
      " [0. 1. 0. 0. 0. 1. 0. 1. 0.]\n",
      " [0. 0. 1. 0. 0. 1. 0. 1. 0.]]\n",
      "[[-0.66141831  0.49123356  0.31594081]\n",
      " [ 0.40847294 -0.23645695  0.4092915 ]\n",
      " [-0.1157497  -0.50139722  0.07574427]\n",
      " [-0.69256982 -0.28972296  0.0181541 ]\n",
      " [ 0.10261803 -1.08332487  0.62683667]\n",
      " [-0.47420209 -0.87165061  0.56924651]]\n"
     ]
    }
   ],
   "source": [
    "print('onehot.A:')\n",
    "print(onehot.A)\n",
    "\n",
    "c = np.dot(onehot.A,w12)\n",
    "print(c)"
   ]
  },
  {
   "cell_type": "code",
   "execution_count": 20,
   "metadata": {},
   "outputs": [
    {
     "name": "stdout",
     "output_type": "stream",
     "text": [
      "b:\n",
      "[ 0.          0.          0.         -0.2471313  -0.07535068  0.04348305\n",
      "  0.29971738  0.39592338 -0.04713683  0.25328309  0.48662529 -0.36357503]\n"
     ]
    }
   ],
   "source": [
    "b[index*n_res:(index+1)*n_res] -= np.mean(b[index*n_res:(index+1)*n_res])\n",
    "print('b:')\n",
    "print(b)"
   ]
  },
  {
   "cell_type": "code",
   "execution_count": 21,
   "metadata": {},
   "outputs": [
    {
     "name": "stdout",
     "output_type": "stream",
     "text": [
      "[-0.23880816 -0.41521984  0.33586898]\n"
     ]
    }
   ],
   "source": [
    "expect_h = np.mean(h_seq,axis=0)\n",
    "print(expect_h)"
   ]
  },
  {
   "cell_type": "code",
   "execution_count": 22,
   "metadata": {},
   "outputs": [
    {
     "name": "stdout",
     "output_type": "stream",
     "text": [
      "[-1.  1.  0.  0. -1.  1.]\n"
     ]
    }
   ],
   "source": [
    "res_index = 0\n",
    "res_index1 = 1\n",
    "tgt = target[:,res_index]-target[:,res_index1]\n",
    "\n",
    "print(tgt)"
   ]
  },
  {
   "cell_type": "code",
   "execution_count": 23,
   "metadata": {
    "scrolled": true
   },
   "outputs": [
    {
     "name": "stdout",
     "output_type": "stream",
     "text": [
      "[ True  True False False  True  True]\n",
      "[-1.  1. -1.  1.]\n",
      "4.0\n",
      "[[-0.66141831  0.49123356  0.31594081]\n",
      " [ 0.40847294 -0.23645695  0.4092915 ]\n",
      " [-0.1157497  -0.50139722  0.07574427]\n",
      " [-0.69256982 -0.28972296  0.0181541 ]\n",
      " [ 0.10261803 -1.08332487  0.62683667]\n",
      " [-0.47420209 -0.87165061  0.56924651]]\n",
      "[[-0.66141831  0.49123356  0.31594081]\n",
      " [ 0.40847294 -0.23645695  0.4092915 ]\n",
      " [ 0.10261803 -1.08332487  0.62683667]\n",
      " [-0.47420209 -0.87165061  0.56924651]]\n"
     ]
    }
   ],
   "source": [
    "#remove sequences with tgt = 0:\n",
    "which_BC = tgt != 0.0\n",
    "print(which_BC)\n",
    "\n",
    "tgt = tgt[which_BC]\n",
    "print(tgt)\n",
    "\n",
    "n_BC = float(tgt.shape[0])\n",
    "print(n_BC)\n",
    "\n",
    "print(h_seq)\n",
    "print(h_seq[which_BC])\n",
    "\n",
    "h_BC = 0.5*(h_seq[which_BC,res_index] - h_seq[which_BC,res_index1])"
   ]
  },
  {
   "cell_type": "code",
   "execution_count": 29,
   "metadata": {},
   "outputs": [
    {
     "name": "stdout",
     "output_type": "stream",
     "text": [
      "[ True  True  True  True]\n",
      "[-2.  2. -2.  2.]\n",
      "[-2.21668119  2.06884658 -2.22909304  2.0262585 ]\n",
      "[-0.5541703   0.51721164 -0.55727326  0.50656463]\n"
     ]
    }
   ],
   "source": [
    "expect_h_zero = h_BC != 0.0\n",
    "print(expect_h_zero)\n",
    "\n",
    "ratio = 2*np.copy(tgt)\n",
    "print(ratio)\n",
    "\n",
    "ratio[expect_h_zero] *= h_BC[expect_h_zero]/np.tanh(h_BC[expect_h_zero])\n",
    "print(ratio)\n",
    "\n",
    "ratio_BsumC = ratio/n_BC #so each sequence which is either B or C counts once\n",
    "print(ratio_BsumC)"
   ]
  },
  {
   "cell_type": "code",
   "execution_count": 33,
   "metadata": {},
   "outputs": [
    {
     "name": "stdout",
     "output_type": "stream",
     "text": [
      "[ 0.53912847 -0.53535644 -0.00377203  0.53912847 -0.53225348 -0.00687499\n",
      "  0.         -0.00687499  0.00687499]\n",
      "9\n"
     ]
    }
   ],
   "source": [
    "w_temp = onehot[which_BC,:].transpose().dot(ratio_BsumC-np.mean(ratio_BsumC))\n",
    "print(w_temp)\n",
    "print(len(w_temp))"
   ]
  },
  {
   "cell_type": "code",
   "execution_count": 35,
   "metadata": {},
   "outputs": [
    {
     "name": "stdout",
     "output_type": "stream",
     "text": [
      "(9,)\n"
     ]
    }
   ],
   "source": [
    "n_pos = 4\n",
    "\n",
    "w_temp = np.zeros((n_res*(n_pos-1)))\n",
    "print(w_temp.shape)"
   ]
  },
  {
   "cell_type": "code",
   "execution_count": null,
   "metadata": {
    "collapsed": true
   },
   "outputs": [],
   "source": []
  }
 ],
 "metadata": {
  "kernelspec": {
   "display_name": "Python 2",
   "language": "python",
   "name": "python2"
  },
  "language_info": {
   "codemirror_mode": {
    "name": "ipython",
    "version": 2
   },
   "file_extension": ".py",
   "mimetype": "text/x-python",
   "name": "python",
   "nbconvert_exporter": "python",
   "pygments_lexer": "ipython2",
   "version": "2.7.11"
  }
 },
 "nbformat": 4,
 "nbformat_minor": 2
}
