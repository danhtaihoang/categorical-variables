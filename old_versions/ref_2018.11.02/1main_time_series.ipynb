{
 "cells": [
  {
   "cell_type": "markdown",
   "metadata": {},
   "source": [
    "2018.10.27: Multiple states: Time series"
   ]
  },
  {
   "cell_type": "code",
   "execution_count": 1,
   "metadata": {},
   "outputs": [],
   "source": [
    "import sys,os\n",
    "import numpy as np\n",
    "from scipy import linalg\n",
    "from sklearn.preprocessing import OneHotEncoder\n",
    "import matplotlib.pyplot as plt\n",
    "%matplotlib inline"
   ]
  },
  {
   "cell_type": "code",
   "execution_count": 2,
   "metadata": {
    "scrolled": true
   },
   "outputs": [],
   "source": [
    "# setting parameter:\n",
    "np.random.seed(1)\n",
    "\n",
    "n = 10 # number of positions\n",
    "m = 2 # number of values at each position\n",
    "l = 1000 # number of samples\n",
    "\n",
    "g = 1."
   ]
  },
  {
   "cell_type": "code",
   "execution_count": 3,
   "metadata": {},
   "outputs": [],
   "source": [
    "def itab(n,m):    \n",
    "    i1 = np.zeros(n)\n",
    "    i2 = np.zeros(n)\n",
    "    for i in range(n):\n",
    "        i1[i] = i*m\n",
    "        i2[i] = (i+1)*m\n",
    "\n",
    "    return i1.astype(int),i2.astype(int)\n",
    "\n",
    "i1tab,i2tab = itab(n,m)"
   ]
  },
  {
   "cell_type": "code",
   "execution_count": 4,
   "metadata": {
    "scrolled": false
   },
   "outputs": [],
   "source": [
    "# generate coupling matrix w0:\n",
    "def generate_coupling(n,m,g):\n",
    "    nm = n*m\n",
    "    w = np.random.normal(0.0,g/np.sqrt(nm),size=(nm,nm))\n",
    "    \n",
    "    for i in range(n):\n",
    "        i1,i2 = i1tab[i],i2tab[i]\n",
    "        w[i1:i2,:] = w[i1:i2,:] - w[i1:i2,:].mean(axis=0)            \n",
    "    \n",
    "    return w"
   ]
  },
  {
   "cell_type": "code",
   "execution_count": 5,
   "metadata": {},
   "outputs": [
    {
     "data": {
      "image/png": "[encoded data removed]",
      "text/plain": [
       "<Figure size 216x216 with 2 Axes>"
      ]
     },
     "metadata": {},
     "output_type": "display_data"
    }
   ],
   "source": [
    "w0 = generate_coupling(n,m,g)\n",
    "\n",
    "plt.figure(figsize=(3,3))\n",
    "plt.title('actual coupling matrix')\n",
    "plt.imshow(w0,cmap='rainbow',origin='lower')\n",
    "plt.xlabel('j')\n",
    "plt.ylabel('i')\n",
    "plt.clim(-0.5,0.5)\n",
    "plt.colorbar(fraction=0.045, pad=0.05,ticks=[-0.5,0,0.5])\n",
    "plt.show()"
   ]
  },
  {
   "cell_type": "code",
   "execution_count": 6,
   "metadata": {},
   "outputs": [],
   "source": [
    "# 2018.10.27: generate sequences: time series\n",
    "def generate_sequences(w,n,m,l): \n",
    "    #print(i1tab,i2tab)\n",
    "    \n",
    "    # initial s (categorical variables)\n",
    "    s_ini = np.random.randint(0,m,size=(l,n)) # integer values\n",
    "    #print(s_ini)\n",
    "\n",
    "    # onehot encoder \n",
    "    enc = OneHotEncoder(n_values=m)\n",
    "    s = enc.fit_transform(s_ini).toarray()\n",
    "    #print(s) \n",
    "\n",
    "    ntrial = 20\n",
    "\n",
    "    for t in range(l):\n",
    "        h = np.sum(s[t,:]*w[:,:],axis=1)\n",
    "        for i in range(n):\n",
    "            i1,i2 = i1tab[i],i2tab[i]\n",
    "    \n",
    "            p1 = np.exp(h[i1:i2])\n",
    "            p = p1/p1.sum()\n",
    "\n",
    "            for itrial in range(ntrial):\n",
    "                k = np.random.randint(0,m)\n",
    "                if p[k] > np.random.rand():\n",
    "                    s[t,i1:i2] = 0.\n",
    "                    s[t,i1+k] = 1.\n",
    "                break\n",
    "    return s            "
   ]
  },
  {
   "cell_type": "code",
   "execution_count": 7,
   "metadata": {},
   "outputs": [],
   "source": [
    "s = generate_sequences(w0,n,m,l) "
   ]
  },
  {
   "cell_type": "code",
   "execution_count": 8,
   "metadata": {},
   "outputs": [
    {
     "name": "stdout",
     "output_type": "stream",
     "text": [
      "[[1. 0. 1. 0. 1. 0. 1. 0. 1. 0. 1. 0. 1. 0. 1. 0. 1. 0. 0. 1.]\n",
      " [0. 1. 1. 0. 1. 0. 1. 0. 0. 1. 0. 1. 1. 0. 0. 1. 1. 0. 1. 0.]\n",
      " [0. 1. 1. 0. 0. 1. 1. 0. 0. 1. 1. 0. 1. 0. 0. 1. 0. 1. 1. 0.]\n",
      " [0. 1. 0. 1. 0. 1. 0. 1. 0. 1. 0. 1. 0. 1. 0. 1. 0. 1. 1. 0.]\n",
      " [1. 0. 1. 0. 1. 0. 0. 1. 1. 0. 1. 0. 1. 0. 1. 0. 1. 0. 0. 1.]\n",
      " [0. 1. 0. 1. 0. 1. 1. 0. 0. 1. 0. 1. 0. 1. 1. 0. 0. 1. 0. 1.]\n",
      " [0. 1. 0. 1. 1. 0. 0. 1. 1. 0. 1. 0. 1. 0. 0. 1. 0. 1. 1. 0.]\n",
      " [1. 0. 1. 0. 1. 0. 1. 0. 0. 1. 1. 0. 0. 1. 0. 1. 1. 0. 0. 1.]\n",
      " [0. 1. 1. 0. 1. 0. 0. 1. 1. 0. 0. 1. 0. 1. 0. 1. 0. 1. 0. 1.]\n",
      " [0. 1. 0. 1. 1. 0. 0. 1. 1. 0. 0. 1. 0. 1. 0. 1. 0. 1. 0. 1.]]\n"
     ]
    }
   ],
   "source": [
    "print(s[:10])"
   ]
  },
  {
   "cell_type": "code",
   "execution_count": 9,
   "metadata": {},
   "outputs": [],
   "source": [
    "s_av = np.mean(s[:-1],axis=0)\n",
    "ds = s[:-1] - s_av\n",
    "c = np.cov(ds,rowvar=False,bias=True)\n",
    "#print(c)"
   ]
  },
  {
   "cell_type": "code",
   "execution_count": 10,
   "metadata": {},
   "outputs": [],
   "source": [
    "c_inv = linalg.pinv(c,rcond=1e-15)\n",
    "#print(c_inv)"
   ]
  },
  {
   "cell_type": "code",
   "execution_count": 11,
   "metadata": {},
   "outputs": [
    {
     "name": "stdout",
     "output_type": "stream",
     "text": [
      "0\n",
      "(0, 0, array([0.28375456, 0.28375456]))\n",
      "(0, 1, array([0.2609701, 0.2609701]))\n",
      "(0, 2, array([0.25177707, 0.25177707]))\n",
      "(0, 3, array([0.24891104, 0.24891104]))\n",
      "(0, 4, array([0.24813747, 0.24813747]))\n",
      "(0, 5, array([0.24793885, 0.24793885]))\n",
      "(0, 6, array([0.24788883, 0.24788883]))\n",
      "(0, 7, array([0.24787642, 0.24787642]))\n",
      "(0, 8, array([0.24787341, 0.24787341]))\n",
      "(0, 9, array([0.24787271, 0.24787271]))\n",
      "(0, 10, array([0.24787256, 0.24787256]))\n",
      "(0, 11, array([0.24787254, 0.24787254]))\n",
      "(0, 12, array([0.24787254, 0.24787254]))\n",
      "(0, 13, array([0.24787255, 0.24787255]))\n",
      "(0, 14, array([0.24787255, 0.24787255]))\n",
      "(0, 15, array([0.24787255, 0.24787255]))\n",
      "(0, 16, array([0.24787255, 0.24787255]))\n",
      "(0, 17, array([0.24787255, 0.24787255]))\n",
      "(0, 18, array([0.24787255, 0.24787255]))\n",
      "(0, 19, array([0.24787255, 0.24787255]))\n",
      "1\n",
      "(1, 0, array([0.27555738, 0.27555738]))\n",
      "(1, 1, array([0.2562023, 0.2562023]))\n",
      "(1, 2, array([0.25016966, 0.25016966]))\n",
      "(1, 3, array([0.24855861, 0.24855861]))\n",
      "(1, 4, array([0.24816915, 0.24816915]))\n",
      "(1, 5, array([0.24808293, 0.24808293]))\n",
      "(1, 6, array([0.2480674, 0.2480674]))\n",
      "(1, 7, array([0.24806664, 0.24806664]))\n",
      "(1, 8, array([0.24806803, 0.24806803]))\n",
      "(1, 9, array([0.24806919, 0.24806919]))\n",
      "(1, 10, array([0.24806989, 0.24806989]))\n",
      "(1, 11, array([0.24807027, 0.24807027]))\n",
      "(1, 12, array([0.24807047, 0.24807047]))\n",
      "(1, 13, array([0.24807057, 0.24807057]))\n",
      "(1, 14, array([0.24807062, 0.24807062]))\n",
      "(1, 15, array([0.24807065, 0.24807065]))\n",
      "(1, 16, array([0.24807066, 0.24807066]))\n",
      "(1, 17, array([0.24807067, 0.24807067]))\n",
      "(1, 18, array([0.24807067, 0.24807067]))\n",
      "(1, 19, array([0.24807067, 0.24807067]))\n",
      "2\n",
      "(2, 0, array([0.26609482, 0.26609482]))\n",
      "(2, 1, array([0.25428926, 0.25428926]))\n",
      "(2, 2, array([0.2488447, 0.2488447]))\n",
      "(2, 3, array([0.24724819, 0.24724819]))\n",
      "(2, 4, array([0.24678034, 0.24678034]))\n",
      "(2, 5, array([0.24663273, 0.24663273]))\n",
      "(2, 6, array([0.24658078, 0.24658078]))\n",
      "(2, 7, array([0.24656026, 0.24656026]))\n",
      "(2, 8, array([0.24655133, 0.24655133]))\n",
      "(2, 9, array([0.24654718, 0.24654718]))\n",
      "(2, 10, array([0.24654517, 0.24654517]))\n",
      "(2, 11, array([0.24654417, 0.24654417]))\n",
      "(2, 12, array([0.24654367, 0.24654367]))\n",
      "(2, 13, array([0.24654341, 0.24654341]))\n",
      "(2, 14, array([0.24654328, 0.24654328]))\n",
      "(2, 15, array([0.24654322, 0.24654322]))\n",
      "(2, 16, array([0.24654319, 0.24654319]))\n",
      "(2, 17, array([0.24654317, 0.24654317]))\n",
      "(2, 18, array([0.24654316, 0.24654316]))\n",
      "(2, 19, array([0.24654316, 0.24654316]))\n",
      "3\n",
      "(3, 0, array([0.3047846, 0.3047846]))\n",
      "(3, 1, array([0.26711207, 0.26711207]))\n",
      "(3, 2, array([0.25185499, 0.25185499]))\n",
      "(3, 3, array([0.24690214, 0.24690214]))\n",
      "(3, 4, array([0.2456391, 0.2456391]))\n",
      "(3, 5, array([0.24537379, 0.24537379]))\n",
      "(3, 6, array([0.24533975, 0.24533975]))\n",
      "(3, 7, array([0.24534869, 0.24534869]))\n",
      "(3, 8, array([0.24536004, 0.24536004]))\n",
      "(3, 9, array([0.24536759, 0.24536759]))\n",
      "(3, 10, array([0.2453719, 0.2453719]))\n",
      "(3, 11, array([0.24537421, 0.24537421]))\n",
      "(3, 12, array([0.24537542, 0.24537542]))\n",
      "(3, 13, array([0.24537605, 0.24537605]))\n",
      "(3, 14, array([0.24537637, 0.24537637]))\n",
      "(3, 15, array([0.24537653, 0.24537653]))\n",
      "(3, 16, array([0.24537662, 0.24537662]))\n",
      "(3, 17, array([0.24537666, 0.24537666]))\n",
      "(3, 18, array([0.24537668, 0.24537668]))\n",
      "(3, 19, array([0.24537669, 0.24537669]))\n",
      "4\n",
      "(4, 0, array([0.29465031, 0.29465031]))\n",
      "(4, 1, array([0.26069527, 0.26069527]))\n",
      "(4, 2, array([0.25075064, 0.25075064]))\n",
      "(4, 3, array([0.24791764, 0.24791764]))\n",
      "(4, 4, array([0.2472154, 0.2472154]))\n",
      "(4, 5, array([0.24705269, 0.24705269]))\n",
      "(4, 6, array([0.24701894, 0.24701894]))\n",
      "(4, 7, array([0.2470141, 0.2470141]))\n",
      "(4, 8, array([0.24701474, 0.24701474]))\n",
      "(4, 9, array([0.24701584, 0.24701584]))\n",
      "(4, 10, array([0.24701659, 0.24701659]))\n",
      "(4, 11, array([0.24701702, 0.24701702]))\n",
      "(4, 12, array([0.24701725, 0.24701725]))\n",
      "(4, 13, array([0.24701737, 0.24701737]))\n",
      "(4, 14, array([0.24701743, 0.24701743]))\n",
      "(4, 15, array([0.24701746, 0.24701746]))\n",
      "(4, 16, array([0.24701747, 0.24701747]))\n",
      "(4, 17, array([0.24701748, 0.24701748]))\n",
      "(4, 18, array([0.24701748, 0.24701748]))\n",
      "(4, 19, array([0.24701749, 0.24701749]))\n",
      "5\n",
      "(5, 0, array([0.25769875, 0.25769875]))\n",
      "(5, 1, array([0.25281756, 0.25281756]))\n",
      "(5, 2, array([0.24877881, 0.24877881]))\n",
      "(5, 3, array([0.24763791, 0.24763791]))\n",
      "(5, 4, array([0.24730052, 0.24730052]))\n",
      "(5, 5, array([0.24719023, 0.24719023]))\n",
      "(5, 6, array([0.24714956, 0.24714956]))\n",
      "(5, 7, array([0.24713276, 0.24713276]))\n",
      "(5, 8, array([0.2471252, 0.2471252]))\n",
      "(5, 9, array([0.24712161, 0.24712161]))\n",
      "(5, 10, array([0.24711985, 0.24711985]))\n",
      "(5, 11, array([0.24711896, 0.24711896]))\n",
      "(5, 12, array([0.24711852, 0.24711852]))\n",
      "(5, 13, array([0.24711829, 0.24711829]))\n",
      "(5, 14, array([0.24711818, 0.24711818]))\n",
      "(5, 15, array([0.24711812, 0.24711812]))\n",
      "(5, 16, array([0.24711809, 0.24711809]))\n",
      "(5, 17, array([0.24711808, 0.24711808]))\n",
      "(5, 18, array([0.24711807, 0.24711807]))\n",
      "(5, 19, array([0.24711807, 0.24711807]))\n",
      "6\n",
      "(6, 0, array([0.30912074, 0.30912074]))\n",
      "(6, 1, array([0.25140819, 0.25140819]))\n",
      "(6, 2, array([0.24805326, 0.24805326]))\n",
      "(6, 3, array([0.24714363, 0.24714363]))\n",
      "(6, 4, array([0.24691419, 0.24691419]))\n",
      "(6, 5, array([0.24685942, 0.24685942]))\n",
      "(6, 6, array([0.24684754, 0.24684754]))\n",
      "(6, 7, array([0.24684558, 0.24684558]))\n",
      "(6, 8, array([0.24684563, 0.24684563]))\n",
      "(6, 9, array([0.24684591, 0.24684591]))\n",
      "(6, 10, array([0.24684613, 0.24684613]))\n",
      "(6, 11, array([0.24684625, 0.24684625]))\n",
      "(6, 12, array([0.24684632, 0.24684632]))\n",
      "(6, 13, array([0.24684635, 0.24684635]))\n",
      "(6, 14, array([0.24684637, 0.24684637]))\n",
      "(6, 15, array([0.24684638, 0.24684638]))\n",
      "(6, 16, array([0.24684638, 0.24684638]))\n",
      "(6, 17, array([0.24684639, 0.24684639]))\n",
      "(6, 18, array([0.24684639, 0.24684639]))\n",
      "(6, 19, array([0.24684639, 0.24684639]))\n",
      "7\n",
      "(7, 0, array([0.34331056, 0.34331056]))\n",
      "(7, 1, array([0.26169309, 0.26169309]))\n",
      "(7, 2, array([0.24990634, 0.24990634]))\n",
      "(7, 3, array([0.2460672, 0.2460672]))\n",
      "(7, 4, array([0.24501284, 0.24501284]))\n",
      "(7, 5, array([0.2447424, 0.2447424]))\n",
      "(7, 6, array([0.24467589, 0.24467589]))\n",
      "(7, 7, array([0.24466053, 0.24466053]))\n",
      "(7, 8, array([0.24465751, 0.24465751]))\n",
      "(7, 9, array([0.24465722, 0.24465722]))\n",
      "(7, 10, array([0.24465741, 0.24465741]))\n",
      "(7, 11, array([0.24465759, 0.24465759]))\n",
      "(7, 12, array([0.24465771, 0.24465771]))\n",
      "(7, 13, array([0.24465779, 0.24465779]))\n",
      "(7, 14, array([0.24465782, 0.24465782]))\n",
      "(7, 15, array([0.24465785, 0.24465785]))\n",
      "(7, 16, array([0.24465786, 0.24465786]))\n",
      "(7, 17, array([0.24465786, 0.24465786]))\n",
      "(7, 18, array([0.24465787, 0.24465787]))\n",
      "(7, 19, array([0.24465787, 0.24465787]))\n",
      "8\n",
      "(8, 0, array([0.27034471, 0.27034471]))\n",
      "(8, 1, array([0.24588605, 0.24588605]))\n",
      "(8, 2, array([0.24186709, 0.24186709]))\n",
      "(8, 3, array([0.24069334, 0.24069334]))\n",
      "(8, 4, array([0.24038099, 0.24038099]))\n",
      "(8, 5, array([0.24030416, 0.24030416]))\n",
      "(8, 6, array([0.24028792, 0.24028792]))\n",
      "(8, 7, array([0.24028604, 0.24028604]))\n",
      "(8, 8, array([0.24028692, 0.24028692]))\n",
      "(8, 9, array([0.24028794, 0.24028794]))\n",
      "(8, 10, array([0.24028864, 0.24028864]))\n",
      "(8, 11, array([0.24028907, 0.24028907]))\n",
      "(8, 12, array([0.24028932, 0.24028932]))\n",
      "(8, 13, array([0.24028946, 0.24028946]))\n",
      "(8, 14, array([0.24028954, 0.24028954]))\n",
      "(8, 15, array([0.24028959, 0.24028959]))\n",
      "(8, 16, array([0.24028961, 0.24028961]))\n",
      "(8, 17, array([0.24028962, 0.24028962]))\n",
      "(8, 18, array([0.24028963, 0.24028963]))\n",
      "(8, 19, array([0.24028963, 0.24028963]))\n",
      "9\n",
      "(9, 0, array([0.28671759, 0.28671759]))\n",
      "(9, 1, array([0.26196812, 0.26196812]))\n",
      "(9, 2, array([0.25172587, 0.25172587]))\n",
      "(9, 3, array([0.24847043, 0.24847043]))\n",
      "(9, 4, array([0.24757302, 0.24757302]))\n",
      "(9, 5, array([0.24733867, 0.24733867]))\n",
      "(9, 6, array([0.24727885, 0.24727885]))\n",
      "(9, 7, array([0.24726384, 0.24726384]))\n",
      "(9, 8, array([0.24726016, 0.24726016]))\n",
      "(9, 9, array([0.2472593, 0.2472593]))\n",
      "(9, 10, array([0.24725913, 0.24725913]))\n",
      "(9, 11, array([0.2472591, 0.2472591]))\n",
      "(9, 12, array([0.24725911, 0.24725911]))\n",
      "(9, 13, array([0.24725911, 0.24725911]))\n",
      "(9, 14, array([0.24725912, 0.24725912]))\n",
      "(9, 15, array([0.24725912, 0.24725912]))\n",
      "(9, 16, array([0.24725912, 0.24725912]))\n",
      "(9, 17, array([0.24725912, 0.24725912]))\n",
      "(9, 18, array([0.24725912, 0.24725912]))\n",
      "(9, 19, array([0.24725912, 0.24725912]))\n"
     ]
    }
   ],
   "source": [
    "nm = n*m\n",
    "wini = np.random.normal(0.0,g/np.sqrt(nm),size=(nm,nm))\n",
    "#print(w)\n",
    "\n",
    "nloop = 20\n",
    "w_infer = np.zeros((nm,nm))\n",
    "\n",
    "for i in range(n):\n",
    "    print(i)\n",
    "    i1,i2 = i1tab[i],i2tab[i]\n",
    "    #s1 = np.copy(s[1:,i1:i2])\n",
    "\n",
    "    w = wini[i1:i2,:]\n",
    "    \n",
    "    for iloop in range(nloop):\n",
    "        h = np.dot(s[:-1],w.T)\n",
    "        \n",
    "        p = np.exp(h)\n",
    "        p_sum = p.sum(axis=1)\n",
    "        \n",
    "        for k in range(m):\n",
    "            p[:,k] = p[:,k]/p_sum[:]\n",
    "\n",
    "        h += s[1:,i1:i2] - p\n",
    "\n",
    "        cost = ((s[1:,i1:i2]-p)**2).mean(axis=0)\n",
    "        print(i,iloop,cost)\n",
    "\n",
    "        h_av = h.mean(axis=0)\n",
    "        dh = h - h_av\n",
    "\n",
    "        dhds = dh[:,:,np.newaxis]*ds[:,np.newaxis,:]\n",
    "        dhds_av = dhds.mean(axis=0)\n",
    "\n",
    "        w = np.dot(dhds_av,c_inv)\n",
    "        #w = w - w.mean(axis=0)    \n",
    "    w_infer[i1:i2,:] = w        "
   ]
  },
  {
   "cell_type": "code",
   "execution_count": 12,
   "metadata": {},
   "outputs": [
    {
     "data": {
      "text/plain": [
       "[<matplotlib.lines.Line2D at 0x7fd4cf1fd190>]"
      ]
     },
     "execution_count": 12,
     "metadata": {},
     "output_type": "execute_result"
    },
    {
     "data": {
      "image/png": "[encoded data removed]",
      "text/plain": [
       "<Figure size 432x288 with 1 Axes>"
      ]
     },
     "metadata": {},
     "output_type": "display_data"
    }
   ],
   "source": [
    "plt.scatter(w0,w_infer)\n",
    "plt.plot([-0.3,0.3],[-0.3,0.3],'r--')"
   ]
  },
  {
   "cell_type": "code",
   "execution_count": null,
   "metadata": {},
   "outputs": [],
   "source": []
  }
 ],
 "metadata": {
  "kernelspec": {
   "display_name": "Python 2",
   "language": "python",
   "name": "python2"
  },
  "language_info": {
   "codemirror_mode": {
    "name": "ipython",
    "version": 2
   },
   "file_extension": ".py",
   "mimetype": "text/x-python",
   "name": "python",
   "nbconvert_exporter": "python",
   "pygments_lexer": "ipython2",
   "version": "2.7.15"
  }
 },
 "nbformat": 4,
 "nbformat_minor": 2
}
