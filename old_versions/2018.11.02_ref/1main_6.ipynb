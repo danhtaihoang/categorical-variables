{
 "cells": [
  {
   "cell_type": "code",
   "execution_count": 1,
   "metadata": {
    "collapsed": true
   },
   "outputs": [],
   "source": [
    "import sys,os\n",
    "import numpy as np\n",
    "from scipy import linalg\n",
    "from sklearn.preprocessing import OneHotEncoder\n",
    "import matplotlib.pyplot as plt\n",
    "%matplotlib inline"
   ]
  },
  {
   "cell_type": "code",
   "execution_count": 2,
   "metadata": {
    "collapsed": true,
    "scrolled": true
   },
   "outputs": [],
   "source": [
    "# setting parameter:\n",
    "np.random.seed(1)\n",
    "\n",
    "n = 10 # number of positions\n",
    "m = 2 # number of values at each position\n",
    "l = 1000 # number of samples\n",
    "\n",
    "g = 1."
   ]
  },
  {
   "cell_type": "code",
   "execution_count": 3,
   "metadata": {
    "collapsed": true,
    "scrolled": false
   },
   "outputs": [],
   "source": [
    "# generate coupling matrix w0:\n",
    "def generate_coupling(n,m,g):\n",
    "    nm = n*m\n",
    "    w = np.random.normal(0.0,g/np.sqrt(nm),size=(nm,nm))\n",
    "\n",
    "    # no self-interaction:\n",
    "    for i in range(n):\n",
    "        i1 = i*m\n",
    "        i2 = (i+1)*m \n",
    "        w[i1:i2,i1:i2] = 0.\n",
    "    \n",
    "            \n",
    "    # symmetry interaction\n",
    "    #for i in range(nm):\n",
    "    #    for j in range(nm):\n",
    "    #        if j > i: w[i,j] = w[j,i]\n",
    "\n",
    "    for i in range(n):\n",
    "        i1 = i*m\n",
    "        i2 = (i+1)*m \n",
    "        w[i1:i2,:] = w[i1:i2,:] - w[i1:i2,:].mean(axis=0)            \n",
    "    \n",
    "    return w"
   ]
  },
  {
   "cell_type": "code",
   "execution_count": 4,
   "metadata": {
    "collapsed": true
   },
   "outputs": [],
   "source": [
    "# generate sequences:\n",
    "def generate_sequences(w,n,m,l):         \n",
    "    # initial s\n",
    "    s_ini = np.random.randint(0,m,size=(l,n)) # integer values\n",
    "    #print(s_ini)\n",
    "    \n",
    "    # onehot encoder\n",
    "    enc = OneHotEncoder(n_values=m)\n",
    "    #s = csr_matrix(enc.fit_transform(s_ini)).toarray()\n",
    "    s = enc.fit_transform(s_ini).toarray()\n",
    "    #print(s)\n",
    "    \n",
    "    nflip = 100\n",
    "    ntrial = 20\n",
    "    for iflip in range(nflip):\n",
    "        for i in range(n):\n",
    "            i1 = i*m\n",
    "            i2 = (i+1)*m   \n",
    "            h = np.dot(s,w.T)\n",
    "\n",
    "            for t in range(l):                \n",
    "                p1 = np.exp(h[t,i1:i2])\n",
    "                #print(p1)\n",
    "                p2 = p1.sum()\n",
    "                p = p1/p2\n",
    "\n",
    "                for itrial in range(ntrial):\n",
    "                    k = np.random.randint(0,m)\n",
    "\n",
    "                    if p[k] > np.random.rand():\n",
    "                        s[t,i1:i2] = 0.\n",
    "                        s[t,i1+k] = 1.\n",
    "\n",
    "                        #print('flip',itrial,i,k,p[k])                  \n",
    "\n",
    "                        break                         \n",
    "    return s     "
   ]
  },
  {
   "cell_type": "code",
   "execution_count": 5,
   "metadata": {
    "collapsed": true
   },
   "outputs": [],
   "source": [
    "def eps_ab_func(s0,m):\n",
    "    l,n = s0.shape\n",
    "    eps = np.zeros((n,l,m,m))\n",
    "    #eps[:,:,:,:] = -1. #### ????\n",
    "    for i in range(n):\n",
    "        for t in range(l):            \n",
    "            eps[i,t,:,int(s0[t,i])] = -1.\n",
    "            eps[i,t,int(s0[t,i]),:] = 1.\n",
    "    return eps"
   ]
  },
  {
   "cell_type": "code",
   "execution_count": 6,
   "metadata": {
    "collapsed": true
   },
   "outputs": [],
   "source": [
    "w0 = generate_coupling(n,m,g)\n",
    "\n",
    "#plt.figure(figsize=(3,3))\n",
    "#plt.title('actual coupling matrix')\n",
    "#plt.imshow(w0,cmap='rainbow',origin='lower')\n",
    "#plt.xlabel('j')\n",
    "#plt.ylabel('i')\n",
    "#plt.clim(-0.5,0.5)\n",
    "#plt.colorbar(fraction=0.045, pad=0.05,ticks=[-0.5,0,0.5])\n",
    "#plt.show()"
   ]
  },
  {
   "cell_type": "code",
   "execution_count": 7,
   "metadata": {
    "collapsed": true,
    "scrolled": true
   },
   "outputs": [],
   "source": [
    "s = generate_sequences(w0,n,m,l)"
   ]
  },
  {
   "cell_type": "code",
   "execution_count": 8,
   "metadata": {},
   "outputs": [
    {
     "name": "stdout",
     "output_type": "stream",
     "text": [
      "(1000, 20)\n",
      "[[1. 0. 1. 0. 1. 0. 0. 1. 0. 1. 0. 1. 1. 0. 0. 1. 1. 0. 0. 1.]\n",
      " [0. 1. 1. 0. 1. 0. 1. 0. 1. 0. 0. 1. 0. 1. 1. 0. 0. 1. 0. 1.]\n",
      " [0. 1. 0. 1. 1. 0. 0. 1. 1. 0. 0. 1. 1. 0. 0. 1. 0. 1. 1. 0.]\n",
      " [1. 0. 1. 0. 1. 0. 1. 0. 1. 0. 0. 1. 0. 1. 1. 0. 0. 1. 1. 0.]\n",
      " [0. 1. 0. 1. 1. 0. 0. 1. 0. 1. 0. 1. 0. 1. 1. 0. 1. 0. 0. 1.]\n",
      " [0. 1. 0. 1. 0. 1. 0. 1. 0. 1. 1. 0. 0. 1. 1. 0. 0. 1. 0. 1.]\n",
      " [1. 0. 1. 0. 1. 0. 0. 1. 0. 1. 0. 1. 0. 1. 1. 0. 0. 1. 0. 1.]\n",
      " [0. 1. 0. 1. 0. 1. 1. 0. 1. 0. 0. 1. 0. 1. 0. 1. 0. 1. 0. 1.]\n",
      " [0. 1. 0. 1. 0. 1. 0. 1. 0. 1. 1. 0. 0. 1. 1. 0. 1. 0. 1. 0.]\n",
      " [0. 1. 0. 1. 1. 0. 1. 0. 0. 1. 1. 0. 1. 0. 0. 1. 0. 1. 1. 0.]]\n"
     ]
    }
   ],
   "source": [
    "print(s.shape)\n",
    "print(s[:10]) "
   ]
  },
  {
   "cell_type": "code",
   "execution_count": 9,
   "metadata": {
    "collapsed": true
   },
   "outputs": [],
   "source": [
    "# recover s0 from s\n",
    "s0 = np.argmax(s.reshape(-1,m),axis=1).reshape(-1,n)\n",
    "#print(s0)"
   ]
  },
  {
   "cell_type": "code",
   "execution_count": 10,
   "metadata": {
    "collapsed": true
   },
   "outputs": [],
   "source": [
    "eps_ab_all = eps_ab_func(s0,m)"
   ]
  },
  {
   "cell_type": "code",
   "execution_count": 11,
   "metadata": {},
   "outputs": [
    {
     "name": "stdout",
     "output_type": "stream",
     "text": [
      "[[ 1.  1.]\n",
      " [-1. -1.]]\n"
     ]
    }
   ],
   "source": [
    "print(eps_ab_all[0,0,:,:])"
   ]
  },
  {
   "cell_type": "code",
   "execution_count": 12,
   "metadata": {
    "scrolled": true
   },
   "outputs": [
    {
     "name": "stdout",
     "output_type": "stream",
     "text": [
      "[[ 0.10303901  1.53783071  1.03246085 ... -0.05737459 -0.22163086\n",
      "   0.12838448]\n",
      " [-0.84097218  0.11623782  0.47347418 ...  0.21624099 -0.99822515\n",
      "   0.2499871 ]\n",
      " [ 0.12121218  1.6552419   0.95614695 ...  0.59353903 -0.44121665\n",
      "   0.31152535]\n",
      " ...\n",
      " [ 0.28941126  0.9717962   1.22170003 ... -0.02501296 -0.57696597\n",
      "   0.5116204 ]\n",
      " [-0.17742318 -0.37105236 -0.09763808 ... -0.16114975 -0.83427209\n",
      "   0.28712227]\n",
      " [ 0.1275253   0.26396949  1.27915868 ...  0.61389677 -0.53772832\n",
      "   1.08188771]]\n",
      "(1000, 20)\n"
     ]
    }
   ],
   "source": [
    "#nloop = 5\n",
    "\n",
    "nm = n*m\n",
    "\n",
    "# w initial\n",
    "w_ini = np.random.normal(0.0,g/np.sqrt(nm),size=(nm,nm))\n",
    "# no self-interaction:\n",
    "for i in range(n):\n",
    "    i1 = i*m\n",
    "    i2 = (i+1)*m \n",
    "    w_ini[i1:i2,i1:i2] = 0.\n",
    "\n",
    "H = np.dot(s,w_ini.T)\n",
    "\n",
    "print(H)\n",
    "print(H.shape)"
   ]
  },
  {
   "cell_type": "code",
   "execution_count": 13,
   "metadata": {
    "collapsed": true
   },
   "outputs": [],
   "source": [
    "# for i in range(n):\n",
    "i = 0\n",
    "\n",
    "i1 = i*m\n",
    "i2 = (i+1)*m\n",
    "\n",
    "eps_ab = eps_ab_all[i]\n",
    "\n",
    "# remove position i \n",
    "s1 = np.hstack([s[:,:i1],s[:,i2:]])\n",
    "#print(s1)\n",
    "s_av = s1.mean(axis=0)\n",
    "ds = s1 - s_av\n",
    "\n",
    "c = np.cov(ds,rowvar=False,bias=True)\n",
    "#print(c)\n",
    "#print(c.shape)"
   ]
  },
  {
   "cell_type": "code",
   "execution_count": 14,
   "metadata": {
    "collapsed": true
   },
   "outputs": [],
   "source": [
    "#c_inv = linalg.inv(c)\n",
    "c_inv = linalg.pinv(c,rcond=1e-15)"
   ]
  },
  {
   "cell_type": "code",
   "execution_count": 15,
   "metadata": {
    "collapsed": true
   },
   "outputs": [],
   "source": [
    "#print(c_inv)"
   ]
  },
  {
   "cell_type": "code",
   "execution_count": 16,
   "metadata": {
    "collapsed": true,
    "scrolled": true
   },
   "outputs": [],
   "source": [
    "dst = ds.T    \n",
    "\n",
    "h = H[:,i1:i2]\n",
    "\n",
    "nloop = 50\n",
    "for iloop in range(nloop):\n",
    "    h_av = h.mean(axis=0)\n",
    "    dh = h - h_av\n",
    "\n",
    "    # dhds[t,i,j] = dh[t,i]*ds[t,j]\n",
    "    dhds = dh[:,:,np.newaxis]*ds[:,np.newaxis,:]\n",
    "    dhds_av = dhds.mean(axis=0)\n",
    "\n",
    "    w = np.dot(dhds_av,c_inv)\n",
    "    #print(w)\n",
    "\n",
    "    #w = w - w.sum(axis=0)\n",
    "\n",
    "    h = np.dot(s1,w.T)\n",
    "    p = np.exp(h)\n",
    "    p_sum = p.sum(axis=1)\n",
    "\n",
    "    # dh_ab[t,i,j] = h[t,i] - h[t,j]\n",
    "    h_ab =  h[:,:,np.newaxis] - h[:,np.newaxis,:]\n",
    "    \n",
    "    h_ab = h_ab/2.\n",
    "    \n",
    "    \n",
    "    eps_ab_expect = np.tanh(h_ab)\n",
    "\n",
    "    # eps_expect[t,i,j] = (p[t,i] - p[t,j])/p_sum[t]\n",
    "    #eps_ab_expect = (p[:,:,np.newaxis] - p[:,np.newaxis,:])/p_sum[:,np.newaxis,np.newaxis]\n",
    "    \n",
    "\n",
    "    # h[t,i,j] = eps_ab[t,i,j]*h_ab[t,i,j]/eps_expect[t,i,j] ( = 0 if eps_expect[t,i,j] = 0)\n",
    "    h = np.divide(eps_ab*h_ab,eps_ab_expect, out=np.zeros_like(h_ab), where=eps_ab_expect!=0)\n",
    "    h = h.mean(axis=2)"
   ]
  },
  {
   "cell_type": "code",
   "execution_count": 17,
   "metadata": {},
   "outputs": [
    {
     "name": "stdout",
     "output_type": "stream",
     "text": [
      "[[ 0.0688896  -0.0688896   0.05484017 -0.05484017  0.0488729  -0.0488729\n",
      "   0.01872678 -0.01872678 -0.05552606  0.05552606 -0.03176262  0.03176262\n",
      "  -0.08642532  0.08642532  0.07624739 -0.07624739 -0.08573639  0.08573639]\n",
      " [-0.0688896   0.0688896  -0.05484017  0.05484017 -0.0488729   0.0488729\n",
      "  -0.01872678  0.01872678  0.05552606 -0.05552606  0.03176262 -0.03176262\n",
      "   0.08642532 -0.08642532 -0.07624739  0.07624739  0.08573639 -0.08573639]]\n",
      "(2, 18)\n"
     ]
    }
   ],
   "source": [
    "print(w)\n",
    "print(w.shape)"
   ]
  },
  {
   "cell_type": "code",
   "execution_count": 18,
   "metadata": {
    "scrolled": true
   },
   "outputs": [
    {
     "data": {
      "text/plain": [
       "<matplotlib.collections.PathCollection at 0x7f16c806bf10>"
      ]
     },
     "execution_count": 18,
     "metadata": {},
     "output_type": "execute_result"
    },
    {
     "data": {
      "image/png": "[encoded data removed]",
      "text/plain": [
       "<matplotlib.figure.Figure at 0x7f16a057c890>"
      ]
     },
     "metadata": {},
     "output_type": "display_data"
    }
   ],
   "source": [
    "#print(w)\n",
    "wpred = np.zeros((nm,nm))\n",
    "wpred[i1:i2,:i1] = w[:,:i1]\n",
    "wpred[i1:i2,i2:] = w[:,i1:]\n",
    "\n",
    "plt.scatter(w0[i1:i2,i2:],wpred[i1:i2,i2:])"
   ]
  },
  {
   "cell_type": "code",
   "execution_count": null,
   "metadata": {
    "collapsed": true
   },
   "outputs": [],
   "source": []
  }
 ],
 "metadata": {
  "kernelspec": {
   "display_name": "Python 2",
   "language": "python",
   "name": "python2"
  },
  "language_info": {
   "codemirror_mode": {
    "name": "ipython",
    "version": 2
   },
   "file_extension": ".py",
   "mimetype": "text/x-python",
   "name": "python",
   "nbconvert_exporter": "python",
   "pygments_lexer": "ipython2",
   "version": "2.7.15"
  }
 },
 "nbformat": 4,
 "nbformat_minor": 2
}
