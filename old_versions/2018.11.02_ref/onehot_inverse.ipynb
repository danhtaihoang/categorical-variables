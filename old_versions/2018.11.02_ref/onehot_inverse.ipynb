{
 "cells": [
  {
   "cell_type": "code",
   "execution_count": 1,
   "metadata": {},
   "outputs": [
    {
     "name": "stdout",
     "output_type": "stream",
     "text": [
      "[[1 0 1]\n",
      " [1 0 0]\n",
      " [1 1 0]]\n",
      "[[0. 1. 1. 0. 0. 1.]\n",
      " [0. 1. 1. 0. 1. 0.]\n",
      " [0. 1. 0. 1. 1. 0.]]\n"
     ]
    }
   ],
   "source": [
    "from sklearn.preprocessing import OneHotEncoder\n",
    "import numpy as np\n",
    "\n",
    "n = 3 # number of variables\n",
    "m = 2 # number of states of each variables\n",
    "\n",
    "# original\n",
    "s0 = np.array([[1,0,1],[1,0,0],[1,1,0]])\n",
    "print(s0)\n",
    "\n",
    "# onehot encoding\n",
    "enc = OneHotEncoder(n_values=m)\n",
    "s = enc.fit_transform(s0).toarray()\n",
    "print(s)"
   ]
  },
  {
   "cell_type": "code",
   "execution_count": 2,
   "metadata": {},
   "outputs": [
    {
     "name": "stdout",
     "output_type": "stream",
     "text": [
      "[[1 0 1]\n",
      " [1 0 0]\n",
      " [1 1 0]]\n"
     ]
    }
   ],
   "source": [
    "# recover s0 from s\n",
    "s_inverse = np.argmax(s.reshape(-1,m),axis=1).reshape(-1,n)\n",
    "print(s_inverse)"
   ]
  }
 ],
 "metadata": {
  "kernelspec": {
   "display_name": "Python 2",
   "language": "python",
   "name": "python2"
  },
  "language_info": {
   "codemirror_mode": {
    "name": "ipython",
    "version": 2
   },
   "file_extension": ".py",
   "mimetype": "text/x-python",
   "name": "python",
   "nbconvert_exporter": "python",
   "pygments_lexer": "ipython2",
   "version": "2.7.15"
  }
 },
 "nbformat": 4,
 "nbformat_minor": 2
}
