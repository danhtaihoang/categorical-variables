{
 "cells": [
  {
   "cell_type": "markdown",
   "metadata": {},
   "source": [
    "# 2018.11.01: Network inference from time series of cartegorical variables\n",
    "## Vipul's update"
   ]
  },
  {
   "cell_type": "code",
   "execution_count": 1,
   "metadata": {},
   "outputs": [],
   "source": [
    "import sys,os\n",
    "import numpy as np\n",
    "from scipy import linalg\n",
    "from sklearn.preprocessing import OneHotEncoder\n",
    "import matplotlib.pyplot as plt\n",
    "%matplotlib inline"
   ]
  },
  {
   "cell_type": "code",
   "execution_count": 2,
   "metadata": {
    "scrolled": true
   },
   "outputs": [],
   "source": [
    "# setting parameter:\n",
    "np.random.seed(1)\n",
    "\n",
    "n = 10 # number of positions\n",
    "m = 3 # number of values at each position\n",
    "l = 2*((n*m)**2) # number of samples\n",
    "#l = 500\n",
    "\n",
    "g = 1."
   ]
  },
  {
   "cell_type": "code",
   "execution_count": 3,
   "metadata": {},
   "outputs": [],
   "source": [
    "def itab(n,m):    \n",
    "    i1 = np.zeros(n)\n",
    "    i2 = np.zeros(n)\n",
    "    for i in range(n):\n",
    "        i1[i] = i*m\n",
    "        i2[i] = (i+1)*m\n",
    "\n",
    "    return i1.astype(int),i2.astype(int)\n",
    "\n",
    "i1tab,i2tab = itab(n,m)"
   ]
  },
  {
   "cell_type": "code",
   "execution_count": 4,
   "metadata": {
    "scrolled": false
   },
   "outputs": [],
   "source": [
    "# generate coupling matrix w0:\n",
    "def generate_coupling(n,m,g):\n",
    "    nm = n*m\n",
    "    w = np.random.normal(0.0,g/np.sqrt(nm),size=(nm,nm))\n",
    "    \n",
    "    for i in range(n):\n",
    "        i1,i2 = i1tab[i],i2tab[i]\n",
    "        w[i1:i2,:] -= w[i1:i2,:].mean(axis=0)            \n",
    "\n",
    "    for i in range(n):\n",
    "        i1,i2 = i1tab[i],i2tab[i]\n",
    "        w[:,i1:i2] -= w[:,i1:i2].mean(axis=1)[:,np.newaxis]            \n",
    "        \n",
    "    return w"
   ]
  },
  {
   "cell_type": "code",
   "execution_count": 5,
   "metadata": {},
   "outputs": [],
   "source": [
    "w0 = generate_coupling(n,m,g)"
   ]
  },
  {
   "cell_type": "code",
   "execution_count": 6,
   "metadata": {},
   "outputs": [],
   "source": [
    "# 2018.10.27: generate time series by MCMC\n",
    "def generate_sequences_MCMC(w,n,m,l): \n",
    "    #print(i1tab,i2tab)\n",
    "    \n",
    "    # initial s (categorical variables)\n",
    "    s_ini = np.random.randint(0,m,size=(l,n)) # integer values\n",
    "    #print(s_ini)\n",
    "\n",
    "    # onehot encoder \n",
    "    enc = OneHotEncoder(n_values=m)\n",
    "    s = enc.fit_transform(s_ini).toarray()\n",
    "    #print(s) \n",
    "\n",
    "    ntrial = 100\n",
    "\n",
    "    for t in range(l-1):\n",
    "        h = np.sum(s[t,:]*w[:,:],axis=1)\n",
    "        for i in range(n):\n",
    "            i1,i2 = i1tab[i],i2tab[i]\n",
    "                \n",
    "            k = np.random.randint(0,m)              \n",
    "            for itrial in range(ntrial):            \n",
    "                k2 = np.random.randint(0,m)                \n",
    "                while k2 == k:\n",
    "                    k2 = np.random.randint(0,m)\n",
    "                               \n",
    "                if np.exp(h[i1+k2]- h[i1+k]) > np.random.rand():\n",
    "                    k = k2\n",
    "            \n",
    "            s[t+1,i1:i2] = 0.\n",
    "            s[t+1,i1+k] = 1.\n",
    "            \n",
    "    return s            "
   ]
  },
  {
   "cell_type": "code",
   "execution_count": 7,
   "metadata": {},
   "outputs": [],
   "source": [
    "s = generate_sequences_MCMC(w0,n,m,l) "
   ]
  },
  {
   "cell_type": "code",
   "execution_count": 8,
   "metadata": {
    "scrolled": true
   },
   "outputs": [],
   "source": [
    "#print(s[:5])"
   ]
  },
  {
   "cell_type": "code",
   "execution_count": 9,
   "metadata": {},
   "outputs": [],
   "source": [
    "# recover s0 from s\n",
    "s0 = np.argmax(s.reshape(-1,m),axis=1).reshape(-1,n)"
   ]
  },
  {
   "cell_type": "code",
   "execution_count": 10,
   "metadata": {},
   "outputs": [],
   "source": [
    "def eps_ab_func(s0,m):\n",
    "    l,n = s0.shape\n",
    "    eps = np.zeros((n,l-1,m,m))\n",
    "    eps[:,:,:] = -1.\n",
    "    for i in range(n):\n",
    "        for t in range(l-1):            \n",
    "            #eps[i,t,:,int(s0[t+1,i])] = -1.\n",
    "            eps[i,t,int(s0[t+1,i]),:] = 1.\n",
    "    return eps"
   ]
  },
  {
   "cell_type": "code",
   "execution_count": 11,
   "metadata": {},
   "outputs": [],
   "source": [
    "eps_ab_all = eps_ab_func(s0,m)"
   ]
  },
  {
   "cell_type": "code",
   "execution_count": 12,
   "metadata": {
    "scrolled": true
   },
   "outputs": [],
   "source": [
    "def fit_vp_update(s):\n",
    "    l = s.shape[0]\n",
    "\n",
    "    s_av = np.mean(s[:-1],axis=0)\n",
    "    ds = s[:-1] - s_av\n",
    "    c = np.cov(ds,rowvar=False,bias=True)\n",
    "    #print(c)\n",
    "\n",
    "    c_inv = linalg.pinv(c,rcond=1e-15)\n",
    "    #print(c_inv)\n",
    "\n",
    "    nm = n*m\n",
    "    nloop = 100\n",
    "\n",
    "    wini = np.random.normal(0.0,g/np.sqrt(nm),size=(nm,nm))\n",
    "\n",
    "    w_infer = np.zeros((nm,nm))\n",
    "\n",
    "    for i in range(n):\n",
    "        i1,i2 = i1tab[i],i2tab[i]\n",
    "\n",
    "        w = wini[i1:i2,:].copy()\n",
    "        for iloop in range(nloop):\n",
    "            h = np.dot(s[:-1],w.T)\n",
    "\n",
    "            for ia in range(m):\n",
    "                dhds_av = np.zeros((m,nm))\n",
    "\n",
    "                for ib in range(m):\n",
    "                    if ib != ia:\n",
    "                        # eps[t] = s[t+1,ia] - s[t+1,ib] \n",
    "                        eps = s[1:,i1+ia] - s[1:,i1+ib]\n",
    "\n",
    "                        which_ab = eps!=0.\n",
    "\n",
    "                        eps = eps[which_ab]\n",
    "\n",
    "                        x = s[:-1]\n",
    "                        sab = x[which_ab]\n",
    "\n",
    "                        h_ab = h[which_ab,ia] - h[which_ab,ib]\n",
    "\n",
    "                        #ha = eps*h_ab/np.tanh(h_ab/2.)\n",
    "                        ha = eps*h[which_ab,ia]/np.tanh(h_ab/2.)\n",
    "\n",
    "                        dhds = (ha - ha.mean())[:,np.newaxis]*(sab-sab.mean())\n",
    "\n",
    "                        dhds_av[ib,:] = dhds.mean(axis=0)\n",
    "\n",
    "                dhds_av_av = dhds_av.mean(axis=0)\n",
    "\n",
    "                w[ia,:] = np.dot(c_inv,dhds_av_av)  \n",
    "\n",
    "        w_infer[i1:i2,:] = w     \n",
    "\n",
    "    return w_infer"
   ]
  },
  {
   "cell_type": "code",
   "execution_count": 13,
   "metadata": {},
   "outputs": [
    {
     "data": {
      "text/plain": [
       "[<matplotlib.lines.Line2D at 0x7f13cc09e110>]"
      ]
     },
     "execution_count": 13,
     "metadata": {},
     "output_type": "execute_result"
    },
    {
     "data": {
      "image/png": "[encoded data removed]",
      "text/plain": [
       "<Figure size 432x288 with 1 Axes>"
      ]
     },
     "metadata": {},
     "output_type": "display_data"
    }
   ],
   "source": [
    "w = fit_vp_update(s)\n",
    "\n",
    "plt.scatter(w0,w)\n",
    "plt.plot([-0.3,0.3],[-0.3,0.3],'r--')"
   ]
  },
  {
   "cell_type": "code",
   "execution_count": 14,
   "metadata": {},
   "outputs": [
    {
     "name": "stdout",
     "output_type": "stream",
     "text": [
      "(3276.861330051129, 32.19920691895028)\n"
     ]
    }
   ],
   "source": [
    "mse = ((w0-w)**2).mean()\n",
    "slope = (w0*w).sum()/(w0**2).sum()\n",
    "\n",
    "print(mse,slope)"
   ]
  },
  {
   "cell_type": "code",
   "execution_count": null,
   "metadata": {},
   "outputs": [],
   "source": []
  }
 ],
 "metadata": {
  "kernelspec": {
   "display_name": "Python 2",
   "language": "python",
   "name": "python2"
  },
  "language_info": {
   "codemirror_mode": {
    "name": "ipython",
    "version": 2
   },
   "file_extension": ".py",
   "mimetype": "text/x-python",
   "name": "python",
   "nbconvert_exporter": "python",
   "pygments_lexer": "ipython2",
   "version": "2.7.15"
  }
 },
 "nbformat": 4,
 "nbformat_minor": 2
}
