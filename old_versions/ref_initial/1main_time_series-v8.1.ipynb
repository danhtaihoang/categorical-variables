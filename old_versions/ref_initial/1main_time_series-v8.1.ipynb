{
 "cells": [
  {
   "cell_type": "markdown",
   "metadata": {},
   "source": [
    "# 2018.11.01: Network inference from time series of cartegorical variables\n",
    "## eps = 1 if A, -1 otherwise"
   ]
  },
  {
   "cell_type": "code",
   "execution_count": 1,
   "metadata": {
    "collapsed": true
   },
   "outputs": [],
   "source": [
    "import sys,os\n",
    "import numpy as np\n",
    "from scipy import linalg\n",
    "from sklearn.preprocessing import OneHotEncoder\n",
    "import matplotlib.pyplot as plt\n",
    "%matplotlib inline"
   ]
  },
  {
   "cell_type": "code",
   "execution_count": 2,
   "metadata": {
    "collapsed": true,
    "scrolled": true
   },
   "outputs": [],
   "source": [
    "# setting parameter:\n",
    "np.random.seed(1)\n",
    "\n",
    "n = 10 # number of positions\n",
    "m = 5 # number of values at each position\n",
    "l = 4*((n*m)**2) # number of samples\n",
    "\n",
    "g = 1."
   ]
  },
  {
   "cell_type": "code",
   "execution_count": 3,
   "metadata": {
    "collapsed": true
   },
   "outputs": [],
   "source": [
    "def itab(n,m):    \n",
    "    i1 = np.zeros(n)\n",
    "    i2 = np.zeros(n)\n",
    "    for i in range(n):\n",
    "        i1[i] = i*m\n",
    "        i2[i] = (i+1)*m\n",
    "\n",
    "    return i1.astype(int),i2.astype(int)\n",
    "\n",
    "i1tab,i2tab = itab(n,m)"
   ]
  },
  {
   "cell_type": "code",
   "execution_count": 4,
   "metadata": {
    "collapsed": true,
    "scrolled": false
   },
   "outputs": [],
   "source": [
    "# generate coupling matrix w0:\n",
    "def generate_coupling(n,m,g):\n",
    "    nm = n*m\n",
    "    w = np.random.normal(0.0,g/np.sqrt(nm),size=(nm,nm))\n",
    "    \n",
    "    for i in range(n):\n",
    "        i1,i2 = i1tab[i],i2tab[i]\n",
    "        w[i1:i2,:] -= w[i1:i2,:].mean(axis=0)            \n",
    "\n",
    "    for i in range(n):\n",
    "        i1,i2 = i1tab[i],i2tab[i]\n",
    "        w[:,i1:i2] -= w[:,i1:i2].mean(axis=1)[:,np.newaxis]            \n",
    "        \n",
    "    return w"
   ]
  },
  {
   "cell_type": "code",
   "execution_count": 5,
   "metadata": {
    "collapsed": true
   },
   "outputs": [],
   "source": [
    "w0 = generate_coupling(n,m,g)"
   ]
  },
  {
   "cell_type": "code",
   "execution_count": 6,
   "metadata": {
    "collapsed": true
   },
   "outputs": [],
   "source": [
    "# 2018.10.27: generate time series by MCMC\n",
    "def generate_sequences_MCMC(w,n,m,l): \n",
    "    #print(i1tab,i2tab)\n",
    "    \n",
    "    # initial s (categorical variables)\n",
    "    s_ini = np.random.randint(0,m,size=(l,n)) # integer values\n",
    "    #print(s_ini)\n",
    "\n",
    "    # onehot encoder \n",
    "    enc = OneHotEncoder(n_values=m)\n",
    "    s = enc.fit_transform(s_ini).toarray()\n",
    "    #print(s) \n",
    "\n",
    "    ntrial = 100\n",
    "\n",
    "    for t in range(l-1):\n",
    "        h = np.sum(s[t,:]*w[:,:],axis=1)\n",
    "        for i in range(n):\n",
    "            i1,i2 = i1tab[i],i2tab[i]\n",
    "                \n",
    "            k = np.random.randint(0,m)              \n",
    "            for itrial in range(ntrial):            \n",
    "                k2 = np.random.randint(0,m)                \n",
    "                while k2 == k:\n",
    "                    k2 = np.random.randint(0,m)\n",
    "                               \n",
    "                if np.exp(h[i1+k2]- h[i1+k]) > np.random.rand():\n",
    "                    k = k2\n",
    "            \n",
    "            s[t+1,i1:i2] = 0.\n",
    "            s[t+1,i1+k] = 1.\n",
    "            \n",
    "    return s            "
   ]
  },
  {
   "cell_type": "code",
   "execution_count": 7,
   "metadata": {
    "collapsed": true
   },
   "outputs": [],
   "source": [
    "s = generate_sequences_MCMC(w0,n,m,l) "
   ]
  },
  {
   "cell_type": "code",
   "execution_count": 8,
   "metadata": {
    "collapsed": true,
    "scrolled": true
   },
   "outputs": [],
   "source": [
    "#print(s[:5])"
   ]
  },
  {
   "cell_type": "code",
   "execution_count": 9,
   "metadata": {
    "collapsed": true
   },
   "outputs": [],
   "source": [
    "# recover s0 from s\n",
    "s0 = np.argmax(s.reshape(-1,m),axis=1).reshape(-1,n)"
   ]
  },
  {
   "cell_type": "code",
   "execution_count": 10,
   "metadata": {
    "collapsed": true
   },
   "outputs": [],
   "source": [
    "def eps_ab_func(s0,m):\n",
    "    l,n = s0.shape\n",
    "    eps = np.zeros((n,l-1,m,m))\n",
    "    eps[:,:,:] = -1.\n",
    "    for i in range(n):\n",
    "        for t in range(l-1):            \n",
    "            #eps[i,t,:,int(s0[t+1,i])] = -1.\n",
    "            eps[i,t,int(s0[t+1,i]),:] = 1.\n",
    "    return eps"
   ]
  },
  {
   "cell_type": "code",
   "execution_count": 11,
   "metadata": {
    "collapsed": true
   },
   "outputs": [],
   "source": [
    "eps_ab_all = eps_ab_func(s0,m)"
   ]
  },
  {
   "cell_type": "code",
   "execution_count": 12,
   "metadata": {},
   "outputs": [
    {
     "name": "stdout",
     "output_type": "stream",
     "text": [
      "(0, 0, 0.01650415635522309, 0.2599834517742022)\n",
      "(0, 1, 0.010272511121572998, 0.534266437851958)\n",
      "(0, 2, 0.006479441082736734, 0.7454389677579049)\n",
      "(0, 3, 0.008259505847936131, 0.9302420132338322)\n",
      "(0, 4, 0.00988358095561647, 1.0465015920689946)\n",
      "(1, 0, 0.024279949332132154, 0.17486518493017142)\n",
      "(1, 1, 0.013219356375883213, 0.45115084596057037)\n",
      "(1, 2, 0.00901004046387846, 0.6740060283576919)\n",
      "(1, 3, 0.007480762958022195, 0.8512164957770817)\n",
      "(1, 4, 0.008466435544756632, 1.015927204209738)\n",
      "(2, 0, 0.019014814278576174, 0.26379087809144863)\n",
      "(2, 1, 0.011409874092695036, 0.5100864569220188)\n",
      "(2, 2, 0.007500519260261671, 0.7099843052089317)\n",
      "(2, 3, 0.006834994512821264, 0.8713660585800288)\n",
      "(2, 4, 0.008008026136255578, 0.9937723810602836)\n",
      "(3, 0, 0.024291139363344604, 0.37334025561481726)\n",
      "(3, 1, 0.015285707570036357, 0.61562452846578)\n",
      "(3, 2, 0.00987957053186727, 0.8225734603516831)\n",
      "(3, 3, 0.009805047503675873, 0.9902111876391885)\n",
      "(3, 4, 0.008896814607651364, 1.119200554459132)\n",
      "(4, 0, 0.01635842598785762, 0.33641877558330413)\n",
      "(4, 1, 0.010759476820442782, 0.5947083302147986)\n",
      "(4, 2, 0.00929238675996, 0.8018522047094625)\n",
      "(4, 3, 0.007981731956889683, 0.9374734635205917)\n",
      "(4, 4, 0.009538568650035249, 1.0600881560394988)\n",
      "(5, 0, 0.020160487673694827, 0.3470198252326707)\n",
      "(5, 1, 0.012277714719173495, 0.5573429161219211)\n",
      "(5, 2, 0.007831898939054817, 0.7487107063071983)\n",
      "(5, 3, 0.006866383179080743, 0.9014433489000022)\n",
      "(5, 4, 0.008666126346428769, 1.038784714434973)\n",
      "(6, 0, 0.018681191598378243, 0.34361727599943065)\n",
      "(6, 1, 0.011931377710377966, 0.5732555722365645)\n",
      "(6, 2, 0.008888320785875094, 0.7517015949153285)\n",
      "(6, 3, 0.006980881425233649, 0.8992597756571166)\n",
      "(6, 4, 0.008284591582637725, 1.0171332937318907)\n",
      "(7, 0, 0.01584700266348491, 0.4431361107488417)\n",
      "(7, 1, 0.010000279744903296, 0.6641858782669626)\n",
      "(7, 2, 0.008822481275950554, 0.8393455283837994)\n",
      "(7, 3, 0.007198759307593956, 0.9699734011964828)\n",
      "(7, 4, 0.006525803736977034, 1.0919995202255033)\n",
      "(8, 0, 0.018792056938406833, 0.40958012776113867)\n",
      "(8, 1, 0.011197081940323914, 0.6348951119608434)\n",
      "(8, 2, 0.00779919733575812, 0.8022749156348408)\n",
      "(8, 3, 0.005739972566633057, 0.9497152938843931)\n",
      "(8, 4, 0.009916448933933043, 1.0684827144596223)\n",
      "(9, 0, 0.017863290881146437, 0.322875326918031)\n",
      "(9, 1, 0.010190302114967669, 0.5721849773034773)\n",
      "(9, 2, 0.007909594581879783, 0.7603947750356937)\n",
      "(9, 3, 0.00607657279205216, 0.9210631866473746)\n",
      "(9, 4, 0.007415372783390102, 1.0482411255433353)\n"
     ]
    }
   ],
   "source": [
    "l = s.shape[0]\n",
    "\n",
    "s_av = np.mean(s[:-1],axis=0)\n",
    "ds = s[:-1] - s_av\n",
    "c = np.cov(ds,rowvar=False,bias=True)\n",
    "#print(c)\n",
    "\n",
    "c_inv = linalg.pinv(c,rcond=1e-15)\n",
    "#print(c_inv)\n",
    "\n",
    "nm = n*m\n",
    "nloop = 5\n",
    "\n",
    "wini = np.random.normal(0.0,g/np.sqrt(nm),size=(nm,nm))\n",
    "\n",
    "w_infer = np.zeros((nm,nm))\n",
    "\n",
    "for i in range(n):\n",
    "    i1,i2 = i1tab[i],i2tab[i]\n",
    "\n",
    "    w_true = w0[i1:i2,:]\n",
    "    w = wini[i1:i2,:].copy()\n",
    "    #h = s[1:,i1:i2].copy()\n",
    "\n",
    "    for iloop in range(nloop):\n",
    "        h = np.dot(s[:-1],w.T)\n",
    "\n",
    "        for ia in range(m):\n",
    "            for t in range(l-1):\n",
    "                if s[t+1,i1+ia] == 1.:            \n",
    "                    ha = 0.\n",
    "                    for ib in range(m):\n",
    "                        if ib != ia: \n",
    "                            hab = (h[t,ia] - h[t,ib])\n",
    "                            if hab != 0: ha += hab/np.tanh(hab/2.)                            \n",
    "                    h[t,ia] = ha/float(m)\n",
    "\n",
    "        h_av = h.mean(axis=0)\n",
    "        dh = h - h_av\n",
    "\n",
    "        dhds = dh[:,:,np.newaxis]*ds[:,np.newaxis,:]\n",
    "        dhds_av = dhds.mean(axis=0)\n",
    "\n",
    "        w = np.dot(dhds_av,c_inv)\n",
    "\n",
    "        mse = ((w_true - w)**2).mean()   \n",
    "        slope = (w_true*w).sum()/(w_true**2).sum()  \n",
    "        print(i,iloop,mse,slope)\n",
    "\n",
    "    w_infer[i1:i2,:] = w    "
   ]
  },
  {
   "cell_type": "code",
   "execution_count": 13,
   "metadata": {},
   "outputs": [
    {
     "data": {
      "text/plain": [
       "[<matplotlib.lines.Line2D at 0x7f380c9ceed0>]"
      ]
     },
     "execution_count": 13,
     "metadata": {},
     "output_type": "execute_result"
    },
    {
     "data": {
      "image/png": "[encoded data removed]",
      "text/plain": [
       "<matplotlib.figure.Figure at 0x7f380c9cef50>"
      ]
     },
     "metadata": {},
     "output_type": "display_data"
    }
   ],
   "source": [
    "plt.scatter(w0,w_infer)\n",
    "plt.plot([-0.3,0.3],[-0.3,0.3],'r--')"
   ]
  },
  {
   "cell_type": "code",
   "execution_count": null,
   "metadata": {
    "collapsed": true
   },
   "outputs": [],
   "source": []
  }
 ],
 "metadata": {
  "kernelspec": {
   "display_name": "Python 2",
   "language": "python",
   "name": "python2"
  },
  "language_info": {
   "codemirror_mode": {
    "name": "ipython",
    "version": 2
   },
   "file_extension": ".py",
   "mimetype": "text/x-python",
   "name": "python",
   "nbconvert_exporter": "python",
   "pygments_lexer": "ipython2",
   "version": "2.7.15"
  }
 },
 "nbformat": 4,
 "nbformat_minor": 2
}
