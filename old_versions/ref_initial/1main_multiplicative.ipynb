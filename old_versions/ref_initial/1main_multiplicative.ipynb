{
 "cells": [
  {
   "cell_type": "markdown",
   "metadata": {},
   "source": [
    "# 2018.11.01: Network inference from time series of cartegorical variables\n",
    "## Vipul's update"
   ]
  },
  {
   "cell_type": "code",
   "execution_count": 1,
   "metadata": {
    "collapsed": true
   },
   "outputs": [],
   "source": [
    "import sys,os\n",
    "import numpy as np\n",
    "from scipy import linalg\n",
    "from sklearn.preprocessing import OneHotEncoder\n",
    "import matplotlib.pyplot as plt\n",
    "%matplotlib inline"
   ]
  },
  {
   "cell_type": "code",
   "execution_count": 2,
   "metadata": {
    "collapsed": true,
    "scrolled": true
   },
   "outputs": [],
   "source": [
    "# setting parameter:\n",
    "np.random.seed(1)\n",
    "\n",
    "n = 10 # number of positions\n",
    "m = 5 # number of values at each position\n",
    "l = 4.*((n*m)**2) # number of samples\n",
    "#l = 500\n",
    "\n",
    "l = int(l)\n",
    "g = 2."
   ]
  },
  {
   "cell_type": "code",
   "execution_count": 3,
   "metadata": {
    "collapsed": true
   },
   "outputs": [],
   "source": [
    "def itab(n,m):    \n",
    "    i1 = np.zeros(n)\n",
    "    i2 = np.zeros(n)\n",
    "    for i in range(n):\n",
    "        i1[i] = i*m\n",
    "        i2[i] = (i+1)*m\n",
    "\n",
    "    return i1.astype(int),i2.astype(int)\n",
    "\n",
    "i1tab,i2tab = itab(n,m)"
   ]
  },
  {
   "cell_type": "code",
   "execution_count": 4,
   "metadata": {
    "collapsed": true,
    "scrolled": false
   },
   "outputs": [],
   "source": [
    "# generate coupling matrix w0:\n",
    "def generate_coupling(n,m,g):\n",
    "    nm = n*m\n",
    "    w = np.random.normal(0.0,g/np.sqrt(nm),size=(nm,nm))\n",
    "    \n",
    "    for i in range(n):\n",
    "        i1,i2 = i1tab[i],i2tab[i]\n",
    "        w[i1:i2,:] -= w[i1:i2,:].mean(axis=0)            \n",
    "\n",
    "    for i in range(n):\n",
    "        i1,i2 = i1tab[i],i2tab[i]\n",
    "        w[:,i1:i2] -= w[:,i1:i2].mean(axis=1)[:,np.newaxis]            \n",
    "        \n",
    "    return w"
   ]
  },
  {
   "cell_type": "code",
   "execution_count": 5,
   "metadata": {
    "collapsed": true
   },
   "outputs": [],
   "source": [
    "w0 = generate_coupling(n,m,g)"
   ]
  },
  {
   "cell_type": "code",
   "execution_count": 6,
   "metadata": {
    "collapsed": true
   },
   "outputs": [],
   "source": [
    "# 2018.10.27: generate time series by MCMC\n",
    "def generate_sequences(w,n,m,l): \n",
    "    #print(i1tab,i2tab)\n",
    "    \n",
    "    # initial s (categorical variables)\n",
    "    s_ini = np.random.randint(0,m,size=(l,n)) # integer values\n",
    "    #print(s_ini)\n",
    "\n",
    "    # onehot encoder \n",
    "    enc = OneHotEncoder(n_values=m)\n",
    "    s = enc.fit_transform(s_ini).toarray()\n",
    "    #print(s) \n",
    "\n",
    "    ntrial = 200\n",
    "\n",
    "    for t in range(l-1):\n",
    "        h = np.sum(s[t,:]*w[:,:],axis=1)\n",
    "        for i in range(n):\n",
    "            i1,i2 = i1tab[i],i2tab[i]\n",
    "                \n",
    "            k = np.random.randint(0,m)              \n",
    "            for itrial in range(ntrial):            \n",
    "                k2 = np.random.randint(0,m)                \n",
    "                while k2 == k:\n",
    "                    k2 = np.random.randint(0,m)\n",
    "                               \n",
    "                if np.exp(h[i1+k2]- h[i1+k]) > np.random.rand():\n",
    "                    k = k2\n",
    "            \n",
    "            s[t+1,i1:i2] = 0.\n",
    "            s[t+1,i1+k] = 1.\n",
    "            \n",
    "    return s            "
   ]
  },
  {
   "cell_type": "code",
   "execution_count": 7,
   "metadata": {
    "collapsed": false
   },
   "outputs": [],
   "source": [
    "s = generate_sequences(w0,n,m,l) "
   ]
  },
  {
   "cell_type": "code",
   "execution_count": 8,
   "metadata": {
    "collapsed": false,
    "scrolled": true
   },
   "outputs": [],
   "source": [
    "def fit_couplings(s,n,m):\n",
    "    x = s[:-1]\n",
    "    y = s[1:]\n",
    "\n",
    "    l = x.shape[0]\n",
    "\n",
    "    nm = n*m\n",
    "    nloop = 10\n",
    "\n",
    "    wini = np.random.normal(0.0,1./np.sqrt(nm),size=(nm,nm))\n",
    "\n",
    "    w_infer = np.zeros((nm,nm))\n",
    "    for i in range(n):\n",
    "        print('i:',i)\n",
    "\n",
    "        i1,i2 = i1tab[i],i2tab[i]\n",
    "\n",
    "        w01 = w0[i1:i2,:]\n",
    "\n",
    "        #----------------------------------------------------------------\n",
    "        # covariance [ia,ib] for only sequences that have either a or b\n",
    "        cab_inv = np.empty((m,m,nm,nm))\n",
    "        eps = np.empty((m,m,l))\n",
    "        for ia in range(m):\n",
    "            for ib in range(m):\n",
    "                if ib != ia:\n",
    "                    # eps[t] = s[t+1,ia] - s[t+1,ib] \n",
    "                    eps[ia,ib,:] = y[:,i1+ia] - y[:,i1+ib]\n",
    "\n",
    "                    which_ab = eps[ia,ib,:] !=0.                    \n",
    "                    sab = x[which_ab]                    \n",
    "\n",
    "                    # ----------------------------\n",
    "                    sab_av = np.mean(sab,axis=0)\n",
    "                    dsab = sab - sab_av\n",
    "                    cab = np.cov(dsab,rowvar=False,bias=True)\n",
    "                    cab_inv[ia,ib,:,:] = linalg.pinv(cab,rcond=1e-15)\n",
    "                    #print(c_inv)\n",
    "        # ---------------------------------------------------------------\n",
    "\n",
    "        w = wini[i1:i2,:].copy()\n",
    "        cost = np.full(nloop,100.)    \n",
    "        for iloop in range(1,nloop):\n",
    "            h = np.dot(x,w.T)\n",
    "\n",
    "            # stopping criterion --------------------\n",
    "            p = np.exp(h)\n",
    "            p_sum = p.sum(axis=1)\n",
    "\n",
    "            for k in range(m):\n",
    "                p[:,k] = p[:,k]/p_sum[:]\n",
    "\n",
    "            cost[iloop] = ((y[:,i1:i2] - p[:,:])**2).mean()\n",
    "            #if cost[iloop] >= cost[iloop-1]: break  \n",
    "\n",
    "            #---------------------------------------- \n",
    "            for ia in range(m):\n",
    "                wa = np.zeros(nm)                \n",
    "                for ib in range(m):\n",
    "                    if ib != ia:\n",
    "\n",
    "                        which_ab = eps[ia,ib,:] !=0.\n",
    "\n",
    "                        eps_ab = eps[ia,ib,which_ab]\n",
    "                        sab = x[which_ab]\n",
    "\n",
    "                        # ----------------------------\n",
    "                        sab_av = np.mean(sab,axis=0)\n",
    "                        dsab = sab - sab_av\n",
    "\n",
    "                        h_ab = h[which_ab,ia] - h[which_ab,ib]                    \n",
    "                        ha = np.divide(eps_ab*h_ab,np.tanh(h_ab/2.), out=np.zeros_like(h_ab), where=h_ab!=0)                        \n",
    "\n",
    "                        dhds = (ha - ha.mean())[:,np.newaxis]*dsab\n",
    "                        dhds_av = dhds.mean(axis=0)\n",
    "\n",
    "                        wa += cab_inv[ia,ib,:,:].dot(dhds_av)\n",
    "\n",
    "                w[ia,:] = wa/m\n",
    "\n",
    "            #mse = ((w01-w)**2).mean()\n",
    "            #slope = (w01*w).sum()/(w01**2).sum()                \n",
    "            #print(i,iloop,mse,slope,cost[iloop])\n",
    "            #print(i,iloop,cost[iloop])\n",
    "            \n",
    "        w_infer[i1:i2,:] = w   \n",
    "    return w_infer"
   ]
  },
  {
   "cell_type": "code",
   "execution_count": 9,
   "metadata": {
    "collapsed": false
   },
   "outputs": [
    {
     "name": "stdout",
     "output_type": "stream",
     "text": [
      "('i:', 0)\n",
      "('i:', 1)\n",
      "('i:', 2)\n",
      "('i:', 3)\n",
      "('i:', 4)\n",
      "('i:', 5)\n",
      "('i:', 6)\n",
      "('i:', 7)\n",
      "('i:', 8)\n",
      "('i:', 9)\n"
     ]
    }
   ],
   "source": [
    "w = fit_couplings(s,n,m)"
   ]
  },
  {
   "cell_type": "code",
   "execution_count": 10,
   "metadata": {
    "collapsed": false
   },
   "outputs": [
    {
     "data": {
      "text/plain": [
       "[<matplotlib.lines.Line2D at 0x7fb313168d10>]"
      ]
     },
     "execution_count": 10,
     "metadata": {},
     "output_type": "execute_result"
    },
    {
     "data": {
      "image/png": "[encoded data removed]",
      "text/plain": [
       "<matplotlib.figure.Figure at 0x7fb313168a90>"
      ]
     },
     "metadata": {},
     "output_type": "display_data"
    }
   ],
   "source": [
    "plt.scatter(w0,w)\n",
    "plt.plot([-0.5,0.5],[-0.5,0.5],'r--')"
   ]
  },
  {
   "cell_type": "code",
   "execution_count": 11,
   "metadata": {
    "collapsed": false
   },
   "outputs": [
    {
     "name": "stdout",
     "output_type": "stream",
     "text": [
      "('mse:', 0.0028233697229810696)\n"
     ]
    }
   ],
   "source": [
    "mse = ((w0-w)**2).mean()\n",
    "print('mse:',mse)"
   ]
  },
  {
   "cell_type": "code",
   "execution_count": null,
   "metadata": {
    "collapsed": true
   },
   "outputs": [],
   "source": []
  }
 ],
 "metadata": {
  "kernelspec": {
   "display_name": "Python 2",
   "language": "python",
   "name": "python2"
  },
  "language_info": {
   "codemirror_mode": {
    "name": "ipython",
    "version": 2
   },
   "file_extension": ".py",
   "mimetype": "text/x-python",
   "name": "python",
   "nbconvert_exporter": "python",
   "pygments_lexer": "ipython2",
   "version": "2.7.13"
  }
 },
 "nbformat": 4,
 "nbformat_minor": 2
}
