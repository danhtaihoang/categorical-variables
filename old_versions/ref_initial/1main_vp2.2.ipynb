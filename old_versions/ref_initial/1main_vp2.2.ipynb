{
 "cells": [
  {
   "cell_type": "markdown",
   "metadata": {},
   "source": [
    "# 2018.11.01: Network inference from time series of cartegorical variables\n",
    "## Vipul's update"
   ]
  },
  {
   "cell_type": "code",
   "execution_count": 1,
   "metadata": {
    "collapsed": true
   },
   "outputs": [],
   "source": [
    "import sys,os\n",
    "import numpy as np\n",
    "from scipy import linalg\n",
    "from sklearn.preprocessing import OneHotEncoder\n",
    "import matplotlib.pyplot as plt\n",
    "%matplotlib inline"
   ]
  },
  {
   "cell_type": "code",
   "execution_count": 2,
   "metadata": {
    "collapsed": true,
    "scrolled": true
   },
   "outputs": [],
   "source": [
    "# setting parameter:\n",
    "np.random.seed(1)\n",
    "\n",
    "n = 10 # number of positions\n",
    "m = 5 # number of values at each position\n",
    "l = 0.5*((n*m)**2) # number of samples\n",
    "#l = 500\n",
    "\n",
    "l = int(l)\n",
    "g = 2."
   ]
  },
  {
   "cell_type": "code",
   "execution_count": 3,
   "metadata": {
    "collapsed": true
   },
   "outputs": [],
   "source": [
    "def itab(n,m):    \n",
    "    i1 = np.zeros(n)\n",
    "    i2 = np.zeros(n)\n",
    "    for i in range(n):\n",
    "        i1[i] = i*m\n",
    "        i2[i] = (i+1)*m\n",
    "\n",
    "    return i1.astype(int),i2.astype(int)\n",
    "\n",
    "i1tab,i2tab = itab(n,m)"
   ]
  },
  {
   "cell_type": "code",
   "execution_count": 4,
   "metadata": {
    "collapsed": true,
    "scrolled": false
   },
   "outputs": [],
   "source": [
    "# generate coupling matrix w0:\n",
    "def generate_coupling(n,m,g):\n",
    "    nm = n*m\n",
    "    w = np.random.normal(0.0,g/np.sqrt(nm),size=(nm,nm))\n",
    "    \n",
    "    for i in range(n):\n",
    "        i1,i2 = i1tab[i],i2tab[i]\n",
    "        w[i1:i2,:] -= w[i1:i2,:].mean(axis=0)            \n",
    "\n",
    "    for i in range(n):\n",
    "        i1,i2 = i1tab[i],i2tab[i]\n",
    "        w[:,i1:i2] -= w[:,i1:i2].mean(axis=1)[:,np.newaxis]            \n",
    "        \n",
    "    return w"
   ]
  },
  {
   "cell_type": "code",
   "execution_count": 5,
   "metadata": {
    "collapsed": true
   },
   "outputs": [],
   "source": [
    "w0 = generate_coupling(n,m,g)"
   ]
  },
  {
   "cell_type": "code",
   "execution_count": 6,
   "metadata": {
    "collapsed": true
   },
   "outputs": [],
   "source": [
    "# 2018.10.27: generate time series by MCMC\n",
    "def generate_sequences(w,n,m,l): \n",
    "    #print(i1tab,i2tab)\n",
    "    \n",
    "    # initial s (categorical variables)\n",
    "    s_ini = np.random.randint(0,m,size=(l,n)) # integer values\n",
    "    #print(s_ini)\n",
    "\n",
    "    # onehot encoder \n",
    "    enc = OneHotEncoder(n_values=m)\n",
    "    s = enc.fit_transform(s_ini).toarray()\n",
    "    #print(s) \n",
    "\n",
    "    ntrial = 100\n",
    "\n",
    "    for t in range(l-1):\n",
    "        h = np.sum(s[t,:]*w[:,:],axis=1)\n",
    "        for i in range(n):\n",
    "            i1,i2 = i1tab[i],i2tab[i]\n",
    "                \n",
    "            k = np.random.randint(0,m)              \n",
    "            for itrial in range(ntrial):            \n",
    "                k2 = np.random.randint(0,m)                \n",
    "                while k2 == k:\n",
    "                    k2 = np.random.randint(0,m)\n",
    "                               \n",
    "                if np.exp(h[i1+k2]- h[i1+k]) > np.random.rand():\n",
    "                    k = k2\n",
    "            \n",
    "            s[t+1,i1:i2] = 0.\n",
    "            s[t+1,i1+k] = 1.\n",
    "            \n",
    "    return s            "
   ]
  },
  {
   "cell_type": "code",
   "execution_count": 7,
   "metadata": {
    "collapsed": false
   },
   "outputs": [],
   "source": [
    "s = generate_sequences(w0,n,m,l) "
   ]
  },
  {
   "cell_type": "code",
   "execution_count": 8,
   "metadata": {
    "collapsed": true,
    "scrolled": true
   },
   "outputs": [],
   "source": [
    "#print(s[:5])"
   ]
  },
  {
   "cell_type": "code",
   "execution_count": 27,
   "metadata": {
    "collapsed": false,
    "scrolled": false
   },
   "outputs": [
    {
     "name": "stdout",
     "output_type": "stream",
     "text": [
      "('i:', 0)\n",
      "(0, 1, 0.011888606807083445, 0.8452726073031035, 0.1668458064957182, 22.044823184328685)\n",
      "(0, 2, 0.01539976366608655, 1.0152019457476809, 0.1372738720213856, 14.281538734985306)\n",
      "(0, 3, 0.018328091576041962, 1.0925236664486215, 0.13655546150103423, 14.140304181250261)\n",
      "(0, 4, 0.02005399039798342, 1.13152254356651, 0.13666404786156358, 14.137031043123113)\n",
      "(0, 5, 0.021121040137166567, 1.1522665283313807, 0.136772032229713, 14.14204625087697)\n",
      "(0, 6, 0.02169185472077612, 1.163205003552334, 0.13684414870138165, 14.147070058499063)\n",
      "(0, 7, 0.021999553957581627, 1.1691008323204166, 0.13696448035478112, 14.159933007262511)\n",
      "(0, 8, 0.022171815043412757, 1.172407236384972, 0.1369166090397548, 14.151085351883022)\n",
      "(0, 9, 0.02228980905410273, 1.174539727054422, 0.13692656249928828, 14.153028385336015)\n",
      "('i:', 1)\n",
      "(1, 1, 0.012307749603478019, 0.8103038668118366, 0.16570270354872849, 21.469427606477787)\n",
      "(1, 2, 0.014796946068134448, 0.983342214474092, 0.13458936860957438, 13.755654910681695)\n",
      "(1, 3, 0.017651868827473324, 1.0690640353623642, 0.13356993085933244, 13.58745183865852)\n",
      "(1, 4, 0.019643611434252542, 1.1153494170970117, 0.13349309047107977, 13.566786621824146)\n",
      "(1, 5, 0.020898221196561807, 1.1414503492697816, 0.13355398399168064, 13.570237741937978)\n",
      "(1, 6, 0.02169754339747827, 1.156845527989771, 0.1336121929511802, 13.57408458239105)\n",
      "(1, 7, 0.022097169180851126, 1.1657350197999028, 0.1337171477816981, 13.586689450684657)\n",
      "(1, 8, 0.022435542381693672, 1.1708280385326202, 0.13368425093755934, 13.5822956954447)\n",
      "(1, 9, 0.02257309572057629, 1.1738601172061534, 0.13373777440234216, 13.586792555336885)\n",
      "('i:', 2)\n",
      "(2, 1, 0.015633336269533046, 0.7739657291147011, 0.16814964771551905, 22.290209913725388)\n",
      "(2, 2, 0.018539001091665775, 0.9189395665101333, 0.13855477900139038, 14.402565934893442)\n",
      "(2, 3, 0.021110445038313136, 0.9847309161517509, 0.13815662570101764, 14.27230914561)\n",
      "(2, 4, 0.022637399149341923, 1.0180172339863114, 0.13832253630744148, 14.266893882173365)\n",
      "(2, 5, 0.023459193147912658, 1.0353471651507022, 0.13840376617202302, 14.260118737642498)\n",
      "(2, 6, 0.02401195127157597, 1.0444405119655593, 0.13863953190612477, 14.286646441862754)\n",
      "(2, 7, 0.024311432394033522, 1.0492888847092021, 0.1385371281550059, 14.26643142340592)\n",
      "(2, 8, 0.024514636505348533, 1.0517423457793198, 0.13867515224648744, 14.279380846231016)\n",
      "(2, 9, 0.024577959236823495, 1.0532887272861264, 0.13863763081794653, 14.272893675055672)\n",
      "('i:', 3)\n",
      "(3, 1, 0.012480554069579061, 0.8409608768238379, 0.16334003125974778, 21.018173637319006)\n",
      "(3, 2, 0.015472615140614099, 0.9908244606526924, 0.14061438250622002, 14.717243734011054)\n",
      "(3, 3, 0.017956141269739115, 1.057066578322352, 0.14052888502885783, 14.634600146968458)\n",
      "(3, 4, 0.019183864321169804, 1.0895904461446873, 0.14081686282542366, 14.652056214752324)\n",
      "(3, 5, 0.019846948591970517, 1.1056141459287803, 0.1408260775046252, 14.634636608969679)\n",
      "(3, 6, 0.020225820712179845, 1.1136153230232877, 0.1409588797796764, 14.650453630818806)\n",
      "(3, 7, 0.020659047097342488, 1.1180863110132668, 0.1410196621035329, 14.656323866351398)\n",
      "(3, 8, 0.020462962568414778, 1.1196796509341043, 0.14117764670544894, 14.683493244622756)\n",
      "(3, 9, 0.02024974751640535, 1.1210307323432727, 0.14105061817400136, 14.660407802727635)\n",
      "('i:', 4)\n",
      "(4, 1, 0.010538973683009737, 0.8217616243745176, 0.16601396842131133, 21.758940080486113)\n",
      "(4, 2, 0.012534637464369567, 0.9662415144022092, 0.1392958503242664, 14.806365571186213)\n",
      "(4, 3, 0.014231847142928562, 1.0270009480009388, 0.13879699639194001, 14.715445143964578)\n",
      "(4, 4, 0.015284101877714769, 1.0564820752293267, 0.1387701189856678, 14.693403831910171)\n",
      "(4, 5, 0.015754396862279918, 1.0707222937719423, 0.13883691467376474, 14.692677886236265)\n",
      "(4, 6, 0.016023780257255055, 1.0776285803952794, 0.1388346074994981, 14.70203945781208)\n",
      "(4, 7, 0.01623597474125516, 1.0813551194100055, 0.13886694837802085, 14.701904106759798)\n",
      "(4, 8, 0.016316943850369293, 1.0830911631301678, 0.13891091219916984, 14.704080938910899)\n",
      "(4, 9, 0.016347931072021222, 1.0837440994917817, 0.13886552231851995, 14.696214483433849)\n",
      "('i:', 5)\n",
      "(5, 1, 0.013432676523333612, 0.7956499307510462, 0.16249858751311833, 20.418472176293694)\n",
      "(5, 2, 0.016275628325203784, 0.9732492780417034, 0.13251039614902455, 13.248043160965842)\n",
      "(5, 3, 0.019868820504322027, 1.0645262695393578, 0.1315015769590032, 13.016380430416072)\n",
      "(5, 4, 0.02258726356779455, 1.1166961917729248, 0.1315478800472375, 12.977751836156049)\n",
      "(5, 5, 0.02435900054458195, 1.1475445674028169, 0.13172683663740548, 12.975830598999659)\n",
      "(5, 6, 0.025600039171685025, 1.1664814808245094, 0.13190578351761295, 12.983726854992145)\n",
      "(5, 7, 0.026364271536816416, 1.1776529118828203, 0.13200218108464878, 12.984819859827438)\n",
      "(5, 8, 0.02685583083925553, 1.1850425989479565, 0.13207917879324163, 12.986052022054125)\n",
      "(5, 9, 0.02718144391658855, 1.1898764272431346, 0.13211731517766415, 12.984165103530426)\n",
      "('i:', 6)\n",
      "(6, 1, 0.012767733478847621, 0.765419910049762, 0.16613015768253828, 21.820760332917185)\n",
      "(6, 2, 0.013532761839916106, 0.9134792230886329, 0.13636301536804177, 14.113955191972275)\n",
      "(6, 3, 0.015163770900765714, 0.9822611372908189, 0.13556140842044204, 13.968045511228276)\n",
      "(6, 4, 0.016389701052379878, 1.0171393378582414, 0.13557091436452037, 13.96156214622654)\n",
      "(6, 5, 0.017022951066553355, 1.0355691140937227, 0.13563512665709163, 13.96282333325233)\n",
      "(6, 6, 0.01747278065489997, 1.0453780793420862, 0.1357192437872376, 13.97286192053389)\n",
      "(6, 7, 0.017636012235033263, 1.0509115473870556, 0.13573285375308441, 13.971312872034913)\n",
      "(6, 8, 0.017806918820791755, 1.053830885102562, 0.13576729148018715, 13.974838941117541)\n",
      "(6, 9, 0.017869977586090754, 1.0552642226877733, 0.13579098362698122, 13.978987818002906)\n",
      "('i:', 7)\n",
      "(7, 1, 0.01310729461584193, 0.8303974925998812, 0.16604189172803552, 21.640237366252467)\n",
      "(7, 2, 0.016951440730417856, 0.9902201276345624, 0.13857229545432811, 14.448564830515044)\n",
      "(7, 3, 0.01990530334216458, 1.0629857517402592, 0.13829925199346352, 14.330975948633169)\n",
      "(7, 4, 0.02161178712428748, 1.1000456041137272, 0.13848896636369398, 14.321064435555918)\n",
      "(7, 5, 0.02268762172259482, 1.1193631202023007, 0.13862782723918277, 14.32044292054984)\n",
      "(7, 6, 0.023171257630516032, 1.129523829537658, 0.13880313331760935, 14.33524852289588)\n",
      "(7, 7, 0.0234840499853933, 1.135122003807304, 0.1388448351738816, 14.33363835135498)\n",
      "(7, 8, 0.023717427424186276, 1.1378999358486874, 0.13884661280698368, 14.335488603179728)\n",
      "(7, 9, 0.023787241496428496, 1.1394415612432538, 0.1388117214880411, 14.330034976088701)\n",
      "('i:', 8)\n",
      "(8, 1, 0.013502093399062986, 0.8429756031954336, 0.1664938621516942, 21.693021360181028)\n",
      "(8, 2, 0.017897252298257116, 1.0029348897090369, 0.13629938278585904, 14.152157199020252)\n",
      "(8, 3, 0.02116090500967033, 1.0764351285153826, 0.13555989747568678, 13.982169998726684)\n",
      "(8, 4, 0.023149665661864917, 1.1134225084542853, 0.13556294643727543, 13.939233053370197)\n",
      "(8, 5, 0.024272089403460994, 1.1326255187379115, 0.13574679045870205, 13.964626127188195)\n",
      "(8, 6, 0.024774608228926253, 1.1427029906458102, 0.13600035344926734, 14.000217722039555)\n",
      "(8, 7, 0.025118975877402604, 1.1484692369998206, 0.13587402141198845, 13.971846791120825)\n",
      "(8, 8, 0.025345597660214107, 1.1517512206708325, 0.13592047003836255, 13.979885780119112)\n",
      "(8, 9, 0.02552808506068117, 1.1536986319913234, 0.1359202027160499, 13.976365832021603)\n",
      "('i:', 9)\n",
      "(9, 1, 0.011522976304069378, 0.8118083931004997, 0.16815206687306447, 22.472550151780684)\n",
      "(9, 2, 0.013778637407505928, 0.9718099396646207, 0.13694411409267576, 14.211291455729688)\n",
      "(9, 3, 0.016067701642585103, 1.0480852781056913, 0.13647455108031717, 14.066916925863262)\n",
      "(9, 4, 0.01764474439969591, 1.086991759451494, 0.13666105839441403, 14.052434801642896)\n",
      "(9, 5, 0.018796372482274965, 1.108490788727553, 0.13685903845645733, 14.057755707220114)\n",
      "(9, 6, 0.019256810993460653, 1.120694588226431, 0.13697421104268753, 14.062493215287265)\n",
      "(9, 7, 0.01967125088735427, 1.1273532744352242, 0.1370838134159622, 14.068259499057271)\n",
      "(9, 8, 0.019945208173098385, 1.1313080904814166, 0.13711508410347767, 14.069960592239651)\n",
      "(9, 9, 0.019998867074941973, 1.1330412413492854, 0.13715110249685675, 14.07398382473399)\n"
     ]
    }
   ],
   "source": [
    "x = s[:-1]\n",
    "y = s[1:]\n",
    "\n",
    "l = x.shape[0]\n",
    "\n",
    "nm = n*m\n",
    "nloop = 10\n",
    "\n",
    "wini = np.random.normal(0.0,1./np.sqrt(nm),size=(nm,nm))\n",
    "\n",
    "w_infer = np.zeros((nm,nm))\n",
    "for i in range(n):\n",
    "    print('i:',i)\n",
    "    \n",
    "    i1,i2 = i1tab[i],i2tab[i]\n",
    "\n",
    "    w01 = w0[i1:i2,:]\n",
    "\n",
    "    #----------------------------------------------------------------\n",
    "    # covariance [ia,ib] for only sequences that have either a or b\n",
    "    cab_inv = np.empty((m,m,nm,nm))\n",
    "    eps = np.empty((m,m,l))\n",
    "    for ia in range(m):\n",
    "        for ib in range(m):\n",
    "            if ib != ia:\n",
    "                # eps[t] = s[t+1,ia] - s[t+1,ib] \n",
    "                eps[ia,ib,:] = y[:,i1+ia] - y[:,i1+ib]\n",
    "\n",
    "                which_ab = eps[ia,ib,:] !=0.                    \n",
    "                sab = x[which_ab]                    \n",
    "\n",
    "                # ----------------------------\n",
    "                sab_av = np.mean(sab,axis=0)\n",
    "                dsab = sab - sab_av\n",
    "                cab = np.cov(dsab,rowvar=False,bias=True)\n",
    "                cab_inv[ia,ib,:,:] = linalg.pinv(cab,rcond=1e-15)\n",
    "                #print(c_inv)\n",
    "    # ---------------------------------------------------------------\n",
    "\n",
    "    w = wini[i1:i2,:].copy()\n",
    "    cost1 = np.full(nloop,100.)    \n",
    "    cost2 = np.full(nloop,100.)\n",
    "    \n",
    "    w1 = np.zeros((nloop+1,m,nm))\n",
    "    for iloop in range(1,nloop):\n",
    "        h = np.dot(x,w.T)\n",
    "\n",
    "        # stopping criterion --------------------\n",
    "        p = np.exp(h)\n",
    "        p_sum = p.sum(axis=1)\n",
    "\n",
    "        for k in range(m):\n",
    "            p[:,k] = p[:,k]/p_sum[:]\n",
    "        \n",
    "        cost1[iloop] = ((y[:,i1:i2] - p[:,:])**2).mean()\n",
    "        #if cost1[iloop] >= cost1[iloop-1]: break  \n",
    "   \n",
    "        #---------------------------------------- \n",
    "        \n",
    "        cost2[iloop] = 0.\n",
    "        for ia in range(m):\n",
    "            wa = np.zeros(nm)                \n",
    "            for ib in range(m):\n",
    "                if ib != ia:\n",
    "\n",
    "                    which_ab = eps[ia,ib,:] !=0.\n",
    "\n",
    "                    eps_ab = eps[ia,ib,which_ab]\n",
    "                    sab = x[which_ab]\n",
    "\n",
    "                    # ----------------------------\n",
    "                    sab_av = np.mean(sab,axis=0)\n",
    "                    dsab = sab - sab_av\n",
    "\n",
    "                    h_ab = h[which_ab,ia] - h[which_ab,ib]                    \n",
    "                    ha = np.divide(eps_ab*h_ab,np.tanh(h_ab/2.), out=np.zeros_like(h_ab), where=h_ab!=0)                        \n",
    "\n",
    "                    dhds = (ha - ha.mean())[:,np.newaxis]*dsab\n",
    "                    dhds_av = dhds.mean(axis=0)\n",
    "\n",
    "                    wa += cab_inv[ia,ib,:,:].dot(dhds_av)\n",
    "                    \n",
    "                    \n",
    "                    cost2[iloop] += ((eps_ab - np.tanh(h_ab/2.))**2).mean()\n",
    "                    \n",
    "            #w[ia,:] = wa/m\n",
    "            w1[iloop,ia,:] = wa/m \n",
    "        \n",
    "        #print(i,iloop,cost2[iloop])\n",
    "        \n",
    "        #if (iloop>1) and cost2[iloop] >= cost2[iloop-1]: \n",
    "        #    break     \n",
    "        #else:    \n",
    "        w[:,:] = w1[iloop,:,:]    \n",
    "            \n",
    "        mse = ((w01-w)**2).mean()\n",
    "        slope = (w01*w).sum()/(w01**2).sum()\n",
    "                \n",
    "        print(i,iloop,mse,slope,cost1[iloop],cost2[iloop])\n",
    "    w_infer[i1:i2,:] = w     "
   ]
  },
  {
   "cell_type": "code",
   "execution_count": 25,
   "metadata": {
    "collapsed": false
   },
   "outputs": [
    {
     "data": {
      "text/plain": [
       "[<matplotlib.lines.Line2D at 0x7fcf803fefd0>]"
      ]
     },
     "execution_count": 25,
     "metadata": {},
     "output_type": "execute_result"
    },
    {
     "data": {
      "image/png": "[encoded data removed]",
      "text/plain": [
       "<matplotlib.figure.Figure at 0x7fcf803fe190>"
      ]
     },
     "metadata": {},
     "output_type": "display_data"
    }
   ],
   "source": [
    "plt.scatter(w0,w_infer)\n",
    "plt.plot([-0.5,0.5],[-0.5,0.5],'r--')"
   ]
  },
  {
   "cell_type": "code",
   "execution_count": 26,
   "metadata": {
    "collapsed": false
   },
   "outputs": [
    {
     "name": "stdout",
     "output_type": "stream",
     "text": [
      "('mse:', 0.019896186994053863)\n"
     ]
    }
   ],
   "source": [
    "mse = ((w0-w_infer)**2).mean()\n",
    "print('mse:',mse)"
   ]
  },
  {
   "cell_type": "code",
   "execution_count": 11,
   "metadata": {
    "collapsed": false
   },
   "outputs": [],
   "source": [
    "#w = fit_vp_update(s)"
   ]
  },
  {
   "cell_type": "code",
   "execution_count": 12,
   "metadata": {
    "collapsed": false
   },
   "outputs": [],
   "source": [
    "#plt.scatter(w0,w)\n",
    "#plt.plot([-0.5,0.5],[-0.5,0.5],'r--')"
   ]
  },
  {
   "cell_type": "code",
   "execution_count": 13,
   "metadata": {
    "collapsed": false
   },
   "outputs": [],
   "source": [
    "mse = ((w0-w)**2).mean()\n",
    "print('mse:',mse)"
   ]
  },
  {
   "cell_type": "code",
   "execution_count": null,
   "metadata": {
    "collapsed": true
   },
   "outputs": [],
   "source": []
  }
 ],
 "metadata": {
  "kernelspec": {
   "display_name": "Python 2",
   "language": "python",
   "name": "python2"
  },
  "language_info": {
   "codemirror_mode": {
    "name": "ipython",
    "version": 2
   },
   "file_extension": ".py",
   "mimetype": "text/x-python",
   "name": "python",
   "nbconvert_exporter": "python",
   "pygments_lexer": "ipython2",
   "version": "2.7.13"
  }
 },
 "nbformat": 4,
 "nbformat_minor": 2
}
