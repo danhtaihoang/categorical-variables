{
 "cells": [
  {
   "cell_type": "markdown",
   "metadata": {},
   "source": [
    "# 2018.11.01: Network inference from time series of cartegorical variables\n",
    "## Vipul's update\n",
    "### calculate dh, ds at the end"
   ]
  },
  {
   "cell_type": "code",
   "execution_count": 1,
   "metadata": {},
   "outputs": [],
   "source": [
    "import sys,os\n",
    "import numpy as np\n",
    "from scipy import linalg\n",
    "from sklearn.preprocessing import OneHotEncoder\n",
    "import matplotlib.pyplot as plt\n",
    "%matplotlib inline"
   ]
  },
  {
   "cell_type": "code",
   "execution_count": 2,
   "metadata": {
    "scrolled": true
   },
   "outputs": [],
   "source": [
    "# setting parameter:\n",
    "np.random.seed(1)\n",
    "\n",
    "n = 10 # number of positions\n",
    "m = 3 # number of values at each position\n",
    "l = 2*((n*m)**2) # number of samples\n",
    "#l = 500\n",
    "\n",
    "g = 1."
   ]
  },
  {
   "cell_type": "code",
   "execution_count": 3,
   "metadata": {},
   "outputs": [],
   "source": [
    "def itab(n,m):    \n",
    "    i1 = np.zeros(n)\n",
    "    i2 = np.zeros(n)\n",
    "    for i in range(n):\n",
    "        i1[i] = i*m\n",
    "        i2[i] = (i+1)*m\n",
    "\n",
    "    return i1.astype(int),i2.astype(int)\n",
    "\n",
    "i1tab,i2tab = itab(n,m)"
   ]
  },
  {
   "cell_type": "code",
   "execution_count": 4,
   "metadata": {
    "scrolled": false
   },
   "outputs": [],
   "source": [
    "# generate coupling matrix w0:\n",
    "def generate_coupling(n,m,g):\n",
    "    nm = n*m\n",
    "    w = np.random.normal(0.0,g/np.sqrt(nm),size=(nm,nm))\n",
    "    \n",
    "    for i in range(n):\n",
    "        i1,i2 = i1tab[i],i2tab[i]\n",
    "        w[i1:i2,:] -= w[i1:i2,:].mean(axis=0)            \n",
    "\n",
    "    for i in range(n):\n",
    "        i1,i2 = i1tab[i],i2tab[i]\n",
    "        w[:,i1:i2] -= w[:,i1:i2].mean(axis=1)[:,np.newaxis]            \n",
    "        \n",
    "    return w"
   ]
  },
  {
   "cell_type": "code",
   "execution_count": 5,
   "metadata": {},
   "outputs": [],
   "source": [
    "w0 = generate_coupling(n,m,g)"
   ]
  },
  {
   "cell_type": "code",
   "execution_count": 6,
   "metadata": {},
   "outputs": [],
   "source": [
    "# 2018.10.27: generate time series by MCMC\n",
    "def generate_sequences_MCMC(w,n,m,l): \n",
    "    #print(i1tab,i2tab)\n",
    "    \n",
    "    # initial s (categorical variables)\n",
    "    s_ini = np.random.randint(0,m,size=(l,n)) # integer values\n",
    "    #print(s_ini)\n",
    "\n",
    "    # onehot encoder \n",
    "    enc = OneHotEncoder(n_values=m)\n",
    "    s = enc.fit_transform(s_ini).toarray()\n",
    "    #print(s) \n",
    "\n",
    "    ntrial = 100\n",
    "\n",
    "    for t in range(l-1):\n",
    "        h = np.sum(s[t,:]*w[:,:],axis=1)\n",
    "        for i in range(n):\n",
    "            i1,i2 = i1tab[i],i2tab[i]\n",
    "                \n",
    "            k = np.random.randint(0,m)              \n",
    "            for itrial in range(ntrial):            \n",
    "                k2 = np.random.randint(0,m)                \n",
    "                while k2 == k:\n",
    "                    k2 = np.random.randint(0,m)\n",
    "                               \n",
    "                if np.exp(h[i1+k2]- h[i1+k]) > np.random.rand():\n",
    "                    k = k2\n",
    "            \n",
    "            s[t+1,i1:i2] = 0.\n",
    "            s[t+1,i1+k] = 1.\n",
    "            \n",
    "    return s            "
   ]
  },
  {
   "cell_type": "code",
   "execution_count": 7,
   "metadata": {},
   "outputs": [],
   "source": [
    "s = generate_sequences_MCMC(w0,n,m,l) "
   ]
  },
  {
   "cell_type": "code",
   "execution_count": 8,
   "metadata": {
    "scrolled": true
   },
   "outputs": [],
   "source": [
    "#print(s[:5])"
   ]
  },
  {
   "cell_type": "code",
   "execution_count": 9,
   "metadata": {},
   "outputs": [],
   "source": [
    "# recover s0 from s\n",
    "s0 = np.argmax(s.reshape(-1,m),axis=1).reshape(-1,n)"
   ]
  },
  {
   "cell_type": "code",
   "execution_count": 10,
   "metadata": {},
   "outputs": [],
   "source": [
    "def eps_ab_func(s0,m):\n",
    "    l,n = s0.shape\n",
    "    eps = np.zeros((n,l-1,m,m))\n",
    "    eps[:,:,:] = -1.\n",
    "    for i in range(n):\n",
    "        for t in range(l-1):            \n",
    "            #eps[i,t,:,int(s0[t+1,i])] = -1.\n",
    "            eps[i,t,int(s0[t+1,i]),:] = 1.\n",
    "    return eps"
   ]
  },
  {
   "cell_type": "code",
   "execution_count": 11,
   "metadata": {},
   "outputs": [],
   "source": [
    "eps_ab_all = eps_ab_func(s0,m)"
   ]
  },
  {
   "cell_type": "code",
   "execution_count": 39,
   "metadata": {
    "scrolled": true
   },
   "outputs": [],
   "source": [
    "l = s.shape[0]\n",
    "\n",
    "s_av = np.mean(s[:-1],axis=0)\n",
    "ds = s[:-1] - s_av\n",
    "c = np.cov(ds,rowvar=False,bias=True)\n",
    "#print(c)\n",
    "\n",
    "c_inv = linalg.pinv(c,rcond=1e-15)\n",
    "#print(c_inv)\n",
    "\n",
    "nm = n*m\n",
    "nloop = 100\n",
    "\n",
    "wini = np.random.normal(0.0,g/np.sqrt(nm),size=(nm,nm))\n",
    "\n",
    "w_infer = np.zeros((nm,nm))\n",
    "\n",
    "#for i in range(n):\n",
    "i = 0\n",
    "\n",
    "i1,i2 = i1tab[i],i2tab[i]\n",
    "\n",
    "w = wini[i1:i2,:].copy()\n",
    "\n",
    "for iloop in range(nloop):\n",
    "    h = np.dot(s[:-1],w.T)\n",
    "\n",
    "    for ia in range(m):\n",
    "        ia = 0    \n",
    "        dhds_av = np.zeros((m,nm))\n",
    "\n",
    "        ib_count = 0\n",
    "        for ib in range(m):\n",
    "            if ib != ia:\n",
    "                ib_count += 1\n",
    "                # eps[t] = s[t+1,ia] - s[t+1,ib] \n",
    "                eps = s[1:,i1+ia] - s[1:,i1+ib]\n",
    "\n",
    "                which_ab = eps!=0.\n",
    "\n",
    "                eps = eps[which_ab]\n",
    "\n",
    "                x = s[:-1]\n",
    "                sab = x[which_ab]\n",
    "\n",
    "                h_ab = h[which_ab,ia] - h[which_ab,ib]\n",
    "\n",
    "                ha = eps*h_ab/np.tanh(h_ab/2.)\n",
    "\n",
    "                # 2018.11.01: calculate dh, ds at the end -----------------\n",
    "\n",
    "                if ib_count == 1: \n",
    "                    ha_all = ha[:,np.newaxis].copy()\n",
    "                    sab_all = sab.copy()\n",
    "                else:    \n",
    "                    ha_all = np.vstack((ha_all,ha[:,np.newaxis]))            \n",
    "                    sab_all = np.vstack((sab_all,sab))\n",
    "\n",
    "        dhds = (ha_all - ha_all.mean())*(sab_all-sab_all.mean())\n",
    "        dhds_av_av = dhds.mean(axis=0)\n",
    "\n",
    "        w[ia,:] = np.dot(c_inv,dhds_av_av)  \n",
    "\n",
    "#w_infer[i1:i2,:] = w     "
   ]
  },
  {
   "cell_type": "code",
   "execution_count": 41,
   "metadata": {
    "scrolled": true
   },
   "outputs": [
    {
     "data": {
      "text/plain": [
       "(2440, 1)"
      ]
     },
     "execution_count": 41,
     "metadata": {},
     "output_type": "execute_result"
    }
   ],
   "source": [
    "ha_all.shape"
   ]
  },
  {
   "cell_type": "code",
   "execution_count": 42,
   "metadata": {},
   "outputs": [
    {
     "data": {
      "text/plain": [
       "1800"
      ]
     },
     "execution_count": 42,
     "metadata": {},
     "output_type": "execute_result"
    }
   ],
   "source": [
    "l"
   ]
  },
  {
   "cell_type": "code",
   "execution_count": 40,
   "metadata": {},
   "outputs": [
    {
     "data": {
      "text/plain": [
       "[<matplotlib.lines.Line2D at 0x7f51fb722190>]"
      ]
     },
     "execution_count": 40,
     "metadata": {},
     "output_type": "execute_result"
    },
    {
     "data": {
      "image/png": "[encoded data removed]",
      "text/plain": [
       "<Figure size 432x288 with 1 Axes>"
      ]
     },
     "metadata": {},
     "output_type": "display_data"
    }
   ],
   "source": [
    "plt.scatter(w0[i1:i2,:],w)\n",
    "plt.plot([-0.3,0.3],[-0.3,0.3],'r--')"
   ]
  },
  {
   "cell_type": "code",
   "execution_count": null,
   "metadata": {},
   "outputs": [],
   "source": [
    "mse = ((w0-w)**2).mean()\n",
    "slope = (w0*w).sum()/(w0**2).sum()\n",
    "\n",
    "print(mse,slope)"
   ]
  },
  {
   "cell_type": "code",
   "execution_count": 27,
   "metadata": {},
   "outputs": [
    {
     "ename": "ValueError",
     "evalue": "all the input arrays must have same number of dimensions",
     "output_type": "error",
     "traceback": [
      "\u001b[0;31m---------------------------------------------------------------------------\u001b[0m",
      "\u001b[0;31mValueError\u001b[0m                                Traceback (most recent call last)",
      "\u001b[0;32m<ipython-input-27-d6794204d122>\u001b[0m in \u001b[0;36m<module>\u001b[0;34m()\u001b[0m\n\u001b[1;32m     11\u001b[0m \u001b[0mb\u001b[0m \u001b[0;34m=\u001b[0m \u001b[0mnp\u001b[0m\u001b[0;34m.\u001b[0m\u001b[0marray\u001b[0m\u001b[0;34m(\u001b[0m\u001b[0;34m[\u001b[0m\u001b[0;34m[\u001b[0m\u001b[0;36m31\u001b[0m\u001b[0;34m,\u001b[0m\u001b[0;36m32\u001b[0m\u001b[0;34m,\u001b[0m\u001b[0;36m33\u001b[0m\u001b[0;34m]\u001b[0m\u001b[0;34m,\u001b[0m\u001b[0;34m[\u001b[0m\u001b[0;36m41\u001b[0m\u001b[0;34m,\u001b[0m\u001b[0;36m42\u001b[0m\u001b[0;34m,\u001b[0m\u001b[0;36m43\u001b[0m\u001b[0;34m]\u001b[0m\u001b[0;34m,\u001b[0m\u001b[0;34m[\u001b[0m\u001b[0;36m51\u001b[0m\u001b[0;34m,\u001b[0m\u001b[0;36m52\u001b[0m\u001b[0;34m,\u001b[0m\u001b[0;36m53\u001b[0m\u001b[0;34m]\u001b[0m\u001b[0;34m]\u001b[0m\u001b[0;34m)\u001b[0m\u001b[0;34m\u001b[0m\u001b[0m\n\u001b[1;32m     12\u001b[0m \u001b[0;34m\u001b[0m\u001b[0m\n\u001b[0;32m---> 13\u001b[0;31m \u001b[0mc\u001b[0m \u001b[0;34m=\u001b[0m \u001b[0mnp\u001b[0m\u001b[0;34m.\u001b[0m\u001b[0mconcatenate\u001b[0m\u001b[0;34m(\u001b[0m\u001b[0;34m(\u001b[0m\u001b[0ma0\u001b[0m\u001b[0;34m,\u001b[0m\u001b[0ma\u001b[0m\u001b[0;34m)\u001b[0m\u001b[0;34m,\u001b[0m\u001b[0maxis\u001b[0m\u001b[0;34m=\u001b[0m\u001b[0;36m0\u001b[0m\u001b[0;34m)\u001b[0m\u001b[0;34m\u001b[0m\u001b[0m\n\u001b[0m\u001b[1;32m     14\u001b[0m \u001b[0;32mprint\u001b[0m\u001b[0;34m(\u001b[0m\u001b[0mc\u001b[0m\u001b[0;34m)\u001b[0m\u001b[0;34m\u001b[0m\u001b[0m\n\u001b[1;32m     15\u001b[0m \u001b[0;34m\u001b[0m\u001b[0m\n",
      "\u001b[0;31mValueError\u001b[0m: all the input arrays must have same number of dimensions"
     ]
    }
   ],
   "source": [
    "import numpy as np\n",
    "a = np.array([11,12,13])\n",
    "b = np.array([21,22,23])\n",
    "\n",
    "c = np.vstack((a,b))\n",
    "#print(c)\n",
    "\n",
    "a0 = []\n",
    "\n",
    "a = np.array([[11,12,13],[21,22,23]])\n",
    "b = np.array([[31,32,33],[41,42,43],[51,52,53]])\n",
    "\n",
    "c = np.concatenate((a0,a),axis=0)\n",
    "print(c)\n",
    "\n",
    "#c = np.vstack((a,b))\n",
    "#print(c)\n"
   ]
  },
  {
   "cell_type": "code",
   "execution_count": null,
   "metadata": {},
   "outputs": [],
   "source": []
  }
 ],
 "metadata": {
  "kernelspec": {
   "display_name": "Python 2",
   "language": "python",
   "name": "python2"
  },
  "language_info": {
   "codemirror_mode": {
    "name": "ipython",
    "version": 2
   },
   "file_extension": ".py",
   "mimetype": "text/x-python",
   "name": "python",
   "nbconvert_exporter": "python",
   "pygments_lexer": "ipython2",
   "version": "2.7.15"
  }
 },
 "nbformat": 4,
 "nbformat_minor": 2
}
