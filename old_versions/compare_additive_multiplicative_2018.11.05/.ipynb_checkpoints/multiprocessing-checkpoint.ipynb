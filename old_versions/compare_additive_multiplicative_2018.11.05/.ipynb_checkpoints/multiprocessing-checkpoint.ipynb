{
 "cells": [
  {
   "cell_type": "markdown",
   "metadata": {},
   "source": [
    "# multiprocessing"
   ]
  },
  {
   "cell_type": "code",
   "execution_count": 1,
   "metadata": {
    "collapsed": false
   },
   "outputs": [],
   "source": [
    "import sys\n",
    "import numpy as np\n",
    "import matplotlib.pyplot as plt\n",
    "%matplotlib inline\n",
    "import multiprocessing\n",
    "\n",
    "#import inference"
   ]
  },
  {
   "cell_type": "code",
   "execution_count": 2,
   "metadata": {
    "collapsed": true,
    "scrolled": true
   },
   "outputs": [],
   "source": [
    "# setting parameter:\n",
    "np.random.seed(1)"
   ]
  },
  {
   "cell_type": "code",
   "execution_count": 3,
   "metadata": {
    "collapsed": false
   },
   "outputs": [
    {
     "name": "stdout",
     "output_type": "stream",
     "text": [
      "There are 8 CPUs available on this machine\n",
      "You are using 2 CPU(s)\n"
     ]
    }
   ],
   "source": [
    "nPC = 2\n",
    "print(\"There are %d CPUs available on this machine\" % multiprocessing.cpu_count())\n",
    "print(\"You are using %d CPU(s)\" % nPC)"
   ]
  },
  {
   "cell_type": "code",
   "execution_count": 4,
   "metadata": {
    "collapsed": true
   },
   "outputs": [],
   "source": [
    "def test_MPC(i):\n",
    "    print(i,i+10)\n",
    "    return i+10"
   ]
  },
  {
   "cell_type": "code",
   "execution_count": 5,
   "metadata": {
    "collapsed": false
   },
   "outputs": [
    {
     "name": "stdout",
     "output_type": "stream",
     "text": [
      "(0, 10)\n",
      "(1, 11)\n",
      "(3, 13)\n",
      "(2, 12)\n",
      "(5, 15)\n",
      "(4, 14)\n"
     ]
    }
   ],
   "source": [
    "n = 6\n",
    "\n",
    "pool = multiprocessing.Pool(processes=nPC)\n",
    "#res = pool.map(test_MPC,list(range(n)))\n",
    "pool.map(test_MPC,list(range(n)))\n",
    "pool.close()\n",
    "\n",
    "#W=np.array([r[0] for r in res])\n",
    "#cost=np.array([r[1] for r in res])\n",
    "#H0=np.array([r[2] for r in res])"
   ]
  },
  {
   "cell_type": "code",
   "execution_count": 6,
   "metadata": {
    "collapsed": false
   },
   "outputs": [],
   "source": [
    "#print(res)\n",
    "#print(type(res))"
   ]
  },
  {
   "cell_type": "code",
   "execution_count": 7,
   "metadata": {
    "collapsed": true
   },
   "outputs": [],
   "source": [
    "#start_time = timeit.default_timer()\n",
    "#stop_time=timeit.default_timer()\n",
    "#run_time=stop_time-start_time\n",
    "#print('run_time:', run_time)"
   ]
  }
 ],
 "metadata": {
  "kernelspec": {
   "display_name": "Python 2",
   "language": "python",
   "name": "python2"
  },
  "language_info": {
   "codemirror_mode": {
    "name": "ipython",
    "version": 2
   },
   "file_extension": ".py",
   "mimetype": "text/x-python",
   "name": "python",
   "nbconvert_exporter": "python",
   "pygments_lexer": "ipython2",
   "version": "2.7.13"
  }
 },
 "nbformat": 4,
 "nbformat_minor": 2
}
