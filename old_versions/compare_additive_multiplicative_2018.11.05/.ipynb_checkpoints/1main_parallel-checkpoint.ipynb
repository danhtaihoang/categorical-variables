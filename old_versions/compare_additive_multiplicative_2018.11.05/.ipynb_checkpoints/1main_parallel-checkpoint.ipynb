{
 "cells": [
  {
   "cell_type": "markdown",
   "metadata": {},
   "source": [
    "# 2018.11.01: Network inference from time series of categorical variables"
   ]
  },
  {
   "cell_type": "code",
   "execution_count": 1,
   "metadata": {
    "collapsed": false
   },
   "outputs": [],
   "source": [
    "import sys\n",
    "import numpy as np\n",
    "import timeit\n",
    "from sklearn.preprocessing import OneHotEncoder\n",
    "import matplotlib.pyplot as plt\n",
    "%matplotlib inline\n",
    "import multiprocessing\n",
    "\n",
    "import inference"
   ]
  },
  {
   "cell_type": "code",
   "execution_count": 2,
   "metadata": {
    "collapsed": false,
    "scrolled": true
   },
   "outputs": [],
   "source": [
    "# setting parameter:\n",
    "np.random.seed(1)\n",
    "\n",
    "n = 20 # number of positions\n",
    "m = 5 # number of values at each position\n",
    "l = int(1*((n*m)**2)) # number of samples\n",
    "g = 4."
   ]
  },
  {
   "cell_type": "code",
   "execution_count": 3,
   "metadata": {
    "collapsed": false
   },
   "outputs": [],
   "source": [
    "w0 = inference.generate_interactions(n,m,g)"
   ]
  },
  {
   "cell_type": "code",
   "execution_count": 4,
   "metadata": {
    "collapsed": true
   },
   "outputs": [],
   "source": [
    "def itab(n,m):    \n",
    "    i1 = np.zeros(n)\n",
    "    i2 = np.zeros(n)\n",
    "    for i in range(n):\n",
    "        i1[i] = i*m\n",
    "        i2[i] = (i+1)*m\n",
    "\n",
    "    return i1.astype(int),i2.astype(int)"
   ]
  },
  {
   "cell_type": "code",
   "execution_count": 5,
   "metadata": {
    "collapsed": true
   },
   "outputs": [],
   "source": [
    "def generate_sequences(w,n,m,l): \n",
    "    i1tab,i2tab = itab(n,m)    \n",
    "   \n",
    "    # initial s (categorical variables)\n",
    "    s_ini = np.random.randint(0,m,size=(l,n)) # integer values\n",
    "    #print(s_ini)\n",
    "\n",
    "    # onehot encoder \n",
    "    enc = OneHotEncoder(n_values=m)\n",
    "    s = enc.fit_transform(s_ini).toarray()\n",
    "    #print(s) \n",
    "\n",
    "    ntrial = 20*m\n",
    "\n",
    "    for t in range(l-1):\n",
    "        h = np.sum(s[t,:]*w[:,:],axis=1)\n",
    "        for i in range(n):\n",
    "            i1,i2 = i1tab[i],i2tab[i]\n",
    "                \n",
    "            k = np.random.randint(0,m)              \n",
    "            for itrial in range(ntrial):            \n",
    "                k2 = np.random.randint(0,m)                \n",
    "                while k2 == k:\n",
    "                    k2 = np.random.randint(0,m)\n",
    "                               \n",
    "                if np.exp(h[i1+k2]- h[i1+k]) > np.random.rand():\n",
    "                    k = k2\n",
    "            \n",
    "            s[t+1,i1:i2] = 0.\n",
    "            s[t+1,i1+k] = 1.\n",
    "            \n",
    "    return s  "
   ]
  },
  {
   "cell_type": "code",
   "execution_count": 13,
   "metadata": {
    "collapsed": false
   },
   "outputs": [
    {
     "name": "stdout",
     "output_type": "stream",
     "text": [
      "('run_time:', 437.8355190753937)\n"
     ]
    }
   ],
   "source": [
    "#def generate_sequences_MPC(w,n,m,l):\n",
    "start_time = timeit.default_timer()\n",
    "\n",
    "w = w0.copy()\n",
    "\n",
    "i1tab,i2tab = itab(n,m)    \n",
    "nPC = min(multiprocessing.cpu_count(),n)\n",
    "\n",
    "#-------------------------------------\n",
    "def update_states(i):\n",
    "    i1,i2 = i1tab[i],i2tab[i]\n",
    "    k = np.random.randint(0,m)              \n",
    "    for itrial in range(ntrial):            \n",
    "        k2 = np.random.randint(0,m)                \n",
    "        while k2 == k:\n",
    "            k2 = np.random.randint(0,m)\n",
    "\n",
    "        if np.exp(h[i1+k2]- h[i1+k]) > np.random.rand():\n",
    "            k = k2\n",
    "\n",
    "    #s[t+1,i1:i2] = 0.\n",
    "    #s[t+1,i1+k] = 1. \n",
    "    return k\n",
    "#------------------------------------\n",
    "\n",
    "# initial s (categorical variables)\n",
    "s_ini = np.random.randint(0,m,size=(l,n)) # integer values\n",
    "#print(s_ini)\n",
    "\n",
    "# onehot encoder \n",
    "enc = OneHotEncoder(n_values=m)\n",
    "s = enc.fit_transform(s_ini).toarray()\n",
    "#print(s) \n",
    "\n",
    "ntrial = 20*m\n",
    "\n",
    "for t in range(l-1):\n",
    "    h = np.sum(s[t,:]*w[:,:],axis=1)\n",
    "\n",
    "    #for i in range(n):            \n",
    "    #    update_states(i)\n",
    "    pool = multiprocessing.Pool(processes=nPC)\n",
    "    res = pool.map(update_states,list(range(n)))\n",
    "    pool.close()\n",
    "    \n",
    "    for i in range(n):\n",
    "        k = res[i]\n",
    "        i1,i2 = i1tab[i],i2tab[i]\n",
    "        s[t+1,i1:i2] = 0.\n",
    "        s[t+1,i1+k] = 1. \n",
    "\n",
    "#return s  \n",
    "\n",
    "stop_time = timeit.default_timer()\n",
    "run_time = stop_time-start_time\n",
    "print('run_time:', run_time)"
   ]
  },
  {
   "cell_type": "code",
   "execution_count": 14,
   "metadata": {
    "collapsed": false
   },
   "outputs": [
    {
     "name": "stdout",
     "output_type": "stream",
     "text": [
      "('run_time:', 8.59586501121521)\n",
      "('MSE by multiplicative update:', 0.006463854600551988)\n"
     ]
    },
    {
     "data": {
      "image/png": "[encoded data removed]",
      "text/plain": [
       "<matplotlib.figure.Figure at 0x7f3ff48e3990>"
      ]
     },
     "metadata": {},
     "output_type": "display_data"
    }
   ],
   "source": [
    "start_time = timeit.default_timer()\n",
    "\n",
    "w = inference.fit_multiplicative(s,n,m)\n",
    "\n",
    "stop_time = timeit.default_timer()\n",
    "run_time = stop_time-start_time\n",
    "print('run_time:', run_time)\n",
    "\n",
    "plt.scatter(w0,w)\n",
    "plt.plot([-1.0,1.0],[-1.0,1.0],'r--')\n",
    "mse = ((w0-w)**2).mean()\n",
    "print('MSE by multiplicative update:',mse)"
   ]
  },
  {
   "cell_type": "code",
   "execution_count": 8,
   "metadata": {
    "collapsed": false
   },
   "outputs": [],
   "source": [
    "#pool = multiprocessing.Pool(processes=nPC)\n",
    "#res = pool.map(test_MPC,list(range(n)))\n",
    "#pool.close()\n",
    "\n",
    "#start_time = timeit.default_timer()\n",
    "\n",
    "#s = generate_sequences(w0,n,m,l)\n",
    "\n",
    "#stop_time = timeit.default_timer()\n",
    "#run_time = stop_time-start_time\n",
    "#print('run_time:', run_time)"
   ]
  },
  {
   "cell_type": "code",
   "execution_count": 9,
   "metadata": {
    "collapsed": false
   },
   "outputs": [],
   "source": [
    "#w = inference.fit_multiplicative(s,n,m)"
   ]
  },
  {
   "cell_type": "code",
   "execution_count": 10,
   "metadata": {
    "collapsed": false
   },
   "outputs": [],
   "source": [
    "#plt.scatter(w0,w)\n",
    "#plt.plot([-1.0,1.0],[-1.0,1.0],'r--')\n",
    "#mse = ((w0-w)**2).mean()\n",
    "#print('MSE by multiplicative update:',mse)"
   ]
  },
  {
   "cell_type": "code",
   "execution_count": null,
   "metadata": {
    "collapsed": true
   },
   "outputs": [],
   "source": []
  }
 ],
 "metadata": {
  "kernelspec": {
   "display_name": "Python 2",
   "language": "python",
   "name": "python2"
  },
  "language_info": {
   "codemirror_mode": {
    "name": "ipython",
    "version": 2
   },
   "file_extension": ".py",
   "mimetype": "text/x-python",
   "name": "python",
   "nbconvert_exporter": "python",
   "pygments_lexer": "ipython2",
   "version": "2.7.13"
  }
 },
 "nbformat": 4,
 "nbformat_minor": 2
}
