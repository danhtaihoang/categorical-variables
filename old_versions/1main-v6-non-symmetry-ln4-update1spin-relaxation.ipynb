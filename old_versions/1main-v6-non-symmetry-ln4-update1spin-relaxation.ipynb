{
 "cells": [
  {
   "cell_type": "markdown",
   "metadata": {},
   "source": [
    "# Network inference of categorical variables: non-sequential data"
   ]
  },
  {
   "cell_type": "code",
   "execution_count": 1,
   "metadata": {},
   "outputs": [],
   "source": [
    "import sys\n",
    "import numpy as np\n",
    "from scipy import linalg\n",
    "from sklearn.preprocessing import OneHotEncoder\n",
    "\n",
    "import matplotlib.pyplot as plt\n",
    "%matplotlib inline\n",
    "\n",
    "import inference\n",
    "import fem"
   ]
  },
  {
   "cell_type": "code",
   "execution_count": 2,
   "metadata": {
    "scrolled": true
   },
   "outputs": [],
   "source": [
    "# setting parameter:\n",
    "np.random.seed(1)\n",
    "\n",
    "n = 20 # number of positions\n",
    "m = 3 # number of values at each position\n",
    "l = int(1*((n*m)**2)) # number of samples\n",
    "g = 2.\n",
    "\n",
    "nm = n*m"
   ]
  },
  {
   "cell_type": "code",
   "execution_count": 3,
   "metadata": {},
   "outputs": [],
   "source": [
    "def itab(n,m):    \n",
    "    i1 = np.zeros(n)\n",
    "    i2 = np.zeros(n)\n",
    "    for i in range(n):\n",
    "        i1[i] = i*m\n",
    "        i2[i] = (i+1)*m\n",
    "\n",
    "    return i1.astype(int),i2.astype(int)"
   ]
  },
  {
   "cell_type": "code",
   "execution_count": 4,
   "metadata": {},
   "outputs": [],
   "source": [
    "# generate coupling matrix w0:\n",
    "def generate_interactions(n,m,g):\n",
    "    nm = n*m\n",
    "    w = np.random.normal(0.0,g/np.sqrt(nm),size=(nm,nm))\n",
    "    i1tab,i2tab = itab(n,m)\n",
    "\n",
    "    for i in range(n):        \n",
    "        i1,i2 = i1tab[i],i2tab[i]              \n",
    "        w[i1:i2,:] -= w[i1:i2,:].mean(axis=0)            \n",
    "\n",
    "    for i in range(n):\n",
    "        i1,i2 = i1tab[i],i2tab[i]\n",
    "        w[i1:i2,i1:i2] = 0.   # no self-interactions\n",
    "\n",
    "    for i in range(nm):\n",
    "        for j in range(nm):\n",
    "            if j > i: w[i,j] = w[j,i]  \n",
    "        \n",
    "    return w"
   ]
  },
  {
   "cell_type": "code",
   "execution_count": 5,
   "metadata": {},
   "outputs": [],
   "source": [
    "i1tab,i2tab = itab(n,m)"
   ]
  },
  {
   "cell_type": "code",
   "execution_count": 6,
   "metadata": {},
   "outputs": [],
   "source": [
    "w0 = inference.generate_interactions(n,m,g)"
   ]
  },
  {
   "cell_type": "code",
   "execution_count": 7,
   "metadata": {},
   "outputs": [],
   "source": [
    "#plt.imshow(w0,cmap='rainbow',origin='lower')\n",
    "#plt.clim(-0.5,0.5)\n",
    "#plt.colorbar(fraction=0.045, pad=0.05,ticks=[-0.5,0,0.5])\n",
    "#plt.show()\n",
    "#print(w0)"
   ]
  },
  {
   "cell_type": "code",
   "execution_count": 8,
   "metadata": {},
   "outputs": [],
   "source": [
    "def generate_sequences2(w,n,m,l):\n",
    "    i1tab,i2tab = itab(n,m)\n",
    "\n",
    "    # initial s (categorical variables)\n",
    "    s_ini = np.random.randint(0,m,size=(l,n)) # integer values\n",
    "    #print(s_ini)\n",
    "\n",
    "    # onehot encoder \n",
    "    enc = OneHotEncoder(n_values=m)\n",
    "    s = enc.fit_transform(s_ini).toarray()\n",
    "    print(s)\n",
    "\n",
    "    nrepeat = 500\n",
    "    for irepeat in range(nrepeat):\n",
    "        for i in range(n):\n",
    "            i1,i2 = i1tab[i],i2tab[i]\n",
    "\n",
    "            h = s.dot(w[i1:i2,:].T)              # h[t,i1:i2]\n",
    "            h_old = (s[:,i1:i2]*h).sum(axis=1)   # h[t,i0]\n",
    "            k = np.random.randint(0,m,size=l)\n",
    "\n",
    "            for t in range(l):\n",
    "                if np.exp(h[t,k[t]] - h_old[t]) > np.random.rand():\n",
    "                    s[t,i1:i2] = 0.\n",
    "                    s[t,i1+k[t]] = 1.\n",
    "    return s                "
   ]
  },
  {
   "cell_type": "code",
   "execution_count": 9,
   "metadata": {},
   "outputs": [],
   "source": [
    "# 2018.11.07: Tai\n",
    "def nrgy_tai(s,w):\n",
    "    l = s.shape[0]\n",
    "    n,m = 20,3\n",
    "    \n",
    "    i1tab,i2tab = itab(n,m)\n",
    "    p = np.zeros((l,n))\n",
    "    for i in range(n):\n",
    "        i1,i2 = i1tab[i],i2tab[i]\n",
    "                \n",
    "        h = s.dot(w[i1:i2,:].T)\n",
    "        #e = (s[:,i1:i2]*h).sum(axis=1)\n",
    "        \n",
    "        #p[:,i] = np.exp(e)        \n",
    "        #p_sum = np.sum(np.exp(h),axis=1)        \n",
    "        #p[:,i] /= p_sum\n",
    "        \n",
    "        p[:,i] = np.exp((s[:,i1:i2]*h).sum(axis=1))/(np.exp(h).sum(axis=1))\n",
    "        \n",
    "    #like = p.sum(axis=1)\n",
    "    \n",
    "    return np.sum(np.log(p),axis=1)"
   ]
  },
  {
   "cell_type": "code",
   "execution_count": 10,
   "metadata": {},
   "outputs": [],
   "source": [
    "# Vipul:\n",
    "def nrgy_vp(onehot,w):\n",
    "    nrgy = onehot*(onehot.dot(w.T))\n",
    "#    print(nrgy - np.log(2*np.cosh(nrgy)))\n",
    "    return np.sum(nrgy - np.log(2*np.cosh(nrgy)),axis=1) #ln prob"
   ]
  },
  {
   "cell_type": "code",
   "execution_count": 11,
   "metadata": {},
   "outputs": [],
   "source": [
    "# equilibrium\n",
    "def nrgy(onehot,w):\n",
    "    nrgy = onehot*(onehot.dot(w.T))\n",
    "#    print(nrgy - np.log(2*np.cosh(nrgy)))\n",
    "    return np.sum(nrgy,axis=1) # - np.log(2*np.cosh(nrgy)),axis=1) #ln prob"
   ]
  },
  {
   "cell_type": "code",
   "execution_count": 12,
   "metadata": {},
   "outputs": [],
   "source": [
    "# 2018.11.07: equilibrium\n",
    "\n",
    "def generate_sequences_vp_tai1(w,n,m,l):\n",
    "    nm = n*m\n",
    "    n_trial = 50*n\n",
    "    \n",
    "    b = np.zeros(nm)\n",
    "\n",
    "    trial_seq = np.random.randint(0,m,size=(l,n)) # integer values\n",
    "    \n",
    "    print(trial_seq[0:3])\n",
    "    enc = OneHotEncoder(n_values=m)\n",
    "    onehot = enc.fit_transform(trial_seq).toarray()   \n",
    "    old_nrgy = np.sum(onehot*(onehot.dot(w.T)),axis=1)\n",
    "    \n",
    "    for trial in range(n_trial):\n",
    "        for index in range(n):\n",
    "            r_trial = np.random.randint(0,m,size=(l))        \n",
    "            mod_seq = trial_seq.copy()\n",
    "            mod_seq[:,index] = r_trial\n",
    "\n",
    "            onehot = enc.fit_transform(mod_seq).toarray()            \n",
    "            mod_nrgy = np.sum(onehot*(onehot.dot(w.T)),axis=1)\n",
    "\n",
    "            seq_change = mod_nrgy-old_nrgy > np.log(np.random.rand(l))\n",
    "            trial_seq[seq_change,index] = r_trial[seq_change]\n",
    "            old_nrgy[seq_change] = mod_nrgy[seq_change]\n",
    "      \n",
    "        if trial%(5*n) == 0: print('after',np.mean(old_nrgy))\n",
    "    #print(trial_seq[:5,:10])\n",
    "    return enc.fit_transform(trial_seq).toarray()"
   ]
  },
  {
   "cell_type": "code",
   "execution_count": null,
   "metadata": {},
   "outputs": [],
   "source": [
    "# 2018.11.07: equilibrium\n",
    "def generate_sequences_vp_tai(w,n,m,l):\n",
    "    nm = n*m\n",
    "    n_trial = 50*n\n",
    "    \n",
    "    b = np.zeros(nm)\n",
    "\n",
    "    trial_seq = np.random.randint(0,m,size=(l,n)) # integer values\n",
    "    \n",
    "    print(trial_seq[0:3])\n",
    "    enc = OneHotEncoder(n_values=m)\n",
    "    onehot = enc.fit_transform(trial_seq).toarray()   \n",
    "    e_old = np.sum(onehot*(onehot.dot(w.T)),axis=1)\n",
    "    \n",
    "    for trial in range(n_trial):\n",
    "        for index in range(n):\n",
    "            r_trial = np.random.randint(0,m,size=(l))        \n",
    "            mod_seq = trial_seq.copy()\n",
    "            mod_seq[:,index] = r_trial\n",
    "\n",
    "            onehot = enc.fit_transform(mod_seq).toarray()            \n",
    "            e_new = np.sum(onehot*(onehot.dot(w.T)),axis=1)\n",
    "\n",
    "            seq_change = e_new - e_old > np.log(np.random.rand(l))\n",
    "            trial_seq[seq_change,index] = r_trial[seq_change]\n",
    "            e_old[seq_change] = e_new[seq_change]\n",
    "      \n",
    "        if trial%(5*n) == 0: print('after',np.mean(old_nrgy))\n",
    "    #print(trial_seq[:5,:10])\n",
    "    return enc.fit_transform(trial_seq).toarray()"
   ]
  },
  {
   "cell_type": "code",
   "execution_count": 13,
   "metadata": {
    "scrolled": true
   },
   "outputs": [
    {
     "name": "stdout",
     "output_type": "stream",
     "text": [
      "[[2 1 1 2 2 2 2 2 1 2 1 2 0 2 2 2 0 1 0 2]\n",
      " [2 2 2 0 1 2 2 0 0 1 1 1 0 0 1 1 2 1 1 0]\n",
      " [2 0 2 1 1 0 1 2 0 1 0 0 2 0 2 1 0 0 0 0]]\n",
      "('after', 6.404498194411311)\n",
      "('after', 12.188019534710318)\n",
      "('after', 12.199177816964385)\n",
      "('after', 12.167478274319716)\n",
      "('after', 12.170706517226956)\n",
      "('after', 12.063728110058179)\n",
      "('after', 12.217864703299988)\n",
      "('after', 12.171533160427966)\n",
      "('after', 12.17859315772418)\n",
      "('after', 12.201620386128637)\n",
      "[[1 0 0 0 0 1 2 2 1 2]\n",
      " [1 0 1 0 0 2 2 2 1 2]\n",
      " [1 0 1 2 0 2 1 2 2 1]\n",
      " [2 0 1 0 0 2 1 2 2 1]\n",
      " [1 2 1 1 0 2 2 1 1 2]]\n"
     ]
    }
   ],
   "source": [
    "s = generate_sequences_vp_tai(w0,n,m,l)"
   ]
  },
  {
   "cell_type": "code",
   "execution_count": 14,
   "metadata": {},
   "outputs": [],
   "source": [
    "def generate_sequences_time_series(s_ini,w,n,m): \n",
    "    i1tab,i2tab = itab(n,m)    \n",
    "\n",
    "    l = s_ini.shape[0]\n",
    "    \n",
    "    # initial s (categorical variables)\n",
    "    #s_ini = np.random.randint(0,m,size=(l,n)) # integer values\n",
    "    #print(s_ini)\n",
    "\n",
    "    # onehot encoder \n",
    "    enc = OneHotEncoder(n_values=m)\n",
    "    s = enc.fit_transform(s_ini).toarray()\n",
    "    #print(s) \n",
    "\n",
    "    ntrial = 20*m\n",
    "\n",
    "    for t in range(l-1):\n",
    "        h = np.sum(s[t,:]*w[:,:],axis=1)\n",
    "        for i in range(n):\n",
    "            i1,i2 = i1tab[i],i2tab[i]\n",
    "                \n",
    "            k = np.random.randint(0,m)              \n",
    "            for itrial in range(ntrial):            \n",
    "                k2 = np.random.randint(0,m)                \n",
    "                while k2 == k:\n",
    "                    k2 = np.random.randint(0,m)\n",
    "                               \n",
    "                if np.exp(h[i1+k2]- h[i1+k]) > np.random.rand():\n",
    "                    k = k2\n",
    "            \n",
    "            s[t+1,i1:i2] = 0.\n",
    "            s[t+1,i1+k] = 1.\n",
    "            \n",
    "    return s"
   ]
  },
  {
   "cell_type": "code",
   "execution_count": 15,
   "metadata": {},
   "outputs": [
    {
     "data": {
      "text/plain": [
       "<matplotlib.collections.PathCollection at 0x7f0f95d48550>"
      ]
     },
     "execution_count": 15,
     "metadata": {},
     "output_type": "execute_result"
    },
    {
     "data": {
      "image/png": "[encoded data removed]",
      "text/plain": [
       "<Figure size 432x288 with 1 Axes>"
      ]
     },
     "metadata": {},
     "output_type": "display_data"
    }
   ],
   "source": [
    "## 2018.11.07: for non sequencial data\n",
    "def fit_additive(s,n,m):\n",
    "    nloop = 10\n",
    "    i1tab,i2tab = itab(n,m)\n",
    "\n",
    "    nm = n*m\n",
    "    nm1 = nm - m\n",
    "\n",
    "    w_infer = np.zeros((nm,nm))\n",
    "\n",
    "    for i in range(n):\n",
    "        i1,i2 = i1tab[i],i2tab[i]\n",
    "\n",
    "        # remove column i\n",
    "        x = np.hstack([s[:,:i1],s[:,i2:]])\n",
    "              \n",
    "        x_av = np.mean(x,axis=0)\n",
    "        dx = x - x_av\n",
    "        c = np.cov(dx,rowvar=False,bias=True)\n",
    "        c_inv = linalg.pinv(c,rcond=1e-15)\n",
    "\n",
    "        #print(c_inv.shape)\n",
    "\n",
    "        h = s[:,i1:i2].copy()\n",
    "        for iloop in range(nloop):\n",
    "            h_av = h.mean(axis=0)\n",
    "            dh = h - h_av\n",
    "\n",
    "            dhdx = dh[:,:,np.newaxis]*dx[:,np.newaxis,:]\n",
    "            dhdx_av = dhdx.mean(axis=0)\n",
    "\n",
    "            w = np.dot(dhdx_av,c_inv)\n",
    "            \n",
    "            #w = w - w.mean(axis=0) \n",
    "\n",
    "            h = np.dot(x,w.T)\n",
    "\n",
    "            p = np.exp(h)\n",
    "            p_sum = p.sum(axis=1)\n",
    "            \n",
    "            #p /= p_sum[:,np.newaxis]            \n",
    "            for k in range(m):\n",
    "                p[:,k] = p[:,k]/p_sum[:]\n",
    "            \n",
    "            h += s[:,i1:i2] - p\n",
    "              \n",
    "        w_infer[i1:i2,:i1] = w[:,:i1]\n",
    "        w_infer[i1:i2,i2:] = w[:,i1:]\n",
    "    \n",
    "    return w_infer\n",
    "\n",
    "w2 = fit_additive(s,n,m)\n",
    "\n",
    "plt.plot([-1,1],[-1,1],'r--')\n",
    "plt.scatter(w0,w2)"
   ]
  },
  {
   "cell_type": "code",
   "execution_count": 16,
   "metadata": {},
   "outputs": [],
   "source": [
    "def fit_multiplicative(s,n,m,l):\n",
    "    i1tab,i2tab = itab(n,m) \n",
    "\n",
    "    nloop = 10\n",
    "    nm1 = nm - m\n",
    "\n",
    "    w_infer = np.zeros((nm,nm))\n",
    "    wini = np.random.normal(0.0,1./np.sqrt(nm),size=(nm,nm1))\n",
    "\n",
    "    for i in range(n):\n",
    "\n",
    "        i1,i2 = i1tab[i],i2tab[i]\n",
    "\n",
    "        x = np.hstack([s[:,:i1],s[:,i2:]])\n",
    "        y = s.copy()\n",
    "\n",
    "        # covariance[ia,ib]\n",
    "        cab_inv = np.empty((m,m,nm1,nm1))\n",
    "        eps = np.empty((m,m,l))\n",
    "        for ia in range(m):\n",
    "            for ib in range(m):\n",
    "                if ib != ia:\n",
    "                    eps[ia,ib,:] = y[:,i1+ia] - y[:,i1+ib]\n",
    "\n",
    "                    which_ab = eps[ia,ib,:] !=0.                    \n",
    "                    xab = x[which_ab]          \n",
    "\n",
    "                    # ----------------------------\n",
    "                    xab_av = np.mean(xab,axis=0)\n",
    "                    dxab = xab - xab_av\n",
    "                    cab = np.cov(dxab,rowvar=False,bias=True)\n",
    "                    cab_inv[ia,ib,:,:] = linalg.pinv(cab,rcond=1e-15)\n",
    "\n",
    "        w = wini[i1:i2,:].copy()\n",
    "        cost = np.full(nloop,100.) \n",
    "        for iloop in range(nloop):\n",
    "            h = np.dot(x,w.T)\n",
    "            \n",
    "             # stopping criterion --------------------\n",
    "            p = np.exp(h)\n",
    "            p_sum = p.sum(axis=1)\n",
    "            p /= p_sum[:,np.newaxis]\n",
    "\n",
    "            cost[iloop] = ((y[:,i1:i2] - p[:,:])**2).mean()\n",
    "            if iloop > 1 and cost[iloop] >= cost[iloop-1]: break\n",
    "            \n",
    "            for ia in range(m):\n",
    "                wa = np.zeros(nm1)\n",
    "                for ib in range(m):\n",
    "                    if ib != ia:\n",
    "\n",
    "                        which_ab = eps[ia,ib,:] !=0.\n",
    "\n",
    "                        eps_ab = eps[ia,ib,which_ab]\n",
    "                        xab = x[which_ab]\n",
    "\n",
    "                        # ----------------------------\n",
    "                        xab_av = np.mean(xab,axis=0)\n",
    "                        dxab = xab - xab_av\n",
    "\n",
    "                        h_ab = h[which_ab,ia] - h[which_ab,ib]                    \n",
    "                        ha = np.divide(eps_ab*h_ab,np.tanh(h_ab/2.), out=np.zeros_like(h_ab), where=h_ab!=0)                        \n",
    "\n",
    "                        dhdx = (ha - ha.mean())[:,np.newaxis]*dxab\n",
    "                        dhdx_av = dhdx.mean(axis=0)\n",
    "\n",
    "                        wab = cab_inv[ia,ib,:,:].dot(dhdx_av) # wa - wb\n",
    "\n",
    "                        wa += wab\n",
    "                w[ia,:] = wa/m\n",
    "\n",
    "        w_infer[i1:i2,:i1] = w[:,:i1]\n",
    "        w_infer[i1:i2,i2:] = w[:,i1:]\n",
    "\n",
    "    return w_infer"
   ]
  },
  {
   "cell_type": "code",
   "execution_count": 17,
   "metadata": {},
   "outputs": [
    {
     "data": {
      "text/plain": [
       "<matplotlib.collections.PathCollection at 0x7f0f95c78210>"
      ]
     },
     "execution_count": 17,
     "metadata": {},
     "output_type": "execute_result"
    },
    {
     "data": {
      "image/png": "[encoded data removed]",
      "text/plain": [
       "<Figure size 432x288 with 1 Axes>"
      ]
     },
     "metadata": {},
     "output_type": "display_data"
    }
   ],
   "source": [
    "w_infer = fit_multiplicative(s,n,m,l)\n",
    "plt.plot([-1,1],[-1,1],'r--')\n",
    "plt.scatter(w0,w_infer)\n",
    "#plt.scatter(w0[0:3,3:],w[0:3,:])"
   ]
  },
  {
   "cell_type": "code",
   "execution_count": null,
   "metadata": {},
   "outputs": [],
   "source": []
  }
 ],
 "metadata": {
  "kernelspec": {
   "display_name": "Python 2",
   "language": "python",
   "name": "python2"
  },
  "language_info": {
   "codemirror_mode": {
    "name": "ipython",
    "version": 2
   },
   "file_extension": ".py",
   "mimetype": "text/x-python",
   "name": "python",
   "nbconvert_exporter": "python",
   "pygments_lexer": "ipython2",
   "version": "2.7.15"
  }
 },
 "nbformat": 4,
 "nbformat_minor": 2
}
