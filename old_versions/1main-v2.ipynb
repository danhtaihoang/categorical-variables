{
 "cells": [
  {
   "cell_type": "markdown",
   "metadata": {},
   "source": [
    "# Network inference of categorical variables: non-sequential data"
   ]
  },
  {
   "cell_type": "code",
   "execution_count": 1,
   "metadata": {},
   "outputs": [],
   "source": [
    "import sys\n",
    "import numpy as np\n",
    "from scipy import linalg\n",
    "from sklearn.preprocessing import OneHotEncoder\n",
    "\n",
    "import matplotlib.pyplot as plt\n",
    "%matplotlib inline\n",
    "\n",
    "import inference\n",
    "import fem"
   ]
  },
  {
   "cell_type": "code",
   "execution_count": 2,
   "metadata": {
    "scrolled": true
   },
   "outputs": [],
   "source": [
    "# setting parameter:\n",
    "np.random.seed(1)\n",
    "\n",
    "n = 20 # number of positions\n",
    "m = 3 # number of values at each position\n",
    "l = int(((n*m)**2)) # number of samples\n",
    "g = 2.\n",
    "\n",
    "nm = n*m"
   ]
  },
  {
   "cell_type": "code",
   "execution_count": 3,
   "metadata": {},
   "outputs": [],
   "source": [
    "def itab(n,m):    \n",
    "    i1 = np.zeros(n)\n",
    "    i2 = np.zeros(n)\n",
    "    for i in range(n):\n",
    "        i1[i] = i*m\n",
    "        i2[i] = (i+1)*m\n",
    "\n",
    "    return i1.astype(int),i2.astype(int)"
   ]
  },
  {
   "cell_type": "code",
   "execution_count": 4,
   "metadata": {},
   "outputs": [],
   "source": [
    "# generate coupling matrix w0:\n",
    "def generate_interactions(n,m,g):\n",
    "    nm = n*m\n",
    "    w = np.random.normal(0.0,g/np.sqrt(nm),size=(nm,nm))\n",
    "    i1tab,i2tab = itab(n,m)\n",
    "\n",
    "    for i in range(n):        \n",
    "        i1,i2 = i1tab[i],i2tab[i]              \n",
    "        w[i1:i2,:] -= w[i1:i2,:].mean(axis=0)            \n",
    "\n",
    "    for i in range(n):\n",
    "        i1,i2 = i1tab[i],i2tab[i]\n",
    "        w[i1:i2,i1:i2] = 0.   # no self-interactions\n",
    "\n",
    "    #for i in range(nm):\n",
    "    #    for j in range(nm):\n",
    "    #        if j > i: w[i,j] = w[j,i]  \n",
    "        \n",
    "    return w"
   ]
  },
  {
   "cell_type": "code",
   "execution_count": 5,
   "metadata": {},
   "outputs": [],
   "source": [
    "i1tab,i2tab = itab(n,m)"
   ]
  },
  {
   "cell_type": "code",
   "execution_count": 6,
   "metadata": {},
   "outputs": [],
   "source": [
    "w0 = inference.generate_interactions(n,m,g)"
   ]
  },
  {
   "cell_type": "code",
   "execution_count": 7,
   "metadata": {},
   "outputs": [],
   "source": [
    "#plt.imshow(w0,cmap='rainbow',origin='lower')\n",
    "#plt.clim(-0.5,0.5)\n",
    "#plt.colorbar(fraction=0.045, pad=0.05,ticks=[-0.5,0,0.5])\n",
    "#plt.show()\n",
    "#print(w0)"
   ]
  },
  {
   "cell_type": "code",
   "execution_count": 8,
   "metadata": {},
   "outputs": [],
   "source": [
    "def generate_sequences1(w,n,m,l): \n",
    "\n",
    "    i1tab,i2tab = itab(n,m)    \n",
    "\n",
    "    # initial s (categorical variables)\n",
    "    s_ini = np.random.randint(0,m,size=(l,n)) # integer values\n",
    "    #print(s_ini)\n",
    "\n",
    "    # onehot encoder \n",
    "    enc = OneHotEncoder(n_values=m)\n",
    "    s = enc.fit_transform(s_ini).toarray()\n",
    "    #print(s) \n",
    "\n",
    "    ntrial = 2*m\n",
    "    nrepeat = 10*n*m\n",
    "\n",
    "    for t in range(l):\n",
    "        for irepeat in range(nrepeat):            # update for entire positions\n",
    "            for i in range(n):\n",
    "                i1,i2 = i1tab[i],i2tab[i]\n",
    "\n",
    "                h = np.sum(s[t,:]*w[i1:i2,:],axis=1)  # h[i1:i2]\n",
    "\n",
    "                k = np.random.randint(0,m)              \n",
    "                for itrial in range(ntrial):     # update at each position           \n",
    "                    k2 = np.random.randint(0,m)                \n",
    "                    while k2 == k:\n",
    "                        k2 = np.random.randint(0,m)\n",
    "\n",
    "                    if np.exp(h[k2]- h[k]) > np.random.rand():\n",
    "                        k = k2\n",
    "\n",
    "                s[t,i1:i2] = 0.\n",
    "                s[t,i1+k] = 1.\n",
    "            \n",
    "    return s "
   ]
  },
  {
   "cell_type": "code",
   "execution_count": 9,
   "metadata": {},
   "outputs": [],
   "source": [
    "def generate_sequences2(w,n,m,l):\n",
    "    i1tab,i2tab = itab(n,m)\n",
    "\n",
    "    # initial s (categorical variables)\n",
    "    s_ini = np.random.randint(0,m,size=(l,n)) # integer values\n",
    "    #print(s_ini)\n",
    "\n",
    "    # onehot encoder \n",
    "    enc = OneHotEncoder(n_values=m)\n",
    "    s = enc.fit_transform(s_ini).toarray()\n",
    "    print(s)\n",
    "\n",
    "    nrepeat = 500\n",
    "    for irepeat in range(nrepeat):\n",
    "        for i in range(n):\n",
    "            i1,i2 = i1tab[i],i2tab[i]\n",
    "\n",
    "            h = s.dot(w[i1:i2,:].T)              # h[t,i1:i2]\n",
    "            h_old = (s[:,i1:i2]*h).sum(axis=1)   # h[t,i0]\n",
    "            k = np.random.randint(0,m,size=l)\n",
    "\n",
    "            for t in range(l):\n",
    "                if np.exp(h[t,k[t]] - h_old[t]) > np.random.rand():\n",
    "                    s[t,i1:i2] = 0.\n",
    "                    s[t,i1+k[t]] = 1.\n",
    "    return s                "
   ]
  },
  {
   "cell_type": "code",
   "execution_count": 10,
   "metadata": {},
   "outputs": [],
   "source": [
    "def nrgy(s,w):\n",
    "    l = s.shape[0]\n",
    "    i1tab,i2tab = itab(n,m)\n",
    "    p = np.zeros((l,n))\n",
    "    for i in range(m):\n",
    "        i1,i2 = i1tab[i],i2tab[i]\n",
    "                \n",
    "        h = s.dot(w[i1:i2,:].T)\n",
    "        \n",
    "        p[:,i] = np.exp((s[:,i1:i2]*h).sum(axis=1))/((np.exp(h)).sum(axis=1))\n",
    "        \n",
    "    #like = p.sum(axis=1)\n",
    "    \n",
    "    return p.sum(axis=1)"
   ]
  },
  {
   "cell_type": "code",
   "execution_count": 11,
   "metadata": {},
   "outputs": [],
   "source": [
    "def generate_sequences_vp(w,n_positions,n_residues,n_seq):\n",
    "    n_size = n_residues*n_positions\n",
    "    n_trial = 100*(n_size) #monte carlo steps to find the right sequences\n",
    "    \n",
    "    b = np.zeros((n_size))\n",
    "\n",
    "    trial_seq = np.tile(np.random.randint(0,n_residues,size=(n_positions)),(n_seq,1))\n",
    "    print(trial_seq[0])\n",
    "    enc = OneHotEncoder(n_values=n_residues)\n",
    "    onehot = enc.fit_transform(trial_seq).toarray()\n",
    "    old_nrgy = nrgy(onehot,w) #+ n_positions*(n_residues-1)*np.log(2)\n",
    "    \n",
    "    for trial in range(n_trial):\n",
    "#        print('before',np.mean(old_nrgy))\n",
    "        index_array = np.random.choice(range(n_positions),size=2,replace=False)\n",
    "        index,index1 = index_array[0],index_array[1]\n",
    "        r_trial = np.random.randint(0,n_residues,size=(n_seq))\n",
    "\n",
    "        r_trial1 = np.random.randint(0,n_residues,size=(n_seq))\n",
    "        \n",
    "        mod_seq = np.copy(trial_seq)\n",
    "        mod_seq[:,index] = r_trial\n",
    "\n",
    "        mod_seq[:,index1] = r_trial1\n",
    "\n",
    "        mod_nrgy = nrgy(enc.fit_transform(mod_seq).toarray(),w) #+ n_positions*(n_residues-1)*np.log(2)\n",
    "                \n",
    "        seq_change = mod_nrgy-old_nrgy > np.log(np.random.rand(n_seq))\n",
    "        if trial>n_size:\n",
    "            trial_seq[seq_change,index] = r_trial[seq_change]\n",
    "            trial_seq[seq_change,index1] = r_trial1[seq_change]\n",
    "            old_nrgy[seq_change] = mod_nrgy[seq_change]\n",
    "        else:\n",
    "            best_seq = np.argmax(mod_nrgy-old_nrgy)\n",
    "            trial_seq = np.tile(mod_seq[best_seq],(n_seq,1))\n",
    "            old_nrgy = np.tile(mod_nrgy[best_seq],(n_seq))\n",
    "       \n",
    "        if trial%n_size == 0: print('after',np.mean(old_nrgy))#,trial_seq[0:5])\n",
    "    print(trial_seq[:10,:10])\n",
    "    #return trial_seq\n",
    "    return enc.fit_transform(trial_seq).toarray()"
   ]
  },
  {
   "cell_type": "code",
   "execution_count": 12,
   "metadata": {
    "scrolled": false
   },
   "outputs": [
    {
     "name": "stdout",
     "output_type": "stream",
     "text": [
      "[2 1 1 2 2 2 2 2 1 2 1 2 0 2 2 2 0 1 0 2]\n",
      "('after', 1.3790995069707053)\n",
      "('after', 2.433511847972287)\n",
      "('after', 1.3201973686413764)\n",
      "('after', 1.3171640448794386)\n",
      "('after', 1.3104613172471964)\n",
      "('after', 1.3075919436739367)\n",
      "('after', 1.3066451517261548)\n",
      "('after', 1.305734925077606)\n",
      "('after', 1.324561108034276)\n",
      "('after', 1.3059467879277402)\n",
      "('after', 1.3120644675246498)\n",
      "('after', 1.3104622826167311)\n",
      "('after', 1.3144598752486045)\n",
      "('after', 1.3113788098194123)\n",
      "('after', 1.3037633177354504)\n",
      "('after', 1.304373735140753)\n",
      "('after', 1.3012740435493075)\n",
      "('after', 1.3091317787721621)\n",
      "('after', 1.2918337681515322)\n",
      "('after', 1.2982077465825166)\n",
      "('after', 1.3123682057469148)\n",
      "('after', 1.3147459221449402)\n",
      "('after', 1.3185275835984656)\n",
      "('after', 1.3026645843767002)\n",
      "('after', 1.3198447028644658)\n",
      "('after', 1.3202560908574161)\n",
      "('after', 1.3087256826149507)\n",
      "('after', 1.308143979947865)\n",
      "('after', 1.3110071563084065)\n",
      "('after', 1.3052621254510879)\n",
      "('after', 1.313632829038884)\n",
      "('after', 1.2967827715703508)\n",
      "('after', 1.3196433855115046)\n",
      "('after', 1.3140289432002488)\n",
      "('after', 1.3145731847793816)\n",
      "('after', 1.3158738083295298)\n",
      "('after', 1.3071240180757928)\n",
      "('after', 1.3140461561569787)\n",
      "('after', 1.3057025896920116)\n",
      "('after', 1.3131880494782093)\n",
      "('after', 1.3027679532100518)\n",
      "('after', 1.3019946855270186)\n",
      "('after', 1.318456580992846)\n",
      "('after', 1.3056756155399754)\n",
      "('after', 1.3151068715654406)\n",
      "('after', 1.3080904648075313)\n",
      "('after', 1.3080387200676924)\n",
      "('after', 1.3190418538489428)\n",
      "('after', 1.3101014436938583)\n",
      "('after', 1.3089694919402317)\n",
      "('after', 1.305887425211018)\n",
      "('after', 1.3089259166150304)\n",
      "('after', 1.3037278152082263)\n",
      "('after', 1.3028953223269022)\n",
      "('after', 1.297260797935718)\n",
      "('after', 1.3102445455905394)\n",
      "('after', 1.3113134188183668)\n",
      "('after', 1.3087045870214995)\n",
      "('after', 1.3053931362473046)\n",
      "('after', 1.3057193365396917)\n",
      "('after', 1.3043982941666525)\n",
      "('after', 1.3030473154298146)\n",
      "('after', 1.3152520297452974)\n",
      "('after', 1.3149788033922498)\n",
      "('after', 1.3157542026918023)\n",
      "('after', 1.3212255533106174)\n",
      "('after', 1.3112445428717703)\n",
      "('after', 1.3303974311371114)\n",
      "('after', 1.3089374000703538)\n",
      "('after', 1.3047738890349014)\n",
      "('after', 1.307243437072396)\n",
      "('after', 1.3105576672828068)\n",
      "('after', 1.3026730925590473)\n",
      "('after', 1.321305431961298)\n",
      "('after', 1.3066969729600668)\n",
      "('after', 1.3097943644736674)\n",
      "('after', 1.3133859786717281)\n",
      "('after', 1.308725492126908)\n",
      "('after', 1.3147711657154173)\n",
      "('after', 1.3110514387427408)\n",
      "('after', 1.315425018913372)\n",
      "('after', 1.3090177732233095)\n",
      "('after', 1.3003646501303687)\n",
      "('after', 1.2976907993231777)\n",
      "('after', 1.3226743358119906)\n",
      "('after', 1.3110669834805593)\n",
      "('after', 1.2992998796209434)\n",
      "('after', 1.3003251265641789)\n",
      "('after', 1.2886311492312825)\n",
      "('after', 1.3080510518325266)\n",
      "('after', 1.3103421557667851)\n",
      "('after', 1.3093895626948546)\n",
      "('after', 1.3105355196370803)\n",
      "('after', 1.3193971290021689)\n",
      "('after', 1.3119763871845693)\n",
      "('after', 1.3193359070987758)\n",
      "('after', 1.3070101846025914)\n",
      "('after', 1.3008850774749756)\n",
      "('after', 1.30466800863132)\n",
      "('after', 1.2934321314753512)\n",
      "[[0 1 1 1 2 1 2 2 0 2]\n",
      " [0 2 1 2 0 2 0 1 2 1]\n",
      " [2 1 0 0 1 0 2 0 0 0]\n",
      " [2 1 2 2 0 1 0 0 0 2]\n",
      " [0 2 2 2 1 1 2 0 2 0]\n",
      " [2 2 1 2 0 2 1 2 2 1]\n",
      " [1 0 1 2 1 2 2 2 0 2]\n",
      " [1 1 0 0 2 1 2 2 0 0]\n",
      " [0 0 0 2 2 2 2 2 1 2]\n",
      " [2 2 2 2 2 0 1 0 2 0]]\n"
     ]
    }
   ],
   "source": [
    "s = generate_sequences_vp(w0,n,m,l)"
   ]
  },
  {
   "cell_type": "code",
   "execution_count": 13,
   "metadata": {},
   "outputs": [
    {
     "name": "stdout",
     "output_type": "stream",
     "text": [
      "(3600, 60)\n"
     ]
    }
   ],
   "source": [
    "print(s.shape)"
   ]
  },
  {
   "cell_type": "code",
   "execution_count": 14,
   "metadata": {},
   "outputs": [
    {
     "name": "stdout",
     "output_type": "stream",
     "text": [
      "[[1. 0. 0. 0. 1. 0. 0. 1. 0. 0.]\n",
      " [1. 0. 0. 0. 0. 1. 0. 1. 0. 0.]\n",
      " [0. 0. 1. 0. 1. 0. 1. 0. 0. 1.]\n",
      " [0. 0. 1. 0. 1. 0. 0. 0. 1. 0.]\n",
      " [1. 0. 0. 0. 0. 1. 0. 0. 1. 0.]\n",
      " [0. 0. 1. 0. 0. 1. 0. 1. 0. 0.]\n",
      " [0. 1. 0. 1. 0. 0. 0. 1. 0. 0.]\n",
      " [0. 1. 0. 0. 1. 0. 1. 0. 0. 1.]\n",
      " [1. 0. 0. 1. 0. 0. 1. 0. 0. 0.]\n",
      " [0. 0. 1. 0. 0. 1. 0. 0. 1. 0.]]\n"
     ]
    }
   ],
   "source": [
    "print(s[:10,:10])"
   ]
  },
  {
   "cell_type": "code",
   "execution_count": 15,
   "metadata": {},
   "outputs": [
    {
     "name": "stdout",
     "output_type": "stream",
     "text": [
      "(3600, 20)\n",
      "(20, 3600)\n"
     ]
    }
   ],
   "source": [
    "s_inverse = np.argmax(s.reshape(-1,m),axis=1).reshape(-1,n)\n",
    "\n",
    "print(s_inverse.shape)\n",
    "\n",
    "y = (s_inverse.T).copy()\n",
    "print(y.shape)\n",
    "\n",
    "model = fem.discrete.model()\n",
    "x1, x2 = y[:, :-1], y[:, 1:]\n",
    "model.fit(x1, x2)"
   ]
  },
  {
   "cell_type": "code",
   "execution_count": 16,
   "metadata": {
    "scrolled": true
   },
   "outputs": [
    {
     "data": {
      "image/png": "[encoded data removed]",
      "text/plain": [
       "<Figure size 432x288 with 1 Axes>"
      ]
     },
     "metadata": {},
     "output_type": "display_data"
    }
   ],
   "source": [
    "w_fit_flat = np.hstack([wi for wi in model.w.itervalues()]).flatten()\n",
    "\n",
    "plt.scatter(w0,w_fit_flat.reshape(nm,nm))\n",
    "plt.plot([-1.0,1.0],[-1.0,1.0],'r--')\n",
    "plt.show()"
   ]
  },
  {
   "cell_type": "code",
   "execution_count": 17,
   "metadata": {},
   "outputs": [
    {
     "name": "stdout",
     "output_type": "stream",
     "text": [
      "(57, 57)\n"
     ]
    }
   ],
   "source": [
    "w2 = inference.fit_additive(s,n,m)"
   ]
  },
  {
   "cell_type": "code",
   "execution_count": 18,
   "metadata": {},
   "outputs": [
    {
     "data": {
      "text/plain": [
       "<matplotlib.collections.PathCollection at 0x7f76dbfdacd0>"
      ]
     },
     "execution_count": 18,
     "metadata": {},
     "output_type": "execute_result"
    },
    {
     "data": {
      "image/png": "[encoded data removed]",
      "text/plain": [
       "<Figure size 432x288 with 1 Axes>"
      ]
     },
     "metadata": {},
     "output_type": "display_data"
    }
   ],
   "source": [
    "plt.scatter(w0[0:3,3:],w2)"
   ]
  },
  {
   "cell_type": "code",
   "execution_count": 19,
   "metadata": {},
   "outputs": [],
   "source": [
    "i1tab,i2tab = itab(n,m) \n",
    "\n",
    "nloop = 10\n",
    "nm1 = nm - m\n",
    "\n",
    "wini = np.random.normal(0.0,1./np.sqrt(nm),size=(nm,nm1))\n",
    "\n",
    "i = 0\n",
    "\n",
    "i1,i2 = i1tab[i],i2tab[i]\n",
    "\n",
    "x = np.hstack([s[:,:i1],s[:,i2:]])\n",
    "#x = s[:,i2:].copy()\n",
    "y = s.copy()\n",
    "\n",
    "# covariance[ia,ib]\n",
    "cab_inv = np.empty((m,m,nm1,nm1))\n",
    "eps = np.empty((m,m,l))\n",
    "for ia in range(m):\n",
    "    for ib in range(m):\n",
    "        if ib != ia:\n",
    "            eps[ia,ib,:] = y[:,i1+ia] - y[:,i1+ib]\n",
    "            \n",
    "            which_ab = eps[ia,ib,:] !=0.                    \n",
    "            xab = x[which_ab]          \n",
    "\n",
    "            # ----------------------------\n",
    "            xab_av = np.mean(xab,axis=0)\n",
    "            dxab = xab - xab_av\n",
    "            cab = np.cov(dxab,rowvar=False,bias=True)\n",
    "            cab_inv[ia,ib,:,:] = linalg.pinv(cab,rcond=1e-15)\n",
    "\n",
    "\n",
    "w = wini[i1:i2,:].copy()            \n",
    "for iloop in range(nloop):\n",
    "    h = np.dot(x,w.T)\n",
    "    \n",
    "    for ia in range(m):\n",
    "        wa = np.zeros(nm1)\n",
    "        for ib in range(m):\n",
    "            if ib != ia:\n",
    "\n",
    "                which_ab = eps[ia,ib,:] !=0.\n",
    "\n",
    "                eps_ab = eps[ia,ib,which_ab]\n",
    "                xab = x[which_ab]\n",
    "\n",
    "                # ----------------------------\n",
    "                xab_av = np.mean(xab,axis=0)\n",
    "                dxab = xab - xab_av\n",
    "\n",
    "                h_ab = h[which_ab,ia] - h[which_ab,ib]                    \n",
    "                ha = np.divide(eps_ab*h_ab,np.tanh(h_ab/2.), out=np.zeros_like(h_ab), where=h_ab!=0)                        \n",
    "\n",
    "                dhdx = (ha - ha.mean())[:,np.newaxis]*dxab\n",
    "                dhdx_av = dhdx.mean(axis=0)\n",
    "\n",
    "                wab = cab_inv[ia,ib,:,:].dot(dhdx_av) # wa - wb\n",
    "\n",
    "                wa += wab\n",
    "        w[ia,:] = wa/m"
   ]
  },
  {
   "cell_type": "code",
   "execution_count": 20,
   "metadata": {},
   "outputs": [
    {
     "data": {
      "text/plain": [
       "<matplotlib.collections.PathCollection at 0x7f76dbf5c690>"
      ]
     },
     "execution_count": 20,
     "metadata": {},
     "output_type": "execute_result"
    },
    {
     "data": {
      "image/png": "[encoded data removed]",
      "text/plain": [
       "<Figure size 432x288 with 1 Axes>"
      ]
     },
     "metadata": {},
     "output_type": "display_data"
    }
   ],
   "source": [
    "plt.scatter(w0[i1:i2,i2:],w)"
   ]
  },
  {
   "cell_type": "code",
   "execution_count": null,
   "metadata": {},
   "outputs": [],
   "source": []
  },
  {
   "cell_type": "code",
   "execution_count": null,
   "metadata": {},
   "outputs": [],
   "source": []
  }
 ],
 "metadata": {
  "kernelspec": {
   "display_name": "Python 2",
   "language": "python",
   "name": "python2"
  },
  "language_info": {
   "codemirror_mode": {
    "name": "ipython",
    "version": 2
   },
   "file_extension": ".py",
   "mimetype": "text/x-python",
   "name": "python",
   "nbconvert_exporter": "python",
   "pygments_lexer": "ipython2",
   "version": "2.7.15"
  }
 },
 "nbformat": 4,
 "nbformat_minor": 2
}
