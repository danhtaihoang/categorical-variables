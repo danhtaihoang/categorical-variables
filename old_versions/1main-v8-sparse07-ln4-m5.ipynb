{
 "cells": [
  {
   "cell_type": "markdown",
   "metadata": {},
   "source": [
    "# Network inference of categorical variables: non-sequential data"
   ]
  },
  {
   "cell_type": "code",
   "execution_count": 1,
   "metadata": {},
   "outputs": [],
   "source": [
    "import sys\n",
    "import numpy as np\n",
    "from scipy import linalg\n",
    "from sklearn.preprocessing import OneHotEncoder\n",
    "\n",
    "import matplotlib.pyplot as plt\n",
    "%matplotlib inline\n",
    "\n",
    "import inference"
   ]
  },
  {
   "cell_type": "code",
   "execution_count": 2,
   "metadata": {
    "scrolled": true
   },
   "outputs": [],
   "source": [
    "# setting parameter:\n",
    "np.random.seed(1)\n",
    "\n",
    "n = 20 # number of positions\n",
    "m = 5 # number of values at each position\n",
    "l = int(4*((n*m)**2)) # number of samples\n",
    "g = 2.\n",
    "\n",
    "sp = 0.7 # degree of sparsity\n",
    "nm = n*m"
   ]
  },
  {
   "cell_type": "code",
   "execution_count": 3,
   "metadata": {},
   "outputs": [],
   "source": [
    "def itab(n,m):    \n",
    "    i1 = np.zeros(n)\n",
    "    i2 = np.zeros(n)\n",
    "    for i in range(n):\n",
    "        i1[i] = i*m\n",
    "        i2[i] = (i+1)*m\n",
    "\n",
    "    return i1.astype(int),i2.astype(int)"
   ]
  },
  {
   "cell_type": "code",
   "execution_count": 4,
   "metadata": {},
   "outputs": [],
   "source": [
    "# generate coupling matrix w0:\n",
    "def generate_interactions(n,m,g,sp):\n",
    "    nm = n*m\n",
    "    w = np.random.normal(0.0,g/np.sqrt(nm),size=(nm,nm))\n",
    "    i1tab,i2tab = itab(n,m)\n",
    "\n",
    "    for i in range(n):\n",
    "        for j in range(n):\n",
    "            if (j != i) and (np.random.rand() < sp): \n",
    "                w[i1tab[i]:i2tab[i],i1tab[j]:i2tab[j]] = 0.\n",
    "                           \n",
    "    for i in range(n):        \n",
    "        i1,i2 = i1tab[i],i2tab[i]              \n",
    "        w[i1:i2,:] -= w[i1:i2,:].mean(axis=0)            \n",
    "\n",
    "    for i in range(n):\n",
    "        i1,i2 = i1tab[i],i2tab[i]\n",
    "        w[i1:i2,i1:i2] = 0.   # no self-interactions\n",
    "\n",
    "    for i in range(nm):\n",
    "        for j in range(nm):\n",
    "            if j > i: w[i,j] = w[j,i]  \n",
    "        \n",
    "    return w"
   ]
  },
  {
   "cell_type": "code",
   "execution_count": 5,
   "metadata": {},
   "outputs": [],
   "source": [
    "i1tab,i2tab = itab(n,m)"
   ]
  },
  {
   "cell_type": "code",
   "execution_count": 6,
   "metadata": {},
   "outputs": [],
   "source": [
    "w0 = generate_interactions(n,m,g,sp)"
   ]
  },
  {
   "cell_type": "code",
   "execution_count": 7,
   "metadata": {},
   "outputs": [
    {
     "data": {
      "image/png": "[encoded data removed]",
      "text/plain": [
       "<Figure size 432x288 with 2 Axes>"
      ]
     },
     "metadata": {},
     "output_type": "display_data"
    }
   ],
   "source": [
    "plt.imshow(w0,cmap='rainbow',origin='lower')\n",
    "plt.clim(-0.5,0.5)\n",
    "plt.colorbar(fraction=0.045, pad=0.05,ticks=[-0.5,0,0.5])\n",
    "plt.show()\n",
    "#print(w0)"
   ]
  },
  {
   "cell_type": "code",
   "execution_count": 8,
   "metadata": {},
   "outputs": [],
   "source": [
    "# 2018.11.07: equilibrium\n",
    "def generate_sequences_vp_tai(w,n,m,l):\n",
    "    nm = n*m\n",
    "    nrepeat = 50*n\n",
    "    nrelax = m\n",
    "    \n",
    "    b = np.zeros(nm)\n",
    "\n",
    "    s0 = np.random.randint(0,m,size=(l,n)) # integer values    \n",
    "    enc = OneHotEncoder(n_values=m)\n",
    "    s = enc.fit_transform(s0).toarray()   \n",
    "    \n",
    "    e_old = np.sum(s*(s.dot(w.T)),axis=1)\n",
    "    \n",
    "    for irepeat in range(nrepeat):\n",
    "        for i in range(n):\n",
    "            \n",
    "            for irelax in range(nrelax):            \n",
    "                r_trial = np.random.randint(0,m,size=l)        \n",
    "                s0_trial = s0.copy()\n",
    "                s0_trial[:,i] = r_trial\n",
    "\n",
    "                s = enc.fit_transform(s0_trial).toarray()                                    \n",
    "                e_new = np.sum(s*(s.dot(w.T)),axis=1)\n",
    "\n",
    "                t = np.exp(e_new - e_old) > np.random.rand(l)\n",
    "                s0[t,i] = r_trial[t]\n",
    "                e_old[t] = e_new[t]\n",
    "      \n",
    "        if irepeat%(5*n) == 0: print(irepeat,np.mean(e_old))\n",
    "\n",
    "    return enc.fit_transform(s0).toarray()"
   ]
  },
  {
   "cell_type": "code",
   "execution_count": 9,
   "metadata": {
    "scrolled": true
   },
   "outputs": [
    {
     "name": "stdout",
     "output_type": "stream",
     "text": [
      "(0, 7.5165554142995274)\n",
      "(100, 8.80019319629034)\n",
      "(200, 8.79377730130011)\n",
      "(300, 8.787017124096526)\n",
      "(400, 8.801395003720502)\n",
      "(500, 8.790979319955577)\n",
      "(600, 8.791903333293737)\n",
      "(700, 8.817533821936504)\n",
      "(800, 8.816106573114807)\n",
      "(900, 8.806981066271318)\n"
     ]
    }
   ],
   "source": [
    "s = generate_sequences_vp_tai(w0,n,m,l)"
   ]
  },
  {
   "cell_type": "code",
   "execution_count": 10,
   "metadata": {},
   "outputs": [
    {
     "data": {
      "text/plain": [
       "<matplotlib.collections.PathCollection at 0x7f870ac3ccd0>"
      ]
     },
     "execution_count": 10,
     "metadata": {},
     "output_type": "execute_result"
    },
    {
     "data": {
      "image/png": "[encoded data removed]",
      "text/plain": [
       "<Figure size 432x288 with 1 Axes>"
      ]
     },
     "metadata": {},
     "output_type": "display_data"
    }
   ],
   "source": [
    "## 2018.11.07: for non sequencial data\n",
    "def fit_additive(s,n,m):\n",
    "    nloop = 10\n",
    "    i1tab,i2tab = itab(n,m)\n",
    "\n",
    "    nm = n*m\n",
    "    nm1 = nm - m\n",
    "\n",
    "    w_infer = np.zeros((nm,nm))\n",
    "\n",
    "    for i in range(n):\n",
    "        i1,i2 = i1tab[i],i2tab[i]\n",
    "\n",
    "        # remove column i\n",
    "        x = np.hstack([s[:,:i1],s[:,i2:]])\n",
    "              \n",
    "        x_av = np.mean(x,axis=0)\n",
    "        dx = x - x_av\n",
    "        c = np.cov(dx,rowvar=False,bias=True)\n",
    "        c_inv = linalg.pinv(c,rcond=1e-15)\n",
    "\n",
    "        #print(c_inv.shape)\n",
    "\n",
    "        h = s[:,i1:i2].copy()\n",
    "        for iloop in range(nloop):\n",
    "            h_av = h.mean(axis=0)\n",
    "            dh = h - h_av\n",
    "\n",
    "            dhdx = dh[:,:,np.newaxis]*dx[:,np.newaxis,:]\n",
    "            dhdx_av = dhdx.mean(axis=0)\n",
    "\n",
    "            w = np.dot(dhdx_av,c_inv)\n",
    "            \n",
    "            #w = w - w.mean(axis=0) \n",
    "\n",
    "            h = np.dot(x,w.T)\n",
    "\n",
    "            p = np.exp(h)\n",
    "            p_sum = p.sum(axis=1)\n",
    "            \n",
    "            #p /= p_sum[:,np.newaxis]            \n",
    "            for k in range(m):\n",
    "                p[:,k] = p[:,k]/p_sum[:]\n",
    "            \n",
    "            h += s[:,i1:i2] - p\n",
    "              \n",
    "        w_infer[i1:i2,:i1] = w[:,:i1]\n",
    "        w_infer[i1:i2,i2:] = w[:,i1:]\n",
    "    \n",
    "    return w_infer\n",
    "\n",
    "w2 = fit_additive(s,n,m)\n",
    "\n",
    "plt.plot([-1,1],[-1,1],'r--')\n",
    "plt.scatter(w0,w2)"
   ]
  },
  {
   "cell_type": "code",
   "execution_count": 11,
   "metadata": {},
   "outputs": [],
   "source": [
    "def fit_multiplicative(s,n,m,l):\n",
    "    i1tab,i2tab = itab(n,m) \n",
    "\n",
    "    nloop = 10\n",
    "    nm1 = nm - m\n",
    "\n",
    "    w_infer = np.zeros((nm,nm))\n",
    "    wini = np.random.normal(0.0,1./np.sqrt(nm),size=(nm,nm1))\n",
    "\n",
    "    for i in range(n):\n",
    "\n",
    "        i1,i2 = i1tab[i],i2tab[i]\n",
    "\n",
    "        x = np.hstack([s[:,:i1],s[:,i2:]])\n",
    "        y = s.copy()\n",
    "\n",
    "        # covariance[ia,ib]\n",
    "        cab_inv = np.empty((m,m,nm1,nm1))\n",
    "        eps = np.empty((m,m,l))\n",
    "        for ia in range(m):\n",
    "            for ib in range(m):\n",
    "                if ib != ia:\n",
    "                    eps[ia,ib,:] = y[:,i1+ia] - y[:,i1+ib]\n",
    "\n",
    "                    which_ab = eps[ia,ib,:] !=0.                    \n",
    "                    xab = x[which_ab]          \n",
    "\n",
    "                    # ----------------------------\n",
    "                    xab_av = np.mean(xab,axis=0)\n",
    "                    dxab = xab - xab_av\n",
    "                    cab = np.cov(dxab,rowvar=False,bias=True)\n",
    "                    cab_inv[ia,ib,:,:] = linalg.pinv(cab,rcond=1e-15)\n",
    "\n",
    "        w = wini[i1:i2,:].copy()\n",
    "        cost = np.full(nloop,100.) \n",
    "        for iloop in range(nloop):\n",
    "            h = np.dot(x,w.T)\n",
    "            \n",
    "             # stopping criterion --------------------\n",
    "            p = np.exp(h)\n",
    "            p_sum = p.sum(axis=1)\n",
    "            p /= p_sum[:,np.newaxis]\n",
    "\n",
    "            cost[iloop] = ((y[:,i1:i2] - p[:,:])**2).mean()\n",
    "            if iloop > 1 and cost[iloop] >= cost[iloop-1]: break\n",
    "            \n",
    "            for ia in range(m):\n",
    "                wa = np.zeros(nm1)\n",
    "                for ib in range(m):\n",
    "                    if ib != ia:\n",
    "\n",
    "                        which_ab = eps[ia,ib,:] !=0.\n",
    "\n",
    "                        eps_ab = eps[ia,ib,which_ab]\n",
    "                        xab = x[which_ab]\n",
    "\n",
    "                        # ----------------------------\n",
    "                        xab_av = np.mean(xab,axis=0)\n",
    "                        dxab = xab - xab_av\n",
    "\n",
    "                        h_ab = h[which_ab,ia] - h[which_ab,ib]                    \n",
    "                        ha = np.divide(eps_ab*h_ab,np.tanh(h_ab/2.), out=np.zeros_like(h_ab), where=h_ab!=0)                        \n",
    "\n",
    "                        dhdx = (ha - ha.mean())[:,np.newaxis]*dxab\n",
    "                        dhdx_av = dhdx.mean(axis=0)\n",
    "\n",
    "                        wab = cab_inv[ia,ib,:,:].dot(dhdx_av) # wa - wb\n",
    "\n",
    "                        wa += wab\n",
    "                w[ia,:] = wa/m\n",
    "\n",
    "        w_infer[i1:i2,:i1] = w[:,:i1]\n",
    "        w_infer[i1:i2,i2:] = w[:,i1:]\n",
    "\n",
    "    return w_infer"
   ]
  },
  {
   "cell_type": "code",
   "execution_count": 12,
   "metadata": {},
   "outputs": [
    {
     "data": {
      "text/plain": [
       "<matplotlib.collections.PathCollection at 0x7f870abc9190>"
      ]
     },
     "execution_count": 12,
     "metadata": {},
     "output_type": "execute_result"
    },
    {
     "data": {
      "image/png": "[encoded data removed]",
      "text/plain": [
       "<Figure size 432x288 with 1 Axes>"
      ]
     },
     "metadata": {},
     "output_type": "display_data"
    }
   ],
   "source": [
    "w_infer = fit_multiplicative(s,n,m,l)\n",
    "plt.plot([-1,1],[-1,1],'r--')\n",
    "plt.scatter(w0,w_infer)\n",
    "#plt.scatter(w0[0:3,3:],w[0:3,:])"
   ]
  },
  {
   "cell_type": "code",
   "execution_count": null,
   "metadata": {},
   "outputs": [],
   "source": []
  }
 ],
 "metadata": {
  "kernelspec": {
   "display_name": "Python 2",
   "language": "python",
   "name": "python2"
  },
  "language_info": {
   "codemirror_mode": {
    "name": "ipython",
    "version": 2
   },
   "file_extension": ".py",
   "mimetype": "text/x-python",
   "name": "python",
   "nbconvert_exporter": "python",
   "pygments_lexer": "ipython2",
   "version": "2.7.15"
  }
 },
 "nbformat": 4,
 "nbformat_minor": 2
}
