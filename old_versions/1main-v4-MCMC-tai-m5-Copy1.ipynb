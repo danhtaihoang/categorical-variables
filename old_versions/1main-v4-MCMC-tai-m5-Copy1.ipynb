{
 "cells": [
  {
   "cell_type": "markdown",
   "metadata": {},
   "source": [
    "# Network inference of categorical variables: non-sequential data"
   ]
  },
  {
   "cell_type": "code",
   "execution_count": 1,
   "metadata": {},
   "outputs": [],
   "source": [
    "import sys\n",
    "import numpy as np\n",
    "from scipy import linalg\n",
    "from sklearn.preprocessing import OneHotEncoder\n",
    "\n",
    "import matplotlib.pyplot as plt\n",
    "%matplotlib inline\n",
    "\n",
    "import inference\n",
    "import fem"
   ]
  },
  {
   "cell_type": "code",
   "execution_count": 2,
   "metadata": {
    "scrolled": true
   },
   "outputs": [],
   "source": [
    "# setting parameter:\n",
    "np.random.seed(1)\n",
    "\n",
    "n = 20 # number of positions\n",
    "m = 5 # number of values at each position\n",
    "l = int(((n*m)**2)) # number of samples\n",
    "g = 2.\n",
    "\n",
    "nm = n*m"
   ]
  },
  {
   "cell_type": "code",
   "execution_count": 3,
   "metadata": {},
   "outputs": [],
   "source": [
    "def itab(n,m):    \n",
    "    i1 = np.zeros(n)\n",
    "    i2 = np.zeros(n)\n",
    "    for i in range(n):\n",
    "        i1[i] = i*m\n",
    "        i2[i] = (i+1)*m\n",
    "\n",
    "    return i1.astype(int),i2.astype(int)"
   ]
  },
  {
   "cell_type": "code",
   "execution_count": 4,
   "metadata": {},
   "outputs": [],
   "source": [
    "# generate coupling matrix w0:\n",
    "def generate_interactions(n,m,g):\n",
    "    nm = n*m\n",
    "    w = np.random.normal(0.0,g/np.sqrt(nm),size=(nm,nm))\n",
    "    i1tab,i2tab = itab(n,m)\n",
    "\n",
    "    for i in range(n):        \n",
    "        i1,i2 = i1tab[i],i2tab[i]              \n",
    "        w[i1:i2,:] -= w[i1:i2,:].mean(axis=0)            \n",
    "\n",
    "    for i in range(n):\n",
    "        i1,i2 = i1tab[i],i2tab[i]\n",
    "        w[i1:i2,i1:i2] = 0.   # no self-interactions\n",
    "\n",
    "    #for i in range(nm):\n",
    "    #    for j in range(nm):\n",
    "    #        if j > i: w[i,j] = w[j,i]  \n",
    "        \n",
    "    return w"
   ]
  },
  {
   "cell_type": "code",
   "execution_count": 5,
   "metadata": {},
   "outputs": [],
   "source": [
    "i1tab,i2tab = itab(n,m)"
   ]
  },
  {
   "cell_type": "code",
   "execution_count": 6,
   "metadata": {},
   "outputs": [],
   "source": [
    "w0 = inference.generate_interactions(n,m,g)"
   ]
  },
  {
   "cell_type": "code",
   "execution_count": 7,
   "metadata": {},
   "outputs": [],
   "source": [
    "#plt.imshow(w0,cmap='rainbow',origin='lower')\n",
    "#plt.clim(-0.5,0.5)\n",
    "#plt.colorbar(fraction=0.045, pad=0.05,ticks=[-0.5,0,0.5])\n",
    "#plt.show()\n",
    "#print(w0)"
   ]
  },
  {
   "cell_type": "code",
   "execution_count": 8,
   "metadata": {},
   "outputs": [],
   "source": [
    "def generate_sequences2(w,n,m,l):\n",
    "    i1tab,i2tab = itab(n,m)\n",
    "\n",
    "    # initial s (categorical variables)\n",
    "    s_ini = np.random.randint(0,m,size=(l,n)) # integer values\n",
    "    #print(s_ini)\n",
    "\n",
    "    # onehot encoder \n",
    "    enc = OneHotEncoder(n_values=m)\n",
    "    s = enc.fit_transform(s_ini).toarray()\n",
    "    print(s)\n",
    "\n",
    "    nrepeat = 500\n",
    "    for irepeat in range(nrepeat):\n",
    "        for i in range(n):\n",
    "            i1,i2 = i1tab[i],i2tab[i]\n",
    "\n",
    "            h = s.dot(w[i1:i2,:].T)              # h[t,i1:i2]\n",
    "            h_old = (s[:,i1:i2]*h).sum(axis=1)   # h[t,i0]\n",
    "            k = np.random.randint(0,m,size=l)\n",
    "\n",
    "            for t in range(l):\n",
    "                if np.exp(h[t,k[t]] - h_old[t]) > np.random.rand():\n",
    "                    s[t,i1:i2] = 0.\n",
    "                    s[t,i1+k[t]] = 1.\n",
    "    return s                "
   ]
  },
  {
   "cell_type": "code",
   "execution_count": 9,
   "metadata": {},
   "outputs": [],
   "source": [
    "# 2018.11.07: Tai\n",
    "def nrgy(s,w):   \n",
    "    i1tab,i2tab = itab(n,m)\n",
    "    p = np.zeros((l,n))\n",
    "    for i in range(n):\n",
    "        i1,i2 = i1tab[i],i2tab[i]\n",
    "                \n",
    "        h = s.dot(w[i1:i2,:].T)\n",
    "        #e = (s[:,i1:i2]*h).sum(axis=1)\n",
    "        \n",
    "        #p[:,i] = np.exp(e)        \n",
    "        #p_sum = np.sum(np.exp(h),axis=1)        \n",
    "        #p[:,i] /= p_sum\n",
    "        \n",
    "        p[:,i] = np.exp((s[:,i1:i2]*h).sum(axis=1))/(np.exp(h).sum(axis=1))\n",
    "        \n",
    "    #like = p.sum(axis=1)\n",
    "    \n",
    "    return np.mean(np.log(p),axis=1)"
   ]
  },
  {
   "cell_type": "code",
   "execution_count": 10,
   "metadata": {},
   "outputs": [],
   "source": [
    "# Vipul:\n",
    "def nrgy_vp(onehot,w):\n",
    "    nrgy = onehot*(onehot.dot(w.T))\n",
    "#    print(nrgy - np.log(2*np.cosh(nrgy)))\n",
    "    return np.sum(nrgy - np.log(2*np.cosh(nrgy)),axis=1) #ln prob"
   ]
  },
  {
   "cell_type": "code",
   "execution_count": 11,
   "metadata": {},
   "outputs": [],
   "source": [
    "def generate_sequences_vp(w,n_positions,n_residues,n_seq):\n",
    "    n_size = n_residues*n_positions\n",
    "    n_trial = 100*(n_size) #monte carlo steps to find the right sequences\n",
    "    \n",
    "    b = np.zeros((n_size))\n",
    "\n",
    "    trial_seq = np.tile(np.random.randint(0,n_residues,size=(n_positions)),(n_seq,1))\n",
    "    print(trial_seq[0])\n",
    "    enc = OneHotEncoder(n_values=n_residues)\n",
    "    onehot = enc.fit_transform(trial_seq).toarray()\n",
    "    old_nrgy = nrgy(onehot,w) #+ n_positions*(n_residues-1)*np.log(2)\n",
    "    \n",
    "    for trial in range(n_trial):\n",
    "#        print('before',np.mean(old_nrgy))\n",
    "        index_array = np.random.choice(range(n_positions),size=2,replace=False)\n",
    "        index,index1 = index_array[0],index_array[1]\n",
    "        r_trial = np.random.randint(0,n_residues,size=(n_seq))\n",
    "\n",
    "        r_trial1 = np.random.randint(0,n_residues,size=(n_seq))\n",
    "        \n",
    "        mod_seq = np.copy(trial_seq)\n",
    "        mod_seq[:,index] = r_trial\n",
    "\n",
    "        mod_seq[:,index1] = r_trial1\n",
    "\n",
    "        mod_nrgy = nrgy(enc.fit_transform(mod_seq).toarray(),w) #+ n_positions*(n_residues-1)*np.log(2)\n",
    "                \n",
    "        seq_change = mod_nrgy-old_nrgy > np.log(np.random.rand(n_seq))\n",
    "        #seq_change = mod_nrgy/(old_nrgy+mod_nrgy) > np.random.rand(n_seq)\n",
    "        if trial>n_size:\n",
    "            trial_seq[seq_change,index] = r_trial[seq_change]\n",
    "            trial_seq[seq_change,index1] = r_trial1[seq_change]\n",
    "            old_nrgy[seq_change] = mod_nrgy[seq_change]\n",
    "        else:\n",
    "            best_seq = np.argmax(mod_nrgy-old_nrgy)\n",
    "            trial_seq = np.tile(mod_seq[best_seq],(n_seq,1))\n",
    "            old_nrgy = np.tile(mod_nrgy[best_seq],(n_seq))\n",
    "       \n",
    "        if trial%(10*n_size) == 0: print('after',np.mean(old_nrgy))#,trial_seq[0:5])\n",
    "    print(trial_seq[:10,:10])\n",
    "    #return trial_seq\n",
    "    return enc.fit_transform(trial_seq).toarray()"
   ]
  },
  {
   "cell_type": "code",
   "execution_count": 12,
   "metadata": {
    "scrolled": false
   },
   "outputs": [
    {
     "name": "stdout",
     "output_type": "stream",
     "text": [
      "[2 4 4 2 1 3 3 3 1 3 0 1 4 0 3 4 4 1 4 1]\n",
      "('after', -1.5318592503395694)\n",
      "('after', -1.8426658063417636)\n",
      "('after', -1.845983071723415)\n",
      "('after', -1.8487075392413754)\n",
      "('after', -1.84643855542663)\n",
      "('after', -1.8453667568997865)\n",
      "('after', -1.843903798824297)\n",
      "('after', -1.845136342856089)\n",
      "('after', -1.8453874199202618)\n",
      "('after', -1.841819008523664)\n",
      "[[4 0 3 4 1 3 1 0 2 1]\n",
      " [0 1 4 2 0 0 1 4 0 1]\n",
      " [0 1 0 4 4 3 2 4 0 2]\n",
      " [3 2 4 2 3 1 0 2 4 4]\n",
      " [4 4 3 0 1 4 0 2 2 1]\n",
      " [1 0 0 0 1 0 4 1 2 0]\n",
      " [1 1 3 2 2 1 4 1 3 1]\n",
      " [4 4 4 1 1 0 2 2 3 2]\n",
      " [3 4 0 2 4 4 1 3 4 4]\n",
      " [1 4 4 0 3 0 4 3 0 0]]\n"
     ]
    }
   ],
   "source": [
    "s = generate_sequences_vp(w0,n,m,l)"
   ]
  },
  {
   "cell_type": "code",
   "execution_count": 13,
   "metadata": {},
   "outputs": [
    {
     "name": "stdout",
     "output_type": "stream",
     "text": [
      "(10000, 100)\n"
     ]
    }
   ],
   "source": [
    "print(s.shape)"
   ]
  },
  {
   "cell_type": "code",
   "execution_count": 14,
   "metadata": {},
   "outputs": [
    {
     "name": "stdout",
     "output_type": "stream",
     "text": [
      "[[0. 0. 0. 0. 1. 1. 0. 0. 0. 0.]\n",
      " [1. 0. 0. 0. 0. 0. 1. 0. 0. 0.]\n",
      " [1. 0. 0. 0. 0. 0. 1. 0. 0. 0.]\n",
      " [0. 0. 0. 1. 0. 0. 0. 1. 0. 0.]\n",
      " [0. 0. 0. 0. 1. 0. 0. 0. 0. 1.]\n",
      " [0. 1. 0. 0. 0. 1. 0. 0. 0. 0.]\n",
      " [0. 1. 0. 0. 0. 0. 1. 0. 0. 0.]\n",
      " [0. 0. 0. 0. 1. 0. 0. 0. 0. 1.]\n",
      " [0. 0. 0. 1. 0. 0. 0. 0. 0. 1.]\n",
      " [0. 1. 0. 0. 0. 0. 0. 0. 0. 1.]]\n"
     ]
    }
   ],
   "source": [
    "print(s[:10,:10])"
   ]
  },
  {
   "cell_type": "code",
   "execution_count": 15,
   "metadata": {},
   "outputs": [
    {
     "data": {
      "text/plain": [
       "<matplotlib.collections.PathCollection at 0x7fc667830a50>"
      ]
     },
     "execution_count": 15,
     "metadata": {},
     "output_type": "execute_result"
    },
    {
     "data": {
      "image/png": "[encoded data removed]",
      "text/plain": [
       "<Figure size 432x288 with 1 Axes>"
      ]
     },
     "metadata": {},
     "output_type": "display_data"
    }
   ],
   "source": [
    "## 2018.11.07: for non sequencial data\n",
    "def fit_additive(s,n,m):\n",
    "    nloop = 10\n",
    "    i1tab,i2tab = itab(n,m)\n",
    "\n",
    "    nm = n*m\n",
    "    nm1 = nm - m\n",
    "\n",
    "    w_infer = np.zeros((nm,nm))\n",
    "\n",
    "    for i in range(n):\n",
    "        i1,i2 = i1tab[i],i2tab[i]\n",
    "\n",
    "        # remove column i\n",
    "        x = np.hstack([s[:,:i1],s[:,i2:]])\n",
    "              \n",
    "        x_av = np.mean(x,axis=0)\n",
    "        dx = x - x_av\n",
    "        c = np.cov(dx,rowvar=False,bias=True)\n",
    "        c_inv = linalg.pinv(c,rcond=1e-15)\n",
    "\n",
    "        #print(c_inv.shape)\n",
    "\n",
    "        h = s[:,i1:i2].copy()\n",
    "        for iloop in range(nloop):\n",
    "            h_av = h.mean(axis=0)\n",
    "            dh = h - h_av\n",
    "\n",
    "            dhdx = dh[:,:,np.newaxis]*dx[:,np.newaxis,:]\n",
    "            dhdx_av = dhdx.mean(axis=0)\n",
    "\n",
    "            w = np.dot(dhdx_av,c_inv)\n",
    "            \n",
    "            #w = w - w.mean(axis=0) \n",
    "\n",
    "            h = np.dot(x,w.T)\n",
    "\n",
    "            p = np.exp(h)\n",
    "            p_sum = p.sum(axis=1)\n",
    "            \n",
    "            #p /= p_sum[:,np.newaxis]            \n",
    "            for k in range(m):\n",
    "                p[:,k] = p[:,k]/p_sum[:]\n",
    "            \n",
    "            h += s[:,i1:i2] - p\n",
    "              \n",
    "        w_infer[i1:i2,:i1] = w[:,:i1]\n",
    "        w_infer[i1:i2,i2:] = w[:,i1:]\n",
    "    \n",
    "    return w_infer\n",
    "\n",
    "w2 = fit_additive(s,n,m)\n",
    "\n",
    "plt.plot([-1,1],[-1,1],'r--')\n",
    "plt.scatter(w0,w2)"
   ]
  },
  {
   "cell_type": "code",
   "execution_count": 16,
   "metadata": {},
   "outputs": [],
   "source": [
    "i1tab,i2tab = itab(n,m) \n",
    "\n",
    "nloop = 10\n",
    "nm1 = nm - m\n",
    "\n",
    "w_infer = np.zeros((nm,nm))\n",
    "wini = np.random.normal(0.0,1./np.sqrt(nm),size=(nm,nm1))\n",
    "\n",
    "for i in range(n):\n",
    "\n",
    "    i1,i2 = i1tab[i],i2tab[i]\n",
    "\n",
    "    x = np.hstack([s[:,:i1],s[:,i2:]])\n",
    "    y = s.copy()\n",
    "\n",
    "    # covariance[ia,ib]\n",
    "    cab_inv = np.empty((m,m,nm1,nm1))\n",
    "    eps = np.empty((m,m,l))\n",
    "    for ia in range(m):\n",
    "        for ib in range(m):\n",
    "            if ib != ia:\n",
    "                eps[ia,ib,:] = y[:,i1+ia] - y[:,i1+ib]\n",
    "\n",
    "                which_ab = eps[ia,ib,:] !=0.                    \n",
    "                xab = x[which_ab]          \n",
    "\n",
    "                # ----------------------------\n",
    "                xab_av = np.mean(xab,axis=0)\n",
    "                dxab = xab - xab_av\n",
    "                cab = np.cov(dxab,rowvar=False,bias=True)\n",
    "                cab_inv[ia,ib,:,:] = linalg.pinv(cab,rcond=1e-15)\n",
    "\n",
    "\n",
    "    w = wini[i1:i2,:].copy()            \n",
    "    for iloop in range(nloop):\n",
    "        h = np.dot(x,w.T)\n",
    "\n",
    "        for ia in range(m):\n",
    "            wa = np.zeros(nm1)\n",
    "            for ib in range(m):\n",
    "                if ib != ia:\n",
    "\n",
    "                    which_ab = eps[ia,ib,:] !=0.\n",
    "\n",
    "                    eps_ab = eps[ia,ib,which_ab]\n",
    "                    xab = x[which_ab]\n",
    "\n",
    "                    # ----------------------------\n",
    "                    xab_av = np.mean(xab,axis=0)\n",
    "                    dxab = xab - xab_av\n",
    "\n",
    "                    h_ab = h[which_ab,ia] - h[which_ab,ib]                    \n",
    "                    ha = np.divide(eps_ab*h_ab,np.tanh(h_ab/2.), out=np.zeros_like(h_ab), where=h_ab!=0)                        \n",
    "\n",
    "                    dhdx = (ha - ha.mean())[:,np.newaxis]*dxab\n",
    "                    dhdx_av = dhdx.mean(axis=0)\n",
    "\n",
    "                    wab = cab_inv[ia,ib,:,:].dot(dhdx_av) # wa - wb\n",
    "\n",
    "                    wa += wab\n",
    "            w[ia,:] = wa/m\n",
    "\n",
    "    w_infer[i1:i2,:i1] = w[:,:i1]\n",
    "    w_infer[i1:i2,i2:] = w[:,i1:]\n",
    "    \n",
    "    #return w_infer"
   ]
  },
  {
   "cell_type": "code",
   "execution_count": 17,
   "metadata": {},
   "outputs": [
    {
     "data": {
      "text/plain": [
       "<matplotlib.collections.PathCollection at 0x7fc667764a10>"
      ]
     },
     "execution_count": 17,
     "metadata": {},
     "output_type": "execute_result"
    },
    {
     "data": {
      "image/png": "[encoded data removed]",
      "text/plain": [
       "<Figure size 432x288 with 1 Axes>"
      ]
     },
     "metadata": {},
     "output_type": "display_data"
    }
   ],
   "source": [
    "plt.plot([-1,1],[-1,1],'r--')\n",
    "plt.scatter(w0,w_infer)\n",
    "#plt.scatter(w0[0:3,3:],w[0:3,:])"
   ]
  },
  {
   "cell_type": "code",
   "execution_count": null,
   "metadata": {},
   "outputs": [],
   "source": []
  }
 ],
 "metadata": {
  "kernelspec": {
   "display_name": "Python 2",
   "language": "python",
   "name": "python2"
  },
  "language_info": {
   "codemirror_mode": {
    "name": "ipython",
    "version": 2
   },
   "file_extension": ".py",
   "mimetype": "text/x-python",
   "name": "python",
   "nbconvert_exporter": "python",
   "pygments_lexer": "ipython2",
   "version": "2.7.15"
  }
 },
 "nbformat": 4,
 "nbformat_minor": 2
}
