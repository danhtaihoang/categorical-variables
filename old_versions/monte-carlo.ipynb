{
 "cells": [
  {
   "cell_type": "markdown",
   "metadata": {},
   "source": [
    "# test Monte Carlo"
   ]
  },
  {
   "cell_type": "code",
   "execution_count": 1,
   "metadata": {},
   "outputs": [],
   "source": [
    "import sys\n",
    "import numpy as np\n",
    "from scipy import linalg\n",
    "from sklearn.preprocessing import OneHotEncoder\n",
    "\n",
    "import matplotlib.pyplot as plt\n",
    "%matplotlib inline\n",
    "\n",
    "#import inference\n",
    "#import fem"
   ]
  },
  {
   "cell_type": "code",
   "execution_count": 2,
   "metadata": {
    "scrolled": true
   },
   "outputs": [],
   "source": [
    "# setting parameter:\n",
    "np.random.seed(1)\n",
    "\n",
    "n = 4 # number of positions\n",
    "m = 3 # number of values at each position\n",
    "l = 5\n",
    "\n",
    "g = 2.\n",
    "\n",
    "nm = n*m"
   ]
  },
  {
   "cell_type": "code",
   "execution_count": 3,
   "metadata": {},
   "outputs": [],
   "source": [
    "trial_seq = np.tile(np.random.randint(0,m,size=(n)),(l,1))"
   ]
  },
  {
   "cell_type": "code",
   "execution_count": 4,
   "metadata": {},
   "outputs": [
    {
     "name": "stdout",
     "output_type": "stream",
     "text": [
      "[[1 0 0 1]\n",
      " [1 0 0 1]\n",
      " [1 0 0 1]\n",
      " [1 0 0 1]\n",
      " [1 0 0 1]]\n",
      "(5, 4)\n"
     ]
    }
   ],
   "source": [
    "print(trial_seq)\n",
    "print(trial_seq.shape)"
   ]
  },
  {
   "cell_type": "code",
   "execution_count": 5,
   "metadata": {},
   "outputs": [
    {
     "name": "stdout",
     "output_type": "stream",
     "text": [
      "[0 2]\n"
     ]
    }
   ],
   "source": [
    "index_array = np.random.choice(range(n),size=2,replace=False)\n",
    "print(index_array)"
   ]
  },
  {
   "cell_type": "code",
   "execution_count": 6,
   "metadata": {},
   "outputs": [
    {
     "name": "stdout",
     "output_type": "stream",
     "text": [
      "0\n"
     ]
    }
   ],
   "source": [
    "index = index_array[0]\n",
    "print(index)\n",
    "\n",
    "index1 = index_array[1]\n",
    "print(index1)"
   ]
  },
  {
   "cell_type": "code",
   "execution_count": 8,
   "metadata": {},
   "outputs": [
    {
     "name": "stdout",
     "output_type": "stream",
     "text": [
      "[0 0 1 0 1]\n"
     ]
    }
   ],
   "source": [
    "r_trial = np.random.randint(0,m,size=l)\n",
    "print(r_trial)"
   ]
  },
  {
   "cell_type": "code",
   "execution_count": 9,
   "metadata": {},
   "outputs": [
    {
     "name": "stdout",
     "output_type": "stream",
     "text": [
      "[0 2 1 2 0]\n"
     ]
    }
   ],
   "source": [
    "r_trial1 = np.random.randint(0,m,size=l)\n",
    "print(r_trial1)"
   ]
  },
  {
   "cell_type": "code",
   "execution_count": 10,
   "metadata": {},
   "outputs": [
    {
     "name": "stdout",
     "output_type": "stream",
     "text": [
      "[[1 0 0 1]\n",
      " [1 0 0 1]\n",
      " [1 0 0 1]\n",
      " [1 0 0 1]\n",
      " [1 0 0 1]]\n"
     ]
    }
   ],
   "source": [
    "mod_seq = trial_seq.copy()\n",
    "print(mod_seq)"
   ]
  },
  {
   "cell_type": "code",
   "execution_count": 11,
   "metadata": {},
   "outputs": [
    {
     "name": "stdout",
     "output_type": "stream",
     "text": [
      "[0 0 1 0 1]\n"
     ]
    }
   ],
   "source": [
    "mod_seq[:,index] = r_trial\n",
    "print(mod_seq[:,index])"
   ]
  },
  {
   "cell_type": "code",
   "execution_count": 12,
   "metadata": {},
   "outputs": [
    {
     "name": "stdout",
     "output_type": "stream",
     "text": [
      "[0 2 1 2 0]\n"
     ]
    }
   ],
   "source": [
    "mod_seq[:,index1] = r_trial1\n",
    "print(mod_seq[:,index1])"
   ]
  },
  {
   "cell_type": "code",
   "execution_count": 13,
   "metadata": {},
   "outputs": [],
   "source": [
    "#mod_nrgy = nrgy(csr_matrix(enc.fit_transform(mod_seq)),w,b) + n_positions*(n_residues-1)*np.log(2)\n",
    "                \n",
    "#seq_change = mod_nrgy-old_nrgy > np.log(np.random.rand(n_seq))\n",
    "#trial_seq[seq_change,index] = r_trial[seq_change]\n",
    "#trial_seq[seq_change,index1] = r_trial1[seq_change]\n",
    "#old_nrgy[seq_change] = mod_nrgy[seq_change]"
   ]
  },
  {
   "cell_type": "code",
   "execution_count": 16,
   "metadata": {},
   "outputs": [
    {
     "name": "stdout",
     "output_type": "stream",
     "text": [
      "[[ 1  2]\n",
      " [21 22]]\n",
      "(2, 2)\n"
     ]
    }
   ],
   "source": [
    "h = np.array([[1,2],[21,22]])\n",
    "print(h)\n",
    "print(h.shape)"
   ]
  },
  {
   "cell_type": "code",
   "execution_count": 18,
   "metadata": {},
   "outputs": [
    {
     "name": "stdout",
     "output_type": "stream",
     "text": [
      "[[0.1 0.2]\n",
      " [3.  4. ]]\n",
      "(2, 2)\n"
     ]
    }
   ],
   "source": [
    "a = np.array([[0.1,0.2],[3,4]])\n",
    "print(a)\n",
    "print(a.shape)"
   ]
  },
  {
   "cell_type": "code",
   "execution_count": 20,
   "metadata": {},
   "outputs": [
    {
     "name": "stdout",
     "output_type": "stream",
     "text": [
      "[[ 0.1  0.4]\n",
      " [63.  88. ]]\n",
      "[[ 0.1  0.4]\n",
      " [63.  88. ]]\n"
     ]
    }
   ],
   "source": [
    "b = a*h\n",
    "print(b)\n",
    "\n",
    "c = np.multiply(a,h)\n",
    "print(c)"
   ]
  },
  {
   "cell_type": "code",
   "execution_count": null,
   "metadata": {},
   "outputs": [],
   "source": []
  }
 ],
 "metadata": {
  "kernelspec": {
   "display_name": "Python 2",
   "language": "python",
   "name": "python2"
  },
  "language_info": {
   "codemirror_mode": {
    "name": "ipython",
    "version": 2
   },
   "file_extension": ".py",
   "mimetype": "text/x-python",
   "name": "python",
   "nbconvert_exporter": "python",
   "pygments_lexer": "ipython2",
   "version": "2.7.15"
  }
 },
 "nbformat": 4,
 "nbformat_minor": 2
}
