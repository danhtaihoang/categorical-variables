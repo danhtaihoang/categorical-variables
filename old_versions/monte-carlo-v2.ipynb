{
 "cells": [
  {
   "cell_type": "markdown",
   "metadata": {},
   "source": [
    "# test Monte Carlo"
   ]
  },
  {
   "cell_type": "code",
   "execution_count": 1,
   "metadata": {},
   "outputs": [],
   "source": [
    "import sys\n",
    "import numpy as np\n",
    "from scipy import linalg\n",
    "from sklearn.preprocessing import OneHotEncoder\n",
    "\n",
    "import matplotlib.pyplot as plt\n",
    "%matplotlib inline\n",
    "\n",
    "#import inference\n",
    "#import fem"
   ]
  },
  {
   "cell_type": "code",
   "execution_count": 2,
   "metadata": {
    "scrolled": true
   },
   "outputs": [],
   "source": [
    "# setting parameter:\n",
    "np.random.seed(1)\n",
    "\n",
    "n = 2 # number of positions\n",
    "m = 3 # number of values at each position\n",
    "l = 5\n",
    "\n",
    "g = 2.\n",
    "\n",
    "nm = n*m"
   ]
  },
  {
   "cell_type": "code",
   "execution_count": 3,
   "metadata": {},
   "outputs": [],
   "source": [
    "def itab(n,m):    \n",
    "    i1 = np.zeros(n)\n",
    "    i2 = np.zeros(n)\n",
    "    for i in range(n):\n",
    "        i1[i] = i*m\n",
    "        i2[i] = (i+1)*m\n",
    "\n",
    "    return i1.astype(int),i2.astype(int)"
   ]
  },
  {
   "cell_type": "code",
   "execution_count": 4,
   "metadata": {},
   "outputs": [],
   "source": [
    "nm = n*m\n",
    "w = np.random.normal(0.0,g/np.sqrt(nm),size=(nm,nm))"
   ]
  },
  {
   "cell_type": "code",
   "execution_count": 5,
   "metadata": {},
   "outputs": [],
   "source": [
    "i1tab,i2tab = itab(n,m)"
   ]
  },
  {
   "cell_type": "code",
   "execution_count": 6,
   "metadata": {},
   "outputs": [
    {
     "name": "stdout",
     "output_type": "stream",
     "text": [
      "[[0. 1. 0. 1. 0. 0.]\n",
      " [0. 0. 1. 0. 0. 1.]\n",
      " [0. 0. 1. 1. 0. 0.]\n",
      " [1. 0. 0. 0. 1. 0.]\n",
      " [0. 1. 0. 0. 1. 0.]]\n"
     ]
    }
   ],
   "source": [
    "# initial s (categorical variables)\n",
    "s_ini = np.random.randint(0,m,size=(l,n)) # integer values\n",
    "#print(s_ini)\n",
    "\n",
    "# onehot encoder \n",
    "enc = OneHotEncoder(n_values=m)\n",
    "s = enc.fit_transform(s_ini).toarray()\n",
    "print(s)"
   ]
  },
  {
   "cell_type": "code",
   "execution_count": 8,
   "metadata": {
    "scrolled": true
   },
   "outputs": [
    {
     "name": "stdout",
     "output_type": "stream",
     "text": [
      "(5, 3)\n"
     ]
    }
   ],
   "source": [
    "#t = 0\n",
    "#irepeat = 0\n",
    "i = 0\n",
    "\n",
    "i1,i2 = i1tab[i],i2tab[i]\n",
    "\n",
    "h = s.dot(w[i1:i2,:].T)\n",
    "print(h.shape)"
   ]
  },
  {
   "cell_type": "code",
   "execution_count": 10,
   "metadata": {},
   "outputs": [
    {
     "name": "stdout",
     "output_type": "stream",
     "text": [
      "[-0.82513289  0.20895048  0.02766141  2.03287481  0.5722833 ]\n"
     ]
    }
   ],
   "source": [
    "e = (s[:,i1:i2]*h).sum(axis=1)\n",
    "print(e)"
   ]
  },
  {
   "cell_type": "code",
   "execution_count": 9,
   "metadata": {},
   "outputs": [
    {
     "name": "stdout",
     "output_type": "stream",
     "text": [
      "[[-0.         -0.82513289 -0.        ]\n",
      " [-0.         -0.          0.20895048]\n",
      " [-0.          0.          0.02766141]\n",
      " [ 2.03287481  0.         -0.        ]\n",
      " [ 0.          0.5722833  -0.        ]]\n"
     ]
    }
   ],
   "source": [
    "e = (s[:,i1:i2]*h).sum(axis=1)\n",
    "print(e)"
   ]
  },
  {
   "cell_type": "code",
   "execution_count": 11,
   "metadata": {},
   "outputs": [
    {
     "name": "stdout",
     "output_type": "stream",
     "text": [
      "[0 0 1 1 2]\n"
     ]
    }
   ],
   "source": [
    "k = np.random.randint(0,m,size=l)\n",
    "print(k)"
   ]
  },
  {
   "cell_type": "code",
   "execution_count": 16,
   "metadata": {},
   "outputs": [
    {
     "name": "stdout",
     "output_type": "stream",
     "text": [
      "[-1.37557223 -2.31044891  0.05688427  2.61843897 -0.45436611]\n",
      "<type 'numpy.ndarray'>\n"
     ]
    }
   ],
   "source": [
    "#e_new = np.empty(l)\n",
    "#for t in range(l):\n",
    "#    e_new[t] = h[t,k[t]]\n",
    "#print(e_new)\n",
    "#print(type(e_new))"
   ]
  },
  {
   "cell_type": "code",
   "execution_count": 18,
   "metadata": {},
   "outputs": [
    {
     "name": "stdout",
     "output_type": "stream",
     "text": [
      "[-1.3755722315391408, -2.310448906741323, 0.05688427215092476, 2.6184389713897422, -0.4543661093975928]\n"
     ]
    }
   ],
   "source": [
    "e_new = [h[t,k[t]] for t in range(l)]\n",
    "print(e_new)"
   ]
  },
  {
   "cell_type": "code",
   "execution_count": 19,
   "metadata": {},
   "outputs": [
    {
     "name": "stdout",
     "output_type": "stream",
     "text": [
      "[-0.82513289  0.20895048  0.02766141  2.03287481  0.5722833 ]\n"
     ]
    }
   ],
   "source": [
    "print(e)"
   ]
  },
  {
   "cell_type": "code",
   "execution_count": 21,
   "metadata": {},
   "outputs": [
    {
     "name": "stdout",
     "output_type": "stream",
     "text": [
      "[ True False  True  True  True]\n"
     ]
    }
   ],
   "source": [
    "t0 = np.exp(e_new - e) > np.random.rand(l)\n",
    "print(t0)"
   ]
  },
  {
   "cell_type": "code",
   "execution_count": 22,
   "metadata": {},
   "outputs": [
    {
     "name": "stdout",
     "output_type": "stream",
     "text": [
      "0\n",
      "2\n",
      "3\n",
      "4\n"
     ]
    }
   ],
   "source": [
    "for t in range(l):\n",
    "    if t0[t]: \n",
    "        s[t,i1:i2] = 0.\n",
    "        s[t,i1+k[t]] = 1.\n",
    "            "
   ]
  },
  {
   "cell_type": "code",
   "execution_count": null,
   "metadata": {},
   "outputs": [],
   "source": []
  }
 ],
 "metadata": {
  "kernelspec": {
   "display_name": "Python 2",
   "language": "python",
   "name": "python2"
  },
  "language_info": {
   "codemirror_mode": {
    "name": "ipython",
    "version": 2
   },
   "file_extension": ".py",
   "mimetype": "text/x-python",
   "name": "python",
   "nbconvert_exporter": "python",
   "pygments_lexer": "ipython2",
   "version": "2.7.15"
  }
 },
 "nbformat": 4,
 "nbformat_minor": 2
}
