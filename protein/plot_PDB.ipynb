{
 "cells": [
  {
   "cell_type": "code",
   "execution_count": 1,
   "metadata": {
    "collapsed": false,
    "scrolled": true
   },
   "outputs": [
    {
     "ename": "ImportError",
     "evalue": "No module named ipymol",
     "output_type": "error",
     "traceback": [
      "\u001b[0;31m---------------------------------------------------------------------------\u001b[0m",
      "\u001b[0;31mImportError\u001b[0m                               Traceback (most recent call last)",
      "\u001b[0;32m<ipython-input-1-b043cdcb0b57>\u001b[0m in \u001b[0;36m<module>\u001b[0;34m()\u001b[0m\n\u001b[0;32m----> 1\u001b[0;31m \u001b[0;32mfrom\u001b[0m \u001b[0mipymol\u001b[0m \u001b[0;32mimport\u001b[0m \u001b[0mviewer\u001b[0m\u001b[0;34m\u001b[0m\u001b[0m\n\u001b[0m\u001b[1;32m      2\u001b[0m \u001b[0;32mimport\u001b[0m \u001b[0mtime\u001b[0m\u001b[0;34m\u001b[0m\u001b[0m\n\u001b[1;32m      3\u001b[0m \u001b[0;34m\u001b[0m\u001b[0m\n\u001b[1;32m      4\u001b[0m \u001b[0mviewer\u001b[0m\u001b[0;34m.\u001b[0m\u001b[0mstart\u001b[0m\u001b[0;34m(\u001b[0m\u001b[0;34m)\u001b[0m\u001b[0;34m\u001b[0m\u001b[0m\n\u001b[1;32m      5\u001b[0m \u001b[0mpymol\u001b[0m \u001b[0;34m=\u001b[0m \u001b[0mviewer\u001b[0m\u001b[0;34m.\u001b[0m\u001b[0m_server\u001b[0m\u001b[0;34m\u001b[0m\u001b[0m\n",
      "\u001b[0;31mImportError\u001b[0m: No module named ipymol"
     ]
    }
   ],
   "source": [
    "from ipymol import viewer\n",
    "import time\n",
    "\n",
    "viewer.start()\n",
    "pymol = viewer._server\n",
    "time.sleep(0.5)"
   ]
  },
  {
   "cell_type": "code",
   "execution_count": null,
   "metadata": {
    "collapsed": true
   },
   "outputs": [],
   "source": [
    "def plot_pdb(pdb_id):\n",
    "    \n",
    "    pymol.set('fetch_type_default', 'pdb1')\n",
    "    \n",
    "    pymol.fetch(pdb_id)\n",
    "    pymol.color('palegreen')\n",
    "    pymol.set('distance')\n",
    "    pymol.set('dash_gap', 0)\n",
    "    pymol.set('dash_radius', 0.35)\n",
    "    pymol.set('dash_color', 'red')\n",
    "\n",
    "    for r1, r2 in zip(res1, res2):\n",
    "        s1 = '%s/%i/CA' % (chain, r1)\n",
    "        s2 = '%s/%i/CA' % (chain, r2)\n",
    "        pymol.distance(s1, s2)\n",
    "\n",
    "    pymol.orient()\n",
    "    pymol.hide('labels')\n",
    "    pymol.ray()\n",
    "    pymol.png(pdb_id)\n",
    "\n",
    "    return '%s.png' % (pdb_id)\n",
    "\n",
    "chain = 'A'\n",
    "\n",
    "# proteins 4OO8 and 4CMP\n",
    "# res1 = [238, 239, 241, 241, 282, 292, 292, 312, 327, 346, 413, 449, 462, 470, 475, 495, 496, 497,\n",
    "#  520, 522]\n",
    "# res2 = [299, 335, 258 ,335, 299, 294 ,299, 329, 335, 357, 473, 499, 499, 499, 499, 499, 499, 499,\n",
    "#  524, 524]  \n",
    "\n",
    "# protein 2IA2 and 2G7U\n",
    "# res1 = [ 4,  4,  4,  4,  4, 18, 18, 18, 18, 18, 28, 28, 28, 28, 43, 45, 79,\n",
    "#        79, 82, 82]\n",
    "# res2 = [18, 28, 79, 82, 98, 28, 79, 82, 95, 98, 79, 82, 95, 98, 98, 98, 95,\n",
    "#        98, 95, 98]\n",
    "\n",
    "# proteins 4ZS8 and 4U0V\n",
    "# res1 = [ 4,  4,  4,  4,  4, 18, 18, 18, 18, 18, 28, 28, 28, 28, 43, 45, 79,\n",
    "#        79, 82, 82]\n",
    "# res2 = [18, 28, 79, 82, 98, 28, 79, 82, 95, 98, 79, 82, 95, 98, 98, 98, 95,\n",
    "#        98, 95, 98]\n",
    "\n",
    "      "
   ]
  },
  {
   "cell_type": "code",
   "execution_count": null,
   "metadata": {
    "collapsed": false
   },
   "outputs": [],
   "source": [
    "plot_pdb('2IA2')"
   ]
  }
 ],
 "metadata": {
  "kernelspec": {
   "display_name": "Python 2",
   "language": "python",
   "name": "python2"
  },
  "language_info": {
   "codemirror_mode": {
    "name": "ipython",
    "version": 2
   },
   "file_extension": ".py",
   "mimetype": "text/x-python",
   "name": "python",
   "nbconvert_exporter": "python",
   "pygments_lexer": "ipython2",
   "version": "2.7.13"
  }
 },
 "nbformat": 4,
 "nbformat_minor": 2
}
