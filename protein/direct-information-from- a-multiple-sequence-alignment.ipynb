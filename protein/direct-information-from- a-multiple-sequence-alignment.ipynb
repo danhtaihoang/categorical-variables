{
 "cells": [
  {
   "cell_type": "code",
   "execution_count": null,
   "metadata": {
    "collapsed": true
   },
   "outputs": [],
   "source": [
    "import matplotlib.pyplot as plt\n",
    "from matplotlib import patches\n",
    "import numpy as np\n",
    "import pandas as pd\n",
    "from scipy.spatial import distance_matrix\n",
    "import fem, sys, os, time, Bio.PDB, nglview, warnings\n",
    "pdb_list = Bio.PDB.PDBList()\n",
    "pdb_parser = Bio.PDB.PDBParser()\n",
    "data_dir = '../../../data/msa'\n",
    "sys.path.append(data_dir)\n",
    "from parse_pfam import parse_pfam\n",
    "from Bio import BiopythonWarning\n",
    "warnings.simplefilter('ignore', BiopythonWarning)\n",
    "%matplotlib inline\n",
    "from ipymol import viewer\n",
    "viewer.start()\n",
    "pymol = viewer._server"
   ]
  },
  {
   "cell_type": "code",
   "execution_count": null,
   "metadata": {
    "collapsed": true
   },
   "outputs": [],
   "source": [
    "pfam, pdb_refs = parse_pfam(data_dir)\n",
    "print 'total MSAs: %i, total PDB refs: %i' % (pfam.shape[0], pdb_refs.shape[0])"
   ]
  },
  {
   "cell_type": "code",
   "execution_count": null,
   "metadata": {
    "collapsed": true
   },
   "outputs": [],
   "source": [
    "pfam['size'] = pfam['res'] * pfam['seq']\n",
    "pfam.sort_values(by='size', ascending=False, inplace=True)\n",
    "pfam.head()"
   ]
  },
  {
   "cell_type": "code",
   "execution_count": null,
   "metadata": {
    "collapsed": true
   },
   "outputs": [],
   "source": [
    "# Cas 9 family accesion code\n",
    "ac = 'PF16592'\n",
    "# store the family of interest in the 'fam' variable\n",
    "fam = pfam.loc[ac]\n",
    "print 'size rank: %i of %i' % (pfam['size'].rank(ascending=False)[fam.name].astype(int), pfam.shape[0])\n",
    "\n",
    "# local directory containing data for this MSA\n",
    "fam_dir = os.path.join(data_dir, 'Pfam-A.full', fam.name)\n",
    "# the residue symbols array that is the MSA\n",
    "msa = np.load(os.path.join(fam_dir, 'msa.npy'))\n",
    "\n",
    "# determine which residues are the same across all sequences, excluding gaps\n",
    "aa = np.array([np.unique(s) for s in msa])\n",
    "one_aa = np.array([len(a) == 1 for a in aa])\n",
    "two_aa = np.array([len(a) == 2 for a in aa])\n",
    "missing_aa_res = np.array(['-' in a for a in aa])\n",
    "conserved_residues = one_aa | (two_aa & missing_aa_res)\n",
    "\n",
    "# the number of unique amino acids (or gap symbol) that appear at each residue\n",
    "m = np.array([len(a) for a in aa])\n",
    "m = m[~conserved_residues]\n",
    "n_residues = m.shape[0]\n",
    "\n",
    "pfam[pfam.index == ac]"
   ]
  },
  {
   "cell_type": "code",
   "execution_count": null,
   "metadata": {
    "collapsed": true
   },
   "outputs": [],
   "source": [
    "code = np.zeros(msa.shape, dtype=int)\n",
    "code[conserved_residues] = 2\n",
    "for j, s in enumerate(msa.T):\n",
    "    code[s == '-', j] += 1\n",
    "\n",
    "fig, ax = plt.subplots(1, 1, figsize=(16, 4))\n",
    "ax.set_ylabel('sequence')\n",
    "ax.set_xlabel('residue')\n",
    "cmap = plt.cm.get_cmap('plasma', 4)\n",
    "ax.matshow(code.T, aspect='auto', cmap=cmap)\n",
    "labels = ['active', 'alignment gap', 'conserved residue', 'alignment gap and conserved residue']\n",
    "handles = [patches.Patch(color=cmap(i), label=labels[i]) for i in range(4)]\n",
    "plt.legend(handles=handles, ncol=4)\n",
    "plt.show()"
   ]
  },
  {
   "cell_type": "code",
   "execution_count": null,
   "metadata": {
    "collapsed": true
   },
   "outputs": [],
   "source": [
    "def direct_information(msa, cache=True):\n",
    "\n",
    "    w_file = os.path.join(fam_dir, 'w.npy')\n",
    "    disc_file = os.path.join(fam_dir, 'disc.npy')\n",
    "    if cache and os.path.exists(w_file) and os.path.exists(disc_file):\n",
    "        w = np.load(w_file)\n",
    "        disc = np.load(disc_file)\n",
    "    else:\n",
    "        model = fem.discrete.model()\n",
    "        start = time.time()\n",
    "        model.fit(msa[~conserved_residues], iters=10)\n",
    "        end = time.time()\n",
    "        print 'fit time: %.02f sec' % (end-start,)\n",
    "        w = np.hstack(model.w.values())\n",
    "        disc = model.disc\n",
    "        np.save(w_file, w)\n",
    "        np.save(disc_file, disc)\n",
    "\n",
    "    direct_info_file = os.path.join(fam_dir, 'direct_info.npy')\n",
    "    if cache and os.path.exists(direct_info_file):\n",
    "        direct_info = np.load(direct_info_file)\n",
    "    else:\n",
    "        mm = np.insert(m.cumsum(), 0, 0)\n",
    "        w_idx = np.vstack((mm[:-1], mm[1:])).T\n",
    "        direct_info = np.zeros((n_residues, n_residues))\n",
    "        for i, ii in enumerate(w_idx):\n",
    "            for j, jj in enumerate(w_idx):\n",
    "                p = np.exp(w[ii[0]:ii[1], jj[0]:jj[1]])\n",
    "                pi, pj = p.sum(axis=1), p.sum(axis=0)\n",
    "                p /= p.sum()\n",
    "                pi /= pi.sum()\n",
    "                pj /= pj.sum()\n",
    "                direct_info[i,j] = (p*np.log(p/np.outer(pi, pj))).sum()\n",
    "        np.save(direct_info_file, direct_info)\n",
    "\n",
    "    return direct_info, w, disc\n",
    "\n",
    "direct_info, w, disc = direct_information(msa, cache=False)\n",
    "\n",
    "fig, ax = plt.subplots(1, 3, figsize=(12,4))\n",
    "for d in disc:\n",
    "    ax[0].plot(d, 'k-', lw=0.1)\n",
    "ax[0].set_xlabel('iteration')\n",
    "ax[0].set_ylabel('discrepancy')\n",
    "scale = 1e-1 * np.abs(w).max()\n",
    "ax[1].matshow(w, cmap='seismic', vmin=-scale, vmax=scale)\n",
    "ax[1].set_title('Pfam: %s' % (fam.name,))\n",
    "scale = 1e-1 * np.abs(direct_info).max()\n",
    "ax[2].matshow(direct_info, cmap='seismic', vmin=0, vmax=scale)\n",
    "ax[2].set_title('direct info')\n",
    "for a in ax[1:]:\n",
    "    a.axis('off')\n",
    "plt.show()"
   ]
  },
  {
   "cell_type": "code",
   "execution_count": null,
   "metadata": {
    "collapsed": true
   },
   "outputs": [],
   "source": [
    "refs = pdb_refs[pdb_refs.index.str.contains(fam.name)]\n",
    "refs.head()"
   ]
  },
  {
   "cell_type": "code",
   "execution_count": null,
   "metadata": {
    "collapsed": true
   },
   "outputs": [],
   "source": [
    "def contact_map(ref, dist_thresh=10):\n",
    "    seq = msa[:,ref.seq]\n",
    "    pdb_file = pdb_list.retrieve_pdb_file(ref.pdb_id, pdir=fam_dir, file_format='pdb')\n",
    "    chain = pdb_parser.get_structure(ref.pdb_id, pdb_file)[0][ref.chain]\n",
    "    coords = np.array([a.get_coord() for a in chain.get_atoms()])\n",
    "    coords = coords[ref.pdb_start-1:ref.pdb_end]\n",
    "    missing_aa_seq = seq == '-'\n",
    "    coords = coords[~conserved_residues[~missing_aa_seq]]\n",
    "    return distance_matrix(coords, coords) < dist_thresh\n",
    "\n",
    "def predict_contacts(seq, direct_info, top, k=2):\n",
    "    missing_aa_seq = seq == '-'\n",
    "    di_idx = np.arange((~conserved_residues).sum())\n",
    "    di_idx = di_idx[~missing_aa_seq[~conserved_residues]]\n",
    "    di = direct_info[np.ix_(di_idx, di_idx)]\n",
    "    mask = np.triu(np.ones(di.shape[0], dtype=bool), k=k)\n",
    "    thresh = np.sort(np.abs(di)[mask])[-top]\n",
    "    di[~mask] = 0\n",
    "    predicted_contacts = np.where(di >= thresh)\n",
    "    return predicted_contacts\n",
    "\n",
    "top = 20\n",
    "max_tp = 0\n",
    "best_ref = refs.iloc[0]\n",
    "\n",
    "n_refs = refs.shape[0]\n",
    "r, c = int(1+(n_refs-1)/4.), 4\n",
    "w, h = 12, 3*r\n",
    "fig = plt.figure(figsize=(w,h))\n",
    "for i in range(refs.shape[0]):\n",
    "    ref = refs.iloc[i]\n",
    "    seq = msa[:, ref.seq]\n",
    "    contacts = contact_map(ref)\n",
    "    predicted_contacts = predict_contacts(seq, direct_info, top)\n",
    "    tp = contacts[predicted_contacts].sum()\n",
    "    if tp > max_tp:\n",
    "        max_tp = tp\n",
    "        best_ref = ref\n",
    "\n",
    "    ax = fig.add_subplot(r, c, i+1)\n",
    "    ax.matshow(contacts, cmap='Greys', aspect='auto')\n",
    "    ax.scatter(*predicted_contacts[::-1], c='r')\n",
    "    ax.set_title('%s%s, %i-%i (%02.0f%%)' % (ref.pdb_id, ref.chain, ref.pdb_start, ref.pdb_end, 100.*tp/float(top)))\n",
    "    ax.axis('off')\n",
    "\n",
    "plt.suptitle('top %i contact predictions' % (top,))\n",
    "plt.show()"
   ]
  },
  {
   "cell_type": "code",
   "execution_count": null,
   "metadata": {
    "collapsed": true
   },
   "outputs": [],
   "source": [
    "def plot_pdb(ref, res):\n",
    "\n",
    "    pymol.set('fetch_type_default', 'pdb1')\n",
    "\n",
    "    pymol.fetch(ref.pdb_id)\n",
    "    pymol.color('white')\n",
    "    pymol.set('distance')\n",
    "    pymol.set('dash_gap', 0)\n",
    "    pymol.set('dash_radius', 0.35)\n",
    "    pymol.set('dash_color', 'red')\n",
    "\n",
    "    for r1, r2 in zip(res[0], res[1]):\n",
    "        s1 = '%s/%i/CA' % (ref.chain, r1)\n",
    "        s2 = '%s/%i/CA' % (ref.chain, r2)\n",
    "        pymol.distance(s1, s2)\n",
    "\n",
    "    pymol.orient()\n",
    "    pymol.hide('labels')\n",
    "    pymol.ray()\n",
    "    pymol.png(ref.pdb_id)\n",
    "\n",
    "    return '%s.png' % (ref.pdb_id,)\n",
    "\n",
    "ref = best_ref\n",
    "seq = msa[:, ref.seq]\n",
    "predicted_contacts = predict_contacts(seq, direct_info, top)\n",
    "\n",
    "missing_aa_seq = seq == '-'\n",
    "res = np.arange(ref.pdb_start-1, ref.pdb_end)\n",
    "res = res[~conserved_residues[~missing_aa_seq]]\n",
    "res = [res[i] for i in predicted_contacts]\n",
    "\n",
    "pdb_image = plot_pdb(ref, res)\n",
    "Image('5B2T.png')"
   ]
  },
  {
   "cell_type": "code",
   "execution_count": null,
   "metadata": {
    "collapsed": true
   },
   "outputs": [],
   "source": [
    "def roc(x, c):\n",
    "    mask = np.triu(np.ones(di.shape[0], dtype=bool), k=2)\n",
    "    order = x[mask].argsort()[::-1]\n",
    "    c_flat = c[mask][order]\n",
    "    tp = np.cumsum(c_flat, dtype=float)\n",
    "    fp = np.cumsum(~c_flat, dtype=float)\n",
    "    tp /= tp[-1]\n",
    "    fp /= fp[-1]\n",
    "    return fp, tp\n",
    "\n",
    "fig, ax = plt.subplots(1, 1, figsize=(8, 8))\n",
    "for i in range(refs.shape[0]):\n",
    "    ref = refs.iloc[i]\n",
    "    seq = msa[:, ref.seq]\n",
    "    missing_aa_seq = seq == '-'\n",
    "    di_idx = np.arange((~conserved_residues).sum())\n",
    "    di_idx = di_idx[~missing_aa_seq[~conserved_residues]]\n",
    "    di = direct_info[np.ix_(di_idx, di_idx)]\n",
    "    contacts = contact_map(ref)\n",
    "    fp, tp = roc(di, contacts)\n",
    "    auc = tp.sum() / tp.shape[0]\n",
    "    ax.plot(fp, tp, label='%s%s, %i-%i, AUC: %.02f' % (ref.pdb_id, ref.chain, ref.pdb_start, ref.pdb_end, auc))\n",
    "\n",
    "grid = np.linspace(0, 1)\n",
    "ax.plot(grid, grid, 'r--', lw=1)\n",
    "ax.set_xlabel('false positive rate')\n",
    "ax.set_ylabel('true positive rate')\n",
    "plt.legend()\n",
    "plt.show()"
   ]
  }
 ],
 "metadata": {
  "kernelspec": {
   "display_name": "Python 2",
   "language": "python",
   "name": "python2"
  },
  "language_info": {
   "codemirror_mode": {
    "name": "ipython",
    "version": 2
   },
   "file_extension": ".py",
   "mimetype": "text/x-python",
   "name": "python",
   "nbconvert_exporter": "python",
   "pygments_lexer": "ipython2",
   "version": "2.7.13"
  }
 },
 "nbformat": 4,
 "nbformat_minor": 2
}
